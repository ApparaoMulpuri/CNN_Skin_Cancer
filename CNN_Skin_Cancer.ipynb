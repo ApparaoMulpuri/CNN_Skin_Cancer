{
  "cells": [
    {
      "cell_type": "markdown",
      "metadata": {
        "id": "yDriIbfa5lwD"
      },
      "source": [
        "Problem statement: To build a CNN based model which can accurately detect melanoma. Melanoma is a type of cancer that can be deadly if not detected early. It accounts for 75% of skin cancer deaths. A solution which can evaluate images and alert the dermatologists about the presence of melanoma has the potential to reduce a lot of manual effort needed in diagnosis."
      ]
    },
    {
      "cell_type": "markdown",
      "metadata": {
        "id": "lvR7ppk77v31"
      },
      "source": [
        "### Importing Skin Cancer Data\n",
        "#### To do: Take necessary actions to read the data"
      ]
    },
    {
      "cell_type": "markdown",
      "metadata": {
        "id": "JfcpIXQZN2Rh"
      },
      "source": [
        "### Importing all the important libraries"
      ]
    },
    {
      "cell_type": "code",
      "execution_count": 1,
      "metadata": {
        "id": "WC8xCQuELWms"
      },
      "outputs": [],
      "source": [
        "import pathlib\n",
        "import tensorflow as tf\n",
        "import matplotlib.pyplot as plt\n",
        "import numpy as np\n",
        "import pandas as pd\n",
        "import os\n",
        "import PIL\n",
        "from tensorflow import keras\n",
        "from tensorflow.keras import layers\n",
        "from tensorflow.keras.models import Sequential\n",
        "from glob import glob\n",
        "from tensorflow.keras.layers.experimental.preprocessing import Rescaling\n",
        "from tensorflow.keras.layers import Dense, Dropout, Activation, Flatten, BatchNormalization, Conv2D, MaxPooling2D\n",
        "\n"
      ]
    },
    {
      "cell_type": "code",
      "execution_count": 2,
      "metadata": {
        "colab": {
          "base_uri": "https://localhost:8080/"
        },
        "id": "TYpVPmT5z7AP",
        "outputId": "a81504c4-a614-4d69-ef68-4dc9672280d1"
      },
      "outputs": [
        {
          "output_type": "stream",
          "name": "stdout",
          "text": [
            "Drive already mounted at /content/gdrive; to attempt to forcibly remount, call drive.mount(\"/content/gdrive\", force_remount=True).\n"
          ]
        }
      ],
      "source": [
        "## If you are using the data by mounting the google drive, use the following :\n",
        "from google.colab import drive\n",
        "drive.mount('/content/gdrive')\n",
        "\n",
        "##Ref:https://towardsdatascience.com/downloading-datasets-into-google-drive-via-google-colab-bcb1b30b0166"
      ]
    },
    {
      "cell_type": "markdown",
      "metadata": {
        "id": "RpUsRQwOOL72"
      },
      "source": [
        "This assignment uses a dataset of about 2357 images of skin cancer types. The dataset contains 9 sub-directories in each train and test subdirectories. The 9 sub-directories contains the images of 9 skin cancer types respectively."
      ]
    },
    {
      "cell_type": "code",
      "execution_count": 3,
      "metadata": {
        "id": "D57L-ovIKtI4"
      },
      "outputs": [],
      "source": [
        "# Defining the path for train and test images\n",
        "## Todo: Update the paths of the train and test dataset\n",
        "\n",
        "data_dir_test = pathlib.Path('/content/gdrive/My Drive/GoogleCoLab/SkinImagingCollaboration/Test/')\n",
        "data_dir_train = pathlib.Path(\"/content/gdrive/My Drive/GoogleCoLab/SkinImagingCollaboration/Train/\")"
      ]
    },
    {
      "cell_type": "code",
      "execution_count": 4,
      "metadata": {
        "colab": {
          "base_uri": "https://localhost:8080/"
        },
        "id": "DqksN1w5Fu-N",
        "outputId": "a78aa9ed-b432-406e-d8be-2a7baefc8ec8"
      },
      "outputs": [
        {
          "output_type": "stream",
          "name": "stdout",
          "text": [
            "2239\n",
            "118\n"
          ]
        }
      ],
      "source": [
        "image_count_train = len(list(data_dir_train.glob('*/*.jpg')))\n",
        "print(image_count_train)\n",
        "image_count_test = len(list(data_dir_test.glob('*/*.jpg')))\n",
        "print(image_count_test)"
      ]
    },
    {
      "cell_type": "markdown",
      "metadata": {
        "id": "pQgA0skXUG2x"
      },
      "source": [
        "### Load using keras.preprocessing\n",
        "\n",
        "Let's load these images off disk using the helpful image_dataset_from_directory utility."
      ]
    },
    {
      "cell_type": "markdown",
      "metadata": {
        "id": "cDBKZG3jPcMc"
      },
      "source": [
        "### Create a dataset\n",
        "\n",
        "Define some parameters for the loader:"
      ]
    },
    {
      "cell_type": "code",
      "execution_count": 5,
      "metadata": {
        "id": "VLfcXcZ9LjGv"
      },
      "outputs": [],
      "source": [
        "batch_size = 32\n",
        "img_height = 180\n",
        "img_width = 180\n",
        "seed = 123"
      ]
    },
    {
      "cell_type": "markdown",
      "metadata": {
        "id": "Y5f5y43GPog1"
      },
      "source": [
        "Use 80% of the images for training, and 20% for validation."
      ]
    },
    {
      "cell_type": "code",
      "execution_count": 6,
      "metadata": {
        "colab": {
          "base_uri": "https://localhost:8080/"
        },
        "id": "G1BWmDzr7w-5",
        "outputId": "54cc927b-dab0-4b7b-fe48-a8ee9b5be82b"
      },
      "outputs": [
        {
          "output_type": "stream",
          "name": "stdout",
          "text": [
            "Found 2239 files belonging to 9 classes.\n",
            "Using 1792 files for training.\n"
          ]
        }
      ],
      "source": [
        "## Write your train dataset here\n",
        "## Note use seed=123 while creating your dataset using tf.keras.preprocessing.image_dataset_from_directory\n",
        "## Note, make sure your resize your images to the size img_height*img_width, while writting the dataset\n",
        "\n",
        "##def image_dataset_from_directory(directory, labels='inferred', label_mode='int', class_names=None, color_mode='rgb', \n",
        "#batch_size=32, image_size=(256, 256), shuffle=True, seed=None, validation_split=None, subset=None, \n",
        "#interpolation='bilinear', follow_links=False, crop_to_aspect_ratio=False, **kwargs)\n",
        "train_ds = tf.keras.preprocessing.image_dataset_from_directory(data_dir_train, labels='inferred', label_mode='categorical', \n",
        "                                                               class_names=None, color_mode='rgb', batch_size=batch_size, \n",
        "                                                               image_size=(img_height, img_width), shuffle=True, \n",
        "                                                               seed=seed, validation_split=0.2, subset='training', \n",
        "                                                               interpolation='bilinear', follow_links=False, crop_to_aspect_ratio=False)\n",
        "\n"
      ]
    },
    {
      "cell_type": "code",
      "execution_count": 6,
      "metadata": {
        "id": "FhLadPZ1WkQp"
      },
      "outputs": [],
      "source": [
        ""
      ]
    },
    {
      "cell_type": "code",
      "execution_count": 7,
      "metadata": {
        "colab": {
          "base_uri": "https://localhost:8080/"
        },
        "id": "LYch6-SR-i2g",
        "outputId": "b92c3f22-9fa7-413b-a2fd-445faa38ad72"
      },
      "outputs": [
        {
          "output_type": "stream",
          "name": "stdout",
          "text": [
            "Found 2239 files belonging to 9 classes.\n",
            "Using 447 files for validation.\n"
          ]
        }
      ],
      "source": [
        "## Write your validation dataset here\n",
        "## Note use seed=123 while creating your dataset using tf.keras.preprocessing.image_dataset_from_directory\n",
        "## Note, make sure your resize your images to the size img_height*img_width, while writting the dataset\n",
        "val_ds = tf.keras.preprocessing.image_dataset_from_directory(data_dir_train, labels='inferred', label_mode='categorical', \n",
        "                                                               class_names=None, color_mode='rgb', batch_size=batch_size, \n",
        "                                                               image_size=(img_height, img_width), shuffle=True, \n",
        "                                                               seed=seed, validation_split=0.2, subset='validation', \n",
        "                                                               interpolation='bilinear', follow_links=False, crop_to_aspect_ratio=False)\n"
      ]
    },
    {
      "cell_type": "code",
      "execution_count": 8,
      "metadata": {
        "colab": {
          "base_uri": "https://localhost:8080/"
        },
        "id": "Bk0RV7G7-nad",
        "outputId": "f8bf3943-ec36-44dc-a01e-ab16760eba1c"
      },
      "outputs": [
        {
          "output_type": "stream",
          "name": "stdout",
          "text": [
            "['actinic keratosis', 'basal cell carcinoma', 'dermatofibroma', 'melanoma', 'nevus', 'pigmented benign keratosis', 'seborrheic keratosis', 'squamous cell carcinoma', 'vascular lesion']\n"
          ]
        }
      ],
      "source": [
        "# List out all the classes of skin cancer and store them in a list. \n",
        "# You can find the class names in the class_names attribute on these datasets. \n",
        "# These correspond to the directory names in alphabetical order.\n",
        "class_names = train_ds.class_names\n",
        "print(class_names)"
      ]
    },
    {
      "cell_type": "markdown",
      "metadata": {
        "id": "jbsm5oYiQH_b"
      },
      "source": [
        "### Visualize the data\n",
        "#### Todo, create a code to visualize one instance of all the nine classes present in the dataset"
      ]
    },
    {
      "cell_type": "code",
      "execution_count": 9,
      "metadata": {
        "colab": {
          "base_uri": "https://localhost:8080/",
          "height": 264
        },
        "id": "tKILZ48I-q1k",
        "outputId": "25322c0a-7b23-4f98-ef7e-84fcff8fb598"
      },
      "outputs": [
        {
          "output_type": "display_data",
          "data": {
            "text/plain": [
              "<Figure size 432x288 with 9 Axes>"
            ],
            "image/png": "[encoded data removed]"
          },
          "metadata": {
            "needs_background": "light"
          }
        }
      ],
      "source": [
        "import matplotlib.pyplot as plt\n",
        "\n",
        "### your code goes here, you can use training or validation data to visualize\n",
        "\n",
        "num=0\n",
        "for dirpath, dirnames, filenames in os.walk(str(data_dir_train)):\n",
        "    for filename in [f for f in filenames if f.endswith(\".jpg\")][:1]:\n",
        "        img = PIL.Image.open(str(dirpath)+\"/\"+str(filename))\n",
        "        plt.subplot(3,3,num+1)\n",
        "        plt.title(str(dirpath).split('/')[-1])\n",
        "        plt.axis('off')\n",
        "        plt.imshow(img)\n",
        "        num=num+1\n"
      ]
    },
    {
      "cell_type": "markdown",
      "metadata": {
        "id": "8cAZPYaeQjQy"
      },
      "source": [
        "The `image_batch` is a tensor of the shape `(32, 180, 180, 3)`. This is a batch of 32 images of shape `180x180x3` (the last dimension refers to color channels RGB). The `label_batch` is a tensor of the shape `(32,)`, these are corresponding labels to the 32 images."
      ]
    },
    {
      "cell_type": "markdown",
      "metadata": {
        "id": "jzVXBHiyQ7_I"
      },
      "source": [
        "`Dataset.cache()` keeps the images in memory after they're loaded off disk during the first epoch.\n",
        "\n",
        "`Dataset.prefetch()` overlaps data preprocessing and model execution while training."
      ]
    },
    {
      "cell_type": "code",
      "execution_count": 10,
      "metadata": {
        "id": "7wZlKRBEGNtU"
      },
      "outputs": [],
      "source": [
        "AUTOTUNE = tf.data.experimental.AUTOTUNE\n",
        "train_ds = train_ds.cache().shuffle(1000).prefetch(buffer_size=AUTOTUNE)\n",
        "val_ds = val_ds.cache().prefetch(buffer_size=AUTOTUNE)"
      ]
    },
    {
      "cell_type": "code",
      "execution_count": 11,
      "metadata": {
        "colab": {
          "base_uri": "https://localhost:8080/"
        },
        "id": "uhy1LWTx8tou",
        "outputId": "aa1393ab-8e0f-4d69-aa79-5e5331863a10"
      },
      "outputs": [
        {
          "output_type": "execute_result",
          "data": {
            "text/plain": [
              "<PrefetchDataset element_spec=(TensorSpec(shape=(None, 180, 180, 3), dtype=tf.float32, name=None), TensorSpec(shape=(None, 9), dtype=tf.float32, name=None))>"
            ]
          },
          "metadata": {},
          "execution_count": 11
        }
      ],
      "source": [
        "train_ds"
      ]
    },
    {
      "cell_type": "code",
      "execution_count": 12,
      "metadata": {
        "colab": {
          "base_uri": "https://localhost:8080/"
        },
        "id": "0SXFShkp8tRn",
        "outputId": "7952a659-da7a-4e0c-d3a4-809ad4b17161"
      },
      "outputs": [
        {
          "output_type": "execute_result",
          "data": {
            "text/plain": [
              "<PrefetchDataset element_spec=(TensorSpec(shape=(None, 180, 180, 3), dtype=tf.float32, name=None), TensorSpec(shape=(None, 9), dtype=tf.float32, name=None))>"
            ]
          },
          "metadata": {},
          "execution_count": 12
        }
      ],
      "source": [
        "val_ds"
      ]
    },
    {
      "cell_type": "markdown",
      "metadata": {
        "id": "1JEAF6-sRyz8"
      },
      "source": [
        "### Create the model\n",
        "#### Todo: Create a CNN model, which can accurately detect 9 classes present in the dataset. Use ```layers.experimental.preprocessing.Rescaling``` to normalize pixel values between (0,1). The RGB channel values are in the `[0, 255]` range. This is not ideal for a neural network. Here, it is good to standardize values to be in the `[0, 1]`"
      ]
    },
    {
      "cell_type": "code",
      "execution_count": 13,
      "metadata": {
        "id": "ync9xoW7GZgn"
      },
      "outputs": [],
      "source": [
        "### Your code goes here\n",
        "model=Sequential([\n",
        "    tf.keras.layers.experimental.preprocessing.Rescaling(scale=1./255., offset=0.0,),         \n",
        "    \n",
        "    Conv2D(32,(3,3),input_shape=(img_height,img_width,3),activation='relu',padding='same'),\n",
        "    MaxPooling2D(pool_size=(2,2)),\n",
        "    Dropout(0.1),\n",
        "    \n",
        "    Conv2D(64,(3,3),activation='relu',padding='same'),\n",
        "    MaxPooling2D(pool_size=(2,2)),\n",
        "    Dropout(0.1),\n",
        "    \n",
        "    Flatten(),\n",
        "    Dense(128, activation='relu'),\n",
        "    Dropout(0.25),   \n",
        "    Dense(9, activation='softmax')\n",
        "])"
      ]
    },
    {
      "cell_type": "markdown",
      "metadata": {
        "id": "SDKzJmHwSCtt"
      },
      "source": [
        "### Compile the model\n",
        "Choose an appropirate optimiser and loss function for model training "
      ]
    },
    {
      "cell_type": "code",
      "execution_count": 14,
      "metadata": {
        "id": "XB8wKtiPGe1j"
      },
      "outputs": [],
      "source": [
        "### Todo, choose an appropirate optimiser and loss function\n",
        "#optimizer='rmsprop', loss=None, metrics=None, loss_weights=None, weighted_metrics=None, run_eagerly=None, steps_per_execution=None, jit_compile=None, **kwargs)\n",
        "\n",
        "##model.compile(optimizer='your_optimser',\n",
        "##              loss=your_loss_function_goes_here,\n",
        "##              metrics=['accuracy'])\n",
        "\n",
        "# model.compile(optimizer=tf.keras.optimizers.Adam(learning_rate=1e-3),\n",
        "#               loss=tf.keras.losses.BinaryCrossentropy(),\n",
        "#               metrics=[tf.keras.metrics.BinaryAccuracy()])\n",
        "\n",
        "model.compile(optimizer='adam',\n",
        "              loss='categorical_crossentropy',\n",
        "              metrics=['accuracy'])\n",
        "\n"
      ]
    },
    {
      "cell_type": "markdown",
      "metadata": {
        "id": "ljD_83rwSl5O"
      },
      "source": [
        "### Train the model"
      ]
    },
    {
      "cell_type": "code",
      "execution_count": 15,
      "metadata": {
        "colab": {
          "base_uri": "https://localhost:8080/"
        },
        "id": "Kkfw2rJXGlYC",
        "outputId": "c7d24afb-e3fe-4f98-8355-e6bed18c62e1"
      },
      "outputs": [
        {
          "output_type": "stream",
          "name": "stdout",
          "text": [
            "Epoch 1/20\n",
            "56/56 [==============================] - 180s 635ms/step - loss: 2.7983 - accuracy: 0.2896 - val_loss: 1.6629 - val_accuracy: 0.4295\n",
            "Epoch 2/20\n",
            "56/56 [==============================] - 2s 39ms/step - loss: 1.6394 - accuracy: 0.4314 - val_loss: 1.5310 - val_accuracy: 0.5213\n",
            "Epoch 3/20\n",
            "56/56 [==============================] - 2s 38ms/step - loss: 1.4885 - accuracy: 0.4860 - val_loss: 1.4935 - val_accuracy: 0.5302\n",
            "Epoch 4/20\n",
            "56/56 [==============================] - 2s 39ms/step - loss: 1.3981 - accuracy: 0.5117 - val_loss: 1.5018 - val_accuracy: 0.5280\n",
            "Epoch 5/20\n",
            "56/56 [==============================] - 2s 39ms/step - loss: 1.3178 - accuracy: 0.5391 - val_loss: 1.4131 - val_accuracy: 0.5369\n",
            "Epoch 6/20\n",
            "56/56 [==============================] - 2s 38ms/step - loss: 1.2310 - accuracy: 0.5653 - val_loss: 1.5708 - val_accuracy: 0.5123\n",
            "Epoch 7/20\n",
            "56/56 [==============================] - 2s 39ms/step - loss: 1.2273 - accuracy: 0.5619 - val_loss: 1.4912 - val_accuracy: 0.5056\n",
            "Epoch 8/20\n",
            "56/56 [==============================] - 2s 39ms/step - loss: 1.0962 - accuracy: 0.6049 - val_loss: 1.4067 - val_accuracy: 0.5347\n",
            "Epoch 9/20\n",
            "56/56 [==============================] - 2s 39ms/step - loss: 1.0341 - accuracy: 0.6501 - val_loss: 1.5049 - val_accuracy: 0.5101\n",
            "Epoch 10/20\n",
            "56/56 [==============================] - 2s 41ms/step - loss: 0.9636 - accuracy: 0.6574 - val_loss: 1.5293 - val_accuracy: 0.4989\n",
            "Epoch 11/20\n",
            "56/56 [==============================] - 2s 39ms/step - loss: 0.9246 - accuracy: 0.6752 - val_loss: 1.4122 - val_accuracy: 0.5302\n",
            "Epoch 12/20\n",
            "56/56 [==============================] - 2s 39ms/step - loss: 0.9081 - accuracy: 0.6802 - val_loss: 1.3775 - val_accuracy: 0.5638\n",
            "Epoch 13/20\n",
            "56/56 [==============================] - 2s 38ms/step - loss: 0.7929 - accuracy: 0.7238 - val_loss: 1.6078 - val_accuracy: 0.5145\n",
            "Epoch 14/20\n",
            "56/56 [==============================] - 2s 38ms/step - loss: 0.7133 - accuracy: 0.7422 - val_loss: 1.6795 - val_accuracy: 0.5101\n",
            "Epoch 15/20\n",
            "56/56 [==============================] - 2s 39ms/step - loss: 0.6429 - accuracy: 0.7757 - val_loss: 1.5829 - val_accuracy: 0.5324\n",
            "Epoch 16/20\n",
            "56/56 [==============================] - 2s 39ms/step - loss: 0.5668 - accuracy: 0.7969 - val_loss: 1.7118 - val_accuracy: 0.5526\n",
            "Epoch 17/20\n",
            "56/56 [==============================] - 2s 39ms/step - loss: 0.5460 - accuracy: 0.7963 - val_loss: 1.6848 - val_accuracy: 0.5414\n",
            "Epoch 18/20\n",
            "56/56 [==============================] - 2s 39ms/step - loss: 0.5209 - accuracy: 0.8097 - val_loss: 1.6677 - val_accuracy: 0.5257\n",
            "Epoch 19/20\n",
            "56/56 [==============================] - 2s 39ms/step - loss: 0.5079 - accuracy: 0.8231 - val_loss: 1.8827 - val_accuracy: 0.5123\n",
            "Epoch 20/20\n",
            "56/56 [==============================] - 2s 39ms/step - loss: 0.4092 - accuracy: 0.8510 - val_loss: 1.8851 - val_accuracy: 0.5123\n"
          ]
        }
      ],
      "source": [
        "epochs = 20\n",
        "history = model.fit(\n",
        "  train_ds,\n",
        "  validation_data=val_ds,\n",
        "  epochs=epochs)"
      ]
    },
    {
      "cell_type": "code",
      "execution_count": 16,
      "metadata": {
        "colab": {
          "base_uri": "https://localhost:8080/"
        },
        "id": "1PzmzSxs4qnA",
        "outputId": "97f47acf-d999-4013-f8e9-40a521097736"
      },
      "outputs": [
        {
          "output_type": "stream",
          "name": "stdout",
          "text": [
            "Model: \"sequential\"\n",
            "_________________________________________________________________\n",
            " Layer (type)                Output Shape              Param #   \n",
            "=================================================================\n",
            " rescaling (Rescaling)       (None, 180, 180, 3)       0         \n",
            "                                                                 \n",
            " conv2d (Conv2D)             (None, 180, 180, 32)      896       \n",
            "                                                                 \n",
            " max_pooling2d (MaxPooling2D  (None, 90, 90, 32)       0         \n",
            " )                                                               \n",
            "                                                                 \n",
            " dropout (Dropout)           (None, 90, 90, 32)        0         \n",
            "                                                                 \n",
            " conv2d_1 (Conv2D)           (None, 90, 90, 64)        18496     \n",
            "                                                                 \n",
            " max_pooling2d_1 (MaxPooling  (None, 45, 45, 64)       0         \n",
            " 2D)                                                             \n",
            "                                                                 \n",
            " dropout_1 (Dropout)         (None, 45, 45, 64)        0         \n",
            "                                                                 \n",
            " flatten (Flatten)           (None, 129600)            0         \n",
            "                                                                 \n",
            " dense (Dense)               (None, 128)               16588928  \n",
            "                                                                 \n",
            " dropout_2 (Dropout)         (None, 128)               0         \n",
            "                                                                 \n",
            " dense_1 (Dense)             (None, 9)                 1161      \n",
            "                                                                 \n",
            "=================================================================\n",
            "Total params: 16,609,481\n",
            "Trainable params: 16,609,481\n",
            "Non-trainable params: 0\n",
            "_________________________________________________________________\n"
          ]
        }
      ],
      "source": [
        "# View the summary of all layers\n",
        "model.summary()"
      ]
    },
    {
      "cell_type": "markdown",
      "metadata": {
        "id": "w3679V8OShSE"
      },
      "source": [
        "### Visualizing training results"
      ]
    },
    {
      "cell_type": "code",
      "execution_count": 17,
      "metadata": {
        "colab": {
          "base_uri": "https://localhost:8080/",
          "height": 499
        },
        "id": "R1xkgk5nGubz",
        "outputId": "dcefe11b-9142-4013-c4f7-719897446494"
      },
      "outputs": [
        {
          "output_type": "display_data",
          "data": {
            "text/plain": [
              "<Figure size 576x576 with 2 Axes>"
            ],
            "image/png": "[encoded data removed]"
          },
          "metadata": {
            "needs_background": "light"
          }
        }
      ],
      "source": [
        "acc = history.history['accuracy']\n",
        "val_acc = history.history['val_accuracy']\n",
        "\n",
        "loss = history.history['loss']\n",
        "val_loss = history.history['val_loss']\n",
        "\n",
        "epochs_range = range(epochs)\n",
        "\n",
        "plt.figure(figsize=(8, 8))\n",
        "plt.subplot(1, 2, 1)\n",
        "plt.plot(epochs_range, acc, label='Training Accuracy')\n",
        "plt.plot(epochs_range, val_acc, label='Validation Accuracy')\n",
        "plt.legend(loc='lower right')\n",
        "plt.title('Training and Validation Accuracy')\n",
        "\n",
        "plt.subplot(1, 2, 2)\n",
        "plt.plot(epochs_range, loss, label='Training Loss')\n",
        "plt.plot(epochs_range, val_loss, label='Validation Loss')\n",
        "plt.legend(loc='upper right')\n",
        "plt.title('Training and Validation Loss')\n",
        "plt.show()"
      ]
    },
    {
      "cell_type": "markdown",
      "metadata": {
        "id": "3vRTPbJEn-pX"
      },
      "source": [
        "\n",
        "### Findings here\n",
        "\n",
        "\n",
        "1. Training accuracy is around 85% and Validation accuracy is around 55%\n",
        "2. There is a gap in validation accurcy. This is bacause of Overfit\n",
        "3. Lets retrain the model with adding dropouts"
      ]
    },
    {
      "cell_type": "markdown",
      "metadata": {
        "id": "vZasXm8pJ0wB"
      },
      "source": [
        "### Create the model, compile and train the model\n"
      ]
    },
    {
      "cell_type": "code",
      "execution_count": 18,
      "metadata": {
        "id": "22hljAl6GykA"
      },
      "outputs": [],
      "source": [
        "# Todo, after you have analysed the model fit history for presence of underfit or overfit, choose an appropriate data augumentation strategy. \n",
        "# Your code goes here\n",
        "model_update=Sequential([\n",
        "    tf.keras.layers.experimental.preprocessing.Rescaling(scale=1./255., offset=0.0,),         \n",
        "                             \n",
        "    Conv2D(32,(3,3),input_shape=(img_height,img_width,3),activation='relu',padding='same'),\n",
        "    Conv2D(32,(3,3),activation='relu'),\n",
        "    MaxPooling2D(pool_size=(2,2)),\n",
        "    Dropout(0.5),\n",
        "    \n",
        "    Conv2D(64,(3,3),activation='relu',padding='same'),\n",
        "    Conv2D(64,(3,3),activation='relu'),\n",
        "    MaxPooling2D(pool_size=(2,2)),\n",
        "    Dropout(0.5),\n",
        "    \n",
        "    Conv2D(128,(3,3),activation='relu',padding='same'),\n",
        "    Conv2D(128,(3,3),activation='relu'),\n",
        "    MaxPooling2D(pool_size=(2,2)),\n",
        "    Dropout(0.5),\n",
        "    \n",
        "    Flatten(),\n",
        "    Dense(100, activation='relu'),\n",
        "    Dropout(0.25),   \n",
        "    Dense(9, activation='softmax')\n",
        "])\n"
      ]
    },
    {
      "cell_type": "markdown",
      "metadata": {
        "id": "LnRE5o4MXnUn"
      },
      "source": [
        "### Compiling the model\n"
      ]
    },
    {
      "cell_type": "code",
      "execution_count": 19,
      "metadata": {
        "id": "XEjPWh8GG0C7"
      },
      "outputs": [],
      "source": [
        "model_update.compile(optimizer='adam',\n",
        "              loss='categorical_crossentropy',\n",
        "              metrics='accuracy')\n"
      ]
    },
    {
      "cell_type": "markdown",
      "metadata": {
        "id": "XhKDHlUdTuSX"
      },
      "source": [
        "\n",
        "\n",
        "### Training the model\n"
      ]
    },
    {
      "cell_type": "code",
      "execution_count": 20,
      "metadata": {
        "colab": {
          "base_uri": "https://localhost:8080/"
        },
        "id": "W3V4l-O9G3dM",
        "outputId": "b4e7de0f-8880-475d-c9ed-9c78473301ee"
      },
      "outputs": [
        {
          "output_type": "stream",
          "name": "stdout",
          "text": [
            "Epoch 1/20\n",
            "56/56 [==============================] - 8s 104ms/step - loss: 2.1239 - accuracy: 0.1964 - val_loss: 2.0629 - val_accuracy: 0.1499\n",
            "Epoch 2/20\n",
            "56/56 [==============================] - 5s 92ms/step - loss: 2.0385 - accuracy: 0.1875 - val_loss: 2.0332 - val_accuracy: 0.2058\n",
            "Epoch 3/20\n",
            "56/56 [==============================] - 5s 92ms/step - loss: 2.0307 - accuracy: 0.1920 - val_loss: 2.0350 - val_accuracy: 0.2058\n",
            "Epoch 4/20\n",
            "56/56 [==============================] - 5s 93ms/step - loss: 2.0269 - accuracy: 0.2109 - val_loss: 2.0252 - val_accuracy: 0.2058\n",
            "Epoch 5/20\n",
            "56/56 [==============================] - 5s 93ms/step - loss: 2.0289 - accuracy: 0.1869 - val_loss: 2.0282 - val_accuracy: 0.2058\n",
            "Epoch 6/20\n",
            "56/56 [==============================] - 5s 93ms/step - loss: 2.0287 - accuracy: 0.1914 - val_loss: 2.0308 - val_accuracy: 0.2148\n",
            "Epoch 7/20\n",
            "56/56 [==============================] - 5s 93ms/step - loss: 2.0172 - accuracy: 0.2148 - val_loss: 1.9835 - val_accuracy: 0.2841\n",
            "Epoch 8/20\n",
            "56/56 [==============================] - 5s 93ms/step - loss: 1.9662 - accuracy: 0.2550 - val_loss: 2.0118 - val_accuracy: 0.2170\n",
            "Epoch 9/20\n",
            "56/56 [==============================] - 5s 93ms/step - loss: 1.9508 - accuracy: 0.2550 - val_loss: 1.9443 - val_accuracy: 0.2483\n",
            "Epoch 10/20\n",
            "56/56 [==============================] - 5s 92ms/step - loss: 1.9010 - accuracy: 0.2868 - val_loss: 1.8545 - val_accuracy: 0.3087\n",
            "Epoch 11/20\n",
            "56/56 [==============================] - 5s 93ms/step - loss: 1.8007 - accuracy: 0.3438 - val_loss: 1.6529 - val_accuracy: 0.4183\n",
            "Epoch 12/20\n",
            "56/56 [==============================] - 5s 92ms/step - loss: 1.7498 - accuracy: 0.3521 - val_loss: 1.7387 - val_accuracy: 0.3154\n",
            "Epoch 13/20\n",
            "56/56 [==============================] - 5s 92ms/step - loss: 1.6649 - accuracy: 0.3817 - val_loss: 1.6281 - val_accuracy: 0.4004\n",
            "Epoch 14/20\n",
            "56/56 [==============================] - 5s 93ms/step - loss: 1.6275 - accuracy: 0.4163 - val_loss: 1.6609 - val_accuracy: 0.3826\n",
            "Epoch 15/20\n",
            "56/56 [==============================] - 5s 92ms/step - loss: 1.6187 - accuracy: 0.4213 - val_loss: 1.5724 - val_accuracy: 0.4139\n",
            "Epoch 16/20\n",
            "56/56 [==============================] - 5s 93ms/step - loss: 1.5873 - accuracy: 0.4208 - val_loss: 1.5392 - val_accuracy: 0.4541\n",
            "Epoch 17/20\n",
            "56/56 [==============================] - 5s 94ms/step - loss: 1.5229 - accuracy: 0.4420 - val_loss: 1.5681 - val_accuracy: 0.4676\n",
            "Epoch 18/20\n",
            "56/56 [==============================] - 5s 93ms/step - loss: 1.5075 - accuracy: 0.4626 - val_loss: 1.5601 - val_accuracy: 0.4497\n",
            "Epoch 19/20\n",
            "56/56 [==============================] - 5s 93ms/step - loss: 1.4923 - accuracy: 0.4693 - val_loss: 1.5532 - val_accuracy: 0.4452\n",
            "Epoch 20/20\n",
            "56/56 [==============================] - 5s 93ms/step - loss: 1.4993 - accuracy: 0.4648 - val_loss: 1.6784 - val_accuracy: 0.4094\n"
          ]
        }
      ],
      "source": [
        "epochs = 20\n",
        "history = model_update.fit(\n",
        "  train_ds,\n",
        "  validation_data=val_ds,\n",
        "  epochs=epochs\n",
        ")\n"
      ]
    },
    {
      "cell_type": "markdown",
      "metadata": {
        "id": "JiXWgLqhKO82"
      },
      "source": [
        "### Visualizing training results"
      ]
    },
    {
      "cell_type": "code",
      "execution_count": 21,
      "metadata": {
        "id": "1I5f3aIhKO83",
        "colab": {
          "base_uri": "https://localhost:8080/",
          "height": 499
        },
        "outputId": "b085e5fa-b1c5-4f70-e6cc-c9d81ef0aac4"
      },
      "outputs": [
        {
          "output_type": "display_data",
          "data": {
            "text/plain": [
              "<Figure size 576x576 with 2 Axes>"
            ],
            "image/png": "[encoded data removed]"
          },
          "metadata": {
            "needs_background": "light"
          }
        }
      ],
      "source": [
        "acc = history.history['accuracy']\n",
        "val_acc = history.history['val_accuracy']\n",
        "\n",
        "loss = history.history['loss']\n",
        "val_loss = history.history['val_loss']\n",
        "\n",
        "epochs_range = range(epochs)\n",
        "\n",
        "plt.figure(figsize=(8, 8))\n",
        "plt.subplot(1, 2, 1)\n",
        "plt.plot(epochs_range, acc, label='Training Accuracy')\n",
        "plt.plot(epochs_range, val_acc, label='Validation Accuracy')\n",
        "plt.legend(loc='lower right')\n",
        "plt.title('Training and Validation Accuracy')\n",
        "\n",
        "plt.subplot(1, 2, 2)\n",
        "plt.plot(epochs_range, loss, label='Training Loss')\n",
        "plt.plot(epochs_range, val_loss, label='Validation Loss')\n",
        "plt.legend(loc='upper right')\n",
        "plt.title('Training and Validation Loss')\n",
        "plt.show()"
      ]
    },
    {
      "cell_type": "markdown",
      "metadata": {
        "id": "kC-D_RWOURp6"
      },
      "source": [
        "### Findings"
      ]
    },
    {
      "cell_type": "markdown",
      "metadata": {
        "id": "IhNOKtSyUYzC"
      },
      "source": [
        "Now the training accuracy is 47% and validation accuracy is 45%. So there is no much gap between these two. Will consilder this model as not overfit and its better than the previous model"
      ]
    },
    {
      "cell_type": "markdown",
      "metadata": {
        "id": "7TdDi4u-VTkW"
      },
      "source": [
        "#### **Todo:** Find the distribution of classes in the training dataset.\n",
        "#### **Context:** Many times real life datasets can have class imbalance, one class can have proportionately higher number of samples compared to the others. Class imbalance can have a detrimental effect on the final model quality. Hence as a sanity check it becomes important to check what is the distribution of classes in the data."
      ]
    },
    {
      "cell_type": "code",
      "execution_count": 22,
      "metadata": {
        "colab": {
          "base_uri": "https://localhost:8080/"
        },
        "id": "HAhwYgtTQRzq",
        "outputId": "fa52dde4-ebe7-4668-e697-d2786e69d8f4"
      },
      "outputs": [
        {
          "output_type": "stream",
          "name": "stdout",
          "text": [
            "['actinic keratosis', 'basal cell carcinoma', 'dermatofibroma', 'melanoma', 'nevus', 'pigmented benign keratosis', 'seborrheic keratosis', 'squamous cell carcinoma', 'vascular lesion']\n"
          ]
        }
      ],
      "source": [
        "## Your code goes here.\n",
        "class_names \n",
        "print(class_names)\n",
        "\n"
      ]
    },
    {
      "cell_type": "markdown",
      "metadata": {
        "id": "4csQL1dvO0b2"
      },
      "source": [
        "#### **Todo:** Write your findings here: \n",
        "#### - Which class has the least number of samples?\n",
        "#### - Which classes dominate the data in terms proportionate number of samples?\n"
      ]
    },
    {
      "cell_type": "markdown",
      "metadata": {
        "id": "Hb-stKyHPf8v"
      },
      "source": [
        "#### **Todo:** Rectify the class imbalance\n",
        "#### **Context:** You can use a python package known as `Augmentor` (https://augmentor.readthedocs.io/en/master/) to add more samples across all classes so that none of the classes have very few samples."
      ]
    },
    {
      "cell_type": "code",
      "execution_count": 23,
      "metadata": {
        "id": "ItAg4rU-SzJh",
        "colab": {
          "base_uri": "https://localhost:8080/"
        },
        "outputId": "c7fb6075-45fc-4615-9c1a-e034606ef86e"
      },
      "outputs": [
        {
          "output_type": "stream",
          "name": "stdout",
          "text": [
            "Looking in indexes: https://pypi.org/simple, https://us-python.pkg.dev/colab-wheels/public/simple/\n",
            "Collecting Augmentor\n",
            "  Downloading Augmentor-0.2.10-py2.py3-none-any.whl (38 kB)\n",
            "Requirement already satisfied: Pillow>=5.2.0 in /usr/local/lib/python3.7/dist-packages (from Augmentor) (7.1.2)\n",
            "Requirement already satisfied: tqdm>=4.9.0 in /usr/local/lib/python3.7/dist-packages (from Augmentor) (4.64.0)\n",
            "Requirement already satisfied: numpy>=1.11.0 in /usr/local/lib/python3.7/dist-packages (from Augmentor) (1.21.6)\n",
            "Requirement already satisfied: future>=0.16.0 in /usr/local/lib/python3.7/dist-packages (from Augmentor) (0.16.0)\n",
            "Installing collected packages: Augmentor\n",
            "Successfully installed Augmentor-0.2.10\n"
          ]
        }
      ],
      "source": [
        "!pip install Augmentor"
      ]
    },
    {
      "cell_type": "markdown",
      "metadata": {
        "id": "BZKzTe3zWL4O"
      },
      "source": [
        "To use `Augmentor`, the following general procedure is followed:\n",
        "\n",
        "1. Instantiate a `Pipeline` object pointing to a directory containing your initial image data set.<br>\n",
        "2. Define a number of operations to perform on this data set using your `Pipeline` object.<br>\n",
        "3. Execute these operations by calling the `Pipeline’s` `sample()` method.\n"
      ]
    },
    {
      "cell_type": "code",
      "execution_count": 24,
      "metadata": {
        "id": "9Egt9EHjR-Dd",
        "colab": {
          "base_uri": "https://localhost:8080/"
        },
        "outputId": "f2d90819-4562-4808-9ebd-b9f9d113e213"
      },
      "outputs": [
        {
          "output_type": "stream",
          "name": "stdout",
          "text": [
            "Initialised with 114 image(s) found.\n",
            "Output directory set to /content/gdrive/My Drive/GoogleCoLab/SkinImagingCollaboration/Train/actinic keratosis/output."
          ]
        },
        {
          "output_type": "stream",
          "name": "stderr",
          "text": [
            "Processing <PIL.Image.Image image mode=RGB size=600x450 at 0x7FB4D0171C50>: 100%|██████████| 500/500 [00:20<00:00, 24.53 Samples/s]\n"
          ]
        },
        {
          "output_type": "stream",
          "name": "stdout",
          "text": [
            "Initialised with 376 image(s) found.\n",
            "Output directory set to /content/gdrive/My Drive/GoogleCoLab/SkinImagingCollaboration/Train/basal cell carcinoma/output."
          ]
        },
        {
          "output_type": "stream",
          "name": "stderr",
          "text": [
            "Processing <PIL.JpegImagePlugin.JpegImageFile image mode=RGB size=600x450 at 0x7FB4D36C6F50>: 100%|██████████| 500/500 [00:21<00:00, 23.21 Samples/s]\n"
          ]
        },
        {
          "output_type": "stream",
          "name": "stdout",
          "text": [
            "Initialised with 95 image(s) found.\n",
            "Output directory set to /content/gdrive/My Drive/GoogleCoLab/SkinImagingCollaboration/Train/dermatofibroma/output."
          ]
        },
        {
          "output_type": "stream",
          "name": "stderr",
          "text": [
            "Processing <PIL.Image.Image image mode=RGB size=600x450 at 0x7FB56608CCD0>: 100%|██████████| 500/500 [00:22<00:00, 22.19 Samples/s]\n"
          ]
        },
        {
          "output_type": "stream",
          "name": "stdout",
          "text": [
            "Initialised with 438 image(s) found.\n",
            "Output directory set to /content/gdrive/My Drive/GoogleCoLab/SkinImagingCollaboration/Train/melanoma/output."
          ]
        },
        {
          "output_type": "stream",
          "name": "stderr",
          "text": [
            "Processing <PIL.Image.Image image mode=RGB size=1024x768 at 0x7FB4D00388D0>: 100%|██████████| 500/500 [01:33<00:00,  5.33 Samples/s]\n"
          ]
        },
        {
          "output_type": "stream",
          "name": "stdout",
          "text": [
            "Initialised with 357 image(s) found.\n",
            "Output directory set to /content/gdrive/My Drive/GoogleCoLab/SkinImagingCollaboration/Train/nevus/output."
          ]
        },
        {
          "output_type": "stream",
          "name": "stderr",
          "text": [
            "Processing <PIL.Image.Image image mode=RGB size=1007x711 at 0x7FB56608CCD0>: 100%|██████████| 500/500 [01:34<00:00,  5.29 Samples/s]\n"
          ]
        },
        {
          "output_type": "stream",
          "name": "stdout",
          "text": [
            "Initialised with 462 image(s) found.\n",
            "Output directory set to /content/gdrive/My Drive/GoogleCoLab/SkinImagingCollaboration/Train/pigmented benign keratosis/output."
          ]
        },
        {
          "output_type": "stream",
          "name": "stderr",
          "text": [
            "Processing <PIL.Image.Image image mode=RGB size=600x450 at 0x7FB4D0112A90>: 100%|██████████| 500/500 [00:17<00:00, 27.84 Samples/s]\n"
          ]
        },
        {
          "output_type": "stream",
          "name": "stdout",
          "text": [
            "Initialised with 77 image(s) found.\n",
            "Output directory set to /content/gdrive/My Drive/GoogleCoLab/SkinImagingCollaboration/Train/seborrheic keratosis/output."
          ]
        },
        {
          "output_type": "stream",
          "name": "stderr",
          "text": [
            "Processing <PIL.Image.Image image mode=RGB size=1024x768 at 0x7FB5FB7A5DD0>: 100%|██████████| 500/500 [00:40<00:00, 12.25 Samples/s]\n"
          ]
        },
        {
          "output_type": "stream",
          "name": "stdout",
          "text": [
            "Initialised with 181 image(s) found.\n",
            "Output directory set to /content/gdrive/My Drive/GoogleCoLab/SkinImagingCollaboration/Train/squamous cell carcinoma/output."
          ]
        },
        {
          "output_type": "stream",
          "name": "stderr",
          "text": [
            "Processing <PIL.JpegImagePlugin.JpegImageFile image mode=RGB size=600x450 at 0x7FB4D003E910>: 100%|██████████| 500/500 [00:17<00:00, 27.85 Samples/s]\n"
          ]
        },
        {
          "output_type": "stream",
          "name": "stdout",
          "text": [
            "Initialised with 139 image(s) found.\n",
            "Output directory set to /content/gdrive/My Drive/GoogleCoLab/SkinImagingCollaboration/Train/vascular lesion/output."
          ]
        },
        {
          "output_type": "stream",
          "name": "stderr",
          "text": [
            "Processing <PIL.Image.Image image mode=RGB size=600x450 at 0x7FB5FB7A5750>: 100%|██████████| 500/500 [00:18<00:00, 27.49 Samples/s]\n"
          ]
        }
      ],
      "source": [
        "path_to_training_dataset='/content/gdrive/My Drive/GoogleCoLab/SkinImagingCollaboration/Train/'\n",
        "import Augmentor\n",
        "for i in class_names:\n",
        "    p = Augmentor.Pipeline(path_to_training_dataset + i)\n",
        "    p.rotate(probability=0.7, max_left_rotation=10, max_right_rotation=10)\n",
        "    p.sample(500) ## We are adding 500 samples per class to make sure that none of the classes are sparse."
      ]
    },
    {
      "cell_type": "markdown",
      "metadata": {
        "id": "CcBIFZGbWuFa"
      },
      "source": [
        "Augmentor has stored the augmented images in the output sub-directory of each of the sub-directories of skin cancer types.. Lets take a look at total count of augmented images."
      ]
    },
    {
      "cell_type": "code",
      "execution_count": 25,
      "metadata": {
        "id": "jxWcMqZhdRWz",
        "colab": {
          "base_uri": "https://localhost:8080/"
        },
        "outputId": "b4f97766-7fd2-4344-c587-91f60331ae3e"
      },
      "outputs": [
        {
          "output_type": "stream",
          "name": "stdout",
          "text": [
            "4500\n"
          ]
        }
      ],
      "source": [
        "image_count_train = len(list(data_dir_train.glob('*/output/*.jpg')))\n",
        "print(image_count_train)"
      ]
    },
    {
      "cell_type": "markdown",
      "metadata": {
        "id": "IJ5KarKq4kWJ"
      },
      "source": [
        "### Lets see the distribution of augmented data after adding new images to the original training data."
      ]
    },
    {
      "cell_type": "code",
      "execution_count": 26,
      "metadata": {
        "id": "6tODrYIY2nxJ",
        "colab": {
          "base_uri": "https://localhost:8080/"
        },
        "outputId": "f7748f81-b16c-456c-d172-4225e8068094"
      },
      "outputs": [
        {
          "output_type": "execute_result",
          "data": {
            "text/plain": [
              "['/content/gdrive/My Drive/GoogleCoLab/SkinImagingCollaboration/Train/dermatofibroma/output/dermatofibroma_original_ISIC_0032613.jpg_58ee10b2-2701-44a0-836b-7e53ecd06026.jpg',\n",
              " '/content/gdrive/My Drive/GoogleCoLab/SkinImagingCollaboration/Train/dermatofibroma/output/dermatofibroma_original_ISIC_0029177.jpg_e64856d3-f734-469c-9bda-77df891880c8.jpg',\n",
              " '/content/gdrive/My Drive/GoogleCoLab/SkinImagingCollaboration/Train/dermatofibroma/output/dermatofibroma_original_ISIC_0027044.jpg_24b81fcd-47f6-433b-81cb-1846eca3f012.jpg',\n",
              " '/content/gdrive/My Drive/GoogleCoLab/SkinImagingCollaboration/Train/dermatofibroma/output/dermatofibroma_original_ISIC_0026471.jpg_97ebd5ab-96eb-4262-a861-49a327538a9b.jpg',\n",
              " '/content/gdrive/My Drive/GoogleCoLab/SkinImagingCollaboration/Train/dermatofibroma/output/dermatofibroma_original_ISIC_0029248.jpg_81beab4e-65f5-45b8-9a41-726b36974e39.jpg',\n",
              " '/content/gdrive/My Drive/GoogleCoLab/SkinImagingCollaboration/Train/dermatofibroma/output/dermatofibroma_original_ISIC_0025223.jpg_99b997fa-2c8a-45b5-8cb4-0c762b340bc1.jpg',\n",
              " '/content/gdrive/My Drive/GoogleCoLab/SkinImagingCollaboration/Train/dermatofibroma/output/dermatofibroma_original_ISIC_0031827.jpg_2f954912-2be1-4e9e-a604-1af09fc1ca43.jpg',\n",
              " '/content/gdrive/My Drive/GoogleCoLab/SkinImagingCollaboration/Train/dermatofibroma/output/dermatofibroma_original_ISIC_0025594.jpg_ac7980af-9fbf-4a65-acc9-f3597d732168.jpg',\n",
              " '/content/gdrive/My Drive/GoogleCoLab/SkinImagingCollaboration/Train/dermatofibroma/output/dermatofibroma_original_ISIC_0031344.jpg_b9c702b3-fb2e-4dff-9470-e1a6c163eac5.jpg',\n",
              " '/content/gdrive/My Drive/GoogleCoLab/SkinImagingCollaboration/Train/dermatofibroma/output/dermatofibroma_original_ISIC_0028790.jpg_533b777d-8052-4a1e-800d-68ce95d4ff9e.jpg',\n",
              " '/content/gdrive/My Drive/GoogleCoLab/SkinImagingCollaboration/Train/dermatofibroma/output/dermatofibroma_original_ISIC_0031827.jpg_eed6202d-8c01-4407-83f5-2c2b1e64ccd4.jpg',\n",
              " '/content/gdrive/My Drive/GoogleCoLab/SkinImagingCollaboration/Train/dermatofibroma/output/dermatofibroma_original_ISIC_0033860.jpg_a79e7709-8ed7-4241-8299-73526f54e76a.jpg',\n",
              " '/content/gdrive/My Drive/GoogleCoLab/SkinImagingCollaboration/Train/dermatofibroma/output/dermatofibroma_original_ISIC_0033780.jpg_e2ba5f2f-058b-4437-ac75-d75dc97b0d21.jpg',\n",
              " '/content/gdrive/My Drive/GoogleCoLab/SkinImagingCollaboration/Train/dermatofibroma/output/dermatofibroma_original_ISIC_0028735.jpg_b4f4a3ff-0748-410e-95c5-05f8d2b7025e.jpg',\n",
              " '/content/gdrive/My Drive/GoogleCoLab/SkinImagingCollaboration/Train/dermatofibroma/output/dermatofibroma_original_ISIC_0027141.jpg_7f0673a8-d18c-4f1b-bdeb-5c680eb087a1.jpg',\n",
              " '/content/gdrive/My Drive/GoogleCoLab/SkinImagingCollaboration/Train/dermatofibroma/output/dermatofibroma_original_ISIC_0027008.jpg_c681cc7f-6a9c-40c0-81da-dfbee99c150a.jpg',\n",
              " '/content/gdrive/My Drive/GoogleCoLab/SkinImagingCollaboration/Train/dermatofibroma/output/dermatofibroma_original_ISIC_0025771.jpg_bcc02783-1837-4501-b86d-840ebf44f80f.jpg',\n",
              " '/content/gdrive/My Drive/GoogleCoLab/SkinImagingCollaboration/Train/dermatofibroma/output/dermatofibroma_original_ISIC_0027626.jpg_d43b7202-6a57-49a7-b095-211018a1dadc.jpg',\n",
              " '/content/gdrive/My Drive/GoogleCoLab/SkinImagingCollaboration/Train/dermatofibroma/output/dermatofibroma_original_ISIC_0030757.jpg_9b4f5994-1b73-45d0-9834-015afd6cff2c.jpg',\n",
              " '/content/gdrive/My Drive/GoogleCoLab/SkinImagingCollaboration/Train/dermatofibroma/output/dermatofibroma_original_ISIC_0033790.jpg_04a6239c-6e35-4137-81bc-e545f1178167.jpg',\n",
              " '/content/gdrive/My Drive/GoogleCoLab/SkinImagingCollaboration/Train/dermatofibroma/output/dermatofibroma_original_ISIC_0025771.jpg_5cee4d1e-6d75-4142-9302-a9f5bdfa9455.jpg',\n",
              " '/content/gdrive/My Drive/GoogleCoLab/SkinImagingCollaboration/Train/dermatofibroma/output/dermatofibroma_original_ISIC_0026473.jpg_629e89e4-973f-4949-b6b4-eac16f8392ff.jpg',\n",
              " '/content/gdrive/My Drive/GoogleCoLab/SkinImagingCollaboration/Train/dermatofibroma/output/dermatofibroma_original_ISIC_0033780.jpg_493e8cae-8849-4896-8e89-e28c51a4c967.jpg',\n",
              " '/content/gdrive/My Drive/GoogleCoLab/SkinImagingCollaboration/Train/dermatofibroma/output/dermatofibroma_original_ISIC_0032114.jpg_68951f21-9428-4bf3-a8bc-a59ed8367907.jpg',\n",
              " '/content/gdrive/My Drive/GoogleCoLab/SkinImagingCollaboration/Train/dermatofibroma/output/dermatofibroma_original_ISIC_0031257.jpg_c0a3c8e9-d142-4c48-a829-08ba4e1f7be8.jpg',\n",
              " '/content/gdrive/My Drive/GoogleCoLab/SkinImagingCollaboration/Train/dermatofibroma/output/dermatofibroma_original_ISIC_0027745.jpg_8c152bfa-562f-44b4-b872-6dc720bd512e.jpg',\n",
              " '/content/gdrive/My Drive/GoogleCoLab/SkinImagingCollaboration/Train/dermatofibroma/output/dermatofibroma_original_ISIC_0031257.jpg_7c37b3a4-6fd3-4015-9d13-63fb933cf2d8.jpg',\n",
              " '/content/gdrive/My Drive/GoogleCoLab/SkinImagingCollaboration/Train/dermatofibroma/output/dermatofibroma_original_ISIC_0028346.jpg_05773ef6-c46b-468c-a150-5f656a7b026b.jpg',\n",
              " '/content/gdrive/My Drive/GoogleCoLab/SkinImagingCollaboration/Train/dermatofibroma/output/dermatofibroma_original_ISIC_0027107.jpg_b1774580-d618-4cdd-9de7-f415af7adca7.jpg',\n",
              " '/content/gdrive/My Drive/GoogleCoLab/SkinImagingCollaboration/Train/dermatofibroma/output/dermatofibroma_original_ISIC_0027745.jpg_c60ba48e-6dc9-4e77-ba55-242c24b8ad97.jpg',\n",
              " '/content/gdrive/My Drive/GoogleCoLab/SkinImagingCollaboration/Train/dermatofibroma/output/dermatofibroma_original_ISIC_0032468.jpg_c6990061-e21f-4cde-8e7d-cf678064266b.jpg',\n",
              " '/content/gdrive/My Drive/GoogleCoLab/SkinImagingCollaboration/Train/dermatofibroma/output/dermatofibroma_original_ISIC_0033891.jpg_ada5704a-85e7-4049-933a-1f8b17b7fada.jpg',\n",
              " '/content/gdrive/My Drive/GoogleCoLab/SkinImagingCollaboration/Train/dermatofibroma/output/dermatofibroma_original_ISIC_0027745.jpg_09134c5a-d69f-4782-9750-f0514443d860.jpg',\n",
              " '/content/gdrive/My Drive/GoogleCoLab/SkinImagingCollaboration/Train/dermatofibroma/output/dermatofibroma_original_ISIC_0028651.jpg_a9992cc4-bf3d-4c21-b6cf-a28a6455ca47.jpg',\n",
              " '/content/gdrive/My Drive/GoogleCoLab/SkinImagingCollaboration/Train/dermatofibroma/output/dermatofibroma_original_ISIC_0030870.jpg_fc42ff49-8aad-43df-b772-f3140ef53e04.jpg',\n",
              " '/content/gdrive/My Drive/GoogleCoLab/SkinImagingCollaboration/Train/dermatofibroma/output/dermatofibroma_original_ISIC_0025903.jpg_40b8f4f7-98f7-44ec-a230-a90952387104.jpg',\n",
              " '/content/gdrive/My Drive/GoogleCoLab/SkinImagingCollaboration/Train/dermatofibroma/output/dermatofibroma_original_ISIC_0033847.jpg_9d8d478b-0d9f-4316-b40f-504c902b2f57.jpg',\n",
              " '/content/gdrive/My Drive/GoogleCoLab/SkinImagingCollaboration/Train/dermatofibroma/output/dermatofibroma_original_ISIC_0025622.jpg_3c419e76-ac27-472c-af6e-1c5dcf1d484d.jpg',\n",
              " '/content/gdrive/My Drive/GoogleCoLab/SkinImagingCollaboration/Train/dermatofibroma/output/dermatofibroma_original_ISIC_0032941.jpg_b5140c2b-f61d-4e41-91f0-327ee67c30ac.jpg',\n",
              " '/content/gdrive/My Drive/GoogleCoLab/SkinImagingCollaboration/Train/dermatofibroma/output/dermatofibroma_original_ISIC_0029052.jpg_2b208977-4fc1-46a8-b155-0a1974b71fd5.jpg',\n",
              " '/content/gdrive/My Drive/GoogleCoLab/SkinImagingCollaboration/Train/dermatofibroma/output/dermatofibroma_original_ISIC_0031257.jpg_00d5d3e8-96bb-4584-bd61-530470f0237b.jpg',\n",
              " '/content/gdrive/My Drive/GoogleCoLab/SkinImagingCollaboration/Train/dermatofibroma/output/dermatofibroma_original_ISIC_0031309.jpg_f7669130-79fb-4629-9320-5a8d30f51bc8.jpg',\n",
              " '/content/gdrive/My Drive/GoogleCoLab/SkinImagingCollaboration/Train/dermatofibroma/output/dermatofibroma_original_ISIC_0030321.jpg_a4c4ffaa-8687-421f-8462-be3a664906d9.jpg',\n",
              " '/content/gdrive/My Drive/GoogleCoLab/SkinImagingCollaboration/Train/dermatofibroma/output/dermatofibroma_original_ISIC_0033675.jpg_b836bfb9-fa47-445d-a428-51b8f72ccdc6.jpg',\n",
              " '/content/gdrive/My Drive/GoogleCoLab/SkinImagingCollaboration/Train/dermatofibroma/output/dermatofibroma_original_ISIC_0029783.jpg_481cf02c-c30d-45c5-b9e0-33cca14fdfdd.jpg',\n",
              " '/content/gdrive/My Drive/GoogleCoLab/SkinImagingCollaboration/Train/dermatofibroma/output/dermatofibroma_original_ISIC_0033695.jpg_11fd804a-e8b7-4b24-aa01-d80141b131c1.jpg',\n",
              " '/content/gdrive/My Drive/GoogleCoLab/SkinImagingCollaboration/Train/dermatofibroma/output/dermatofibroma_original_ISIC_0034135.jpg_9851f152-ff6d-4801-97e8-1aa1db153456.jpg',\n",
              " '/content/gdrive/My Drive/GoogleCoLab/SkinImagingCollaboration/Train/dermatofibroma/output/dermatofibroma_original_ISIC_0030757.jpg_778e87cf-cb69-4f11-b4c1-58ed2eb9f95a.jpg',\n",
              " '/content/gdrive/My Drive/GoogleCoLab/SkinImagingCollaboration/Train/dermatofibroma/output/dermatofibroma_original_ISIC_0028926.jpg_3879e991-d4db-4107-b543-073cd3f10801.jpg',\n",
              " '/content/gdrive/My Drive/GoogleCoLab/SkinImagingCollaboration/Train/dermatofibroma/output/dermatofibroma_original_ISIC_0029130.jpg_b8b66ccf-4885-4d01-85e2-6838cc4d3006.jpg',\n",
              " '/content/gdrive/My Drive/GoogleCoLab/SkinImagingCollaboration/Train/dermatofibroma/output/dermatofibroma_original_ISIC_0033790.jpg_4e4146e5-bcb5-4eed-b72a-756156fc101c.jpg',\n",
              " '/content/gdrive/My Drive/GoogleCoLab/SkinImagingCollaboration/Train/dermatofibroma/output/dermatofibroma_original_ISIC_0029824.jpg_50a95eec-5347-4d0d-b12b-f36236a62b45.jpg',\n",
              " '/content/gdrive/My Drive/GoogleCoLab/SkinImagingCollaboration/Train/dermatofibroma/output/dermatofibroma_original_ISIC_0029052.jpg_754f742f-b0ab-46f4-abf0-323ce083f260.jpg',\n",
              " '/content/gdrive/My Drive/GoogleCoLab/SkinImagingCollaboration/Train/dermatofibroma/output/dermatofibroma_original_ISIC_0030442.jpg_27e270c4-0f84-424f-8f68-69c3e15e20ce.jpg',\n",
              " '/content/gdrive/My Drive/GoogleCoLab/SkinImagingCollaboration/Train/dermatofibroma/output/dermatofibroma_original_ISIC_0030021.jpg_fe3fceb4-8316-4d00-bebb-ee6e004fa0ae.jpg',\n",
              " '/content/gdrive/My Drive/GoogleCoLab/SkinImagingCollaboration/Train/dermatofibroma/output/dermatofibroma_original_ISIC_0033860.jpg_38563816-99ec-42f6-b13d-80762c926509.jpg',\n",
              " '/content/gdrive/My Drive/GoogleCoLab/SkinImagingCollaboration/Train/dermatofibroma/output/dermatofibroma_original_ISIC_0029297.jpg_7840c51e-a0db-43f5-8c84-a5bdfc657133.jpg',\n",
              " '/content/gdrive/My Drive/GoogleCoLab/SkinImagingCollaboration/Train/dermatofibroma/output/dermatofibroma_original_ISIC_0033891.jpg_b37e4126-b32c-4bba-a4a8-2f7fb33f68c2.jpg',\n",
              " '/content/gdrive/My Drive/GoogleCoLab/SkinImagingCollaboration/Train/dermatofibroma/output/dermatofibroma_original_ISIC_0032613.jpg_11961475-c744-48dd-a36e-790b7c071d63.jpg',\n",
              " '/content/gdrive/My Drive/GoogleCoLab/SkinImagingCollaboration/Train/dermatofibroma/output/dermatofibroma_original_ISIC_0025223.jpg_140a1b45-aa08-4809-98f9-57be5f627129.jpg',\n",
              " '/content/gdrive/My Drive/GoogleCoLab/SkinImagingCollaboration/Train/dermatofibroma/output/dermatofibroma_original_ISIC_0031257.jpg_fafb4529-bb41-4eba-aaec-b7d5735cd19a.jpg',\n",
              " '/content/gdrive/My Drive/GoogleCoLab/SkinImagingCollaboration/Train/dermatofibroma/output/dermatofibroma_original_ISIC_0030579.jpg_a8653489-8a85-407f-b044-b5115ee6ee6b.jpg',\n",
              " '/content/gdrive/My Drive/GoogleCoLab/SkinImagingCollaboration/Train/dermatofibroma/output/dermatofibroma_original_ISIC_0031799.jpg_7e131583-3199-47dd-b9f3-28167667875a.jpg',\n",
              " '/content/gdrive/My Drive/GoogleCoLab/SkinImagingCollaboration/Train/dermatofibroma/output/dermatofibroma_original_ISIC_0029297.jpg_f048d730-f1ad-445b-9556-425cd976dc73.jpg',\n",
              " '/content/gdrive/My Drive/GoogleCoLab/SkinImagingCollaboration/Train/dermatofibroma/output/dermatofibroma_original_ISIC_0029824.jpg_87a61490-dedc-46e0-a66d-838b7f67f211.jpg',\n",
              " '/content/gdrive/My Drive/GoogleCoLab/SkinImagingCollaboration/Train/dermatofibroma/output/dermatofibroma_original_ISIC_0029177.jpg_67eba160-e622-4a94-ba0a-69b78abb4f44.jpg',\n",
              " '/content/gdrive/My Drive/GoogleCoLab/SkinImagingCollaboration/Train/dermatofibroma/output/dermatofibroma_original_ISIC_0033675.jpg_5e671228-45e1-4795-8956-72b9e55b0eb0.jpg',\n",
              " '/content/gdrive/My Drive/GoogleCoLab/SkinImagingCollaboration/Train/dermatofibroma/output/dermatofibroma_original_ISIC_0033808.jpg_b645c827-d894-4e31-992a-1523fe691d87.jpg',\n",
              " '/content/gdrive/My Drive/GoogleCoLab/SkinImagingCollaboration/Train/dermatofibroma/output/dermatofibroma_original_ISIC_0033790.jpg_3dbe0dbf-9fd6-4110-ae54-c77bc90caabd.jpg',\n",
              " '/content/gdrive/My Drive/GoogleCoLab/SkinImagingCollaboration/Train/dermatofibroma/output/dermatofibroma_original_ISIC_0032613.jpg_d81ae27a-623d-4b64-81f8-edb1ddab6c6e.jpg',\n",
              " '/content/gdrive/My Drive/GoogleCoLab/SkinImagingCollaboration/Train/dermatofibroma/output/dermatofibroma_original_ISIC_0033780.jpg_ca6e5f71-de0f-4562-b2a1-227131ceebec.jpg',\n",
              " '/content/gdrive/My Drive/GoogleCoLab/SkinImagingCollaboration/Train/dermatofibroma/output/dermatofibroma_original_ISIC_0030021.jpg_f8482f51-bd55-49f0-bc68-a4dfb34e8b42.jpg',\n",
              " '/content/gdrive/My Drive/GoogleCoLab/SkinImagingCollaboration/Train/dermatofibroma/output/dermatofibroma_original_ISIC_0034135.jpg_65ba7ec7-e2ac-4247-9217-f2546aa1f167.jpg',\n",
              " '/content/gdrive/My Drive/GoogleCoLab/SkinImagingCollaboration/Train/dermatofibroma/output/dermatofibroma_original_ISIC_0027008.jpg_d7ace789-d566-4089-9420-60aa23fe0752.jpg',\n",
              " '/content/gdrive/My Drive/GoogleCoLab/SkinImagingCollaboration/Train/dermatofibroma/output/dermatofibroma_original_ISIC_0027141.jpg_0deec0b0-d1e9-406c-b06a-5d8bbad4e1e2.jpg',\n",
              " '/content/gdrive/My Drive/GoogleCoLab/SkinImagingCollaboration/Train/dermatofibroma/output/dermatofibroma_original_ISIC_0031257.jpg_d6b48faf-023c-4491-a029-606b669b595d.jpg',\n",
              " '/content/gdrive/My Drive/GoogleCoLab/SkinImagingCollaboration/Train/dermatofibroma/output/dermatofibroma_original_ISIC_0030665.jpg_b86c0547-e83d-4d99-bd74-90c2156fbba1.jpg',\n",
              " '/content/gdrive/My Drive/GoogleCoLab/SkinImagingCollaboration/Train/dermatofibroma/output/dermatofibroma_original_ISIC_0029783.jpg_eb7b87a0-11fd-4650-96ef-d1ed0f270dbd.jpg',\n",
              " '/content/gdrive/My Drive/GoogleCoLab/SkinImagingCollaboration/Train/dermatofibroma/output/dermatofibroma_original_ISIC_0031344.jpg_1fdaa3e0-fc2f-450e-8165-0be1799f1696.jpg',\n",
              " '/content/gdrive/My Drive/GoogleCoLab/SkinImagingCollaboration/Train/dermatofibroma/output/dermatofibroma_original_ISIC_0031735.jpg_f0420146-2bd1-4479-95c5-c9c02eb819e1.jpg',\n",
              " '/content/gdrive/My Drive/GoogleCoLab/SkinImagingCollaboration/Train/dermatofibroma/output/dermatofibroma_original_ISIC_0031799.jpg_9facad3f-eca1-49d2-adf5-24afbb458967.jpg',\n",
              " '/content/gdrive/My Drive/GoogleCoLab/SkinImagingCollaboration/Train/dermatofibroma/output/dermatofibroma_original_ISIC_0032247.jpg_08c72d3f-b684-42a8-99c4-21dca4e5f91c.jpg',\n",
              " '/content/gdrive/My Drive/GoogleCoLab/SkinImagingCollaboration/Train/dermatofibroma/output/dermatofibroma_original_ISIC_0025903.jpg_411cb445-684f-472f-82be-f39bbce73013.jpg',\n",
              " '/content/gdrive/My Drive/GoogleCoLab/SkinImagingCollaboration/Train/dermatofibroma/output/dermatofibroma_original_ISIC_0032247.jpg_2ad7a251-5023-4972-abd5-1833628118f9.jpg',\n",
              " '/content/gdrive/My Drive/GoogleCoLab/SkinImagingCollaboration/Train/dermatofibroma/output/dermatofibroma_original_ISIC_0029248.jpg_db2cc029-e90f-419f-b4ea-1978b6f95e7b.jpg',\n",
              " '/content/gdrive/My Drive/GoogleCoLab/SkinImagingCollaboration/Train/dermatofibroma/output/dermatofibroma_original_ISIC_0025594.jpg_96b87311-26d1-4ceb-acca-c151642a8342.jpg',\n",
              " '/content/gdrive/My Drive/GoogleCoLab/SkinImagingCollaboration/Train/dermatofibroma/output/dermatofibroma_original_ISIC_0030021.jpg_261f7586-6d16-458e-8c77-42dcc941d252.jpg',\n",
              " '/content/gdrive/My Drive/GoogleCoLab/SkinImagingCollaboration/Train/dermatofibroma/output/dermatofibroma_original_ISIC_0029824.jpg_3b07da02-fef8-44ab-b176-f2970ba1ac1b.jpg',\n",
              " '/content/gdrive/My Drive/GoogleCoLab/SkinImagingCollaboration/Train/dermatofibroma/output/dermatofibroma_original_ISIC_0028880.jpg_fef7583d-e508-4884-9099-9598e5139236.jpg',\n",
              " '/content/gdrive/My Drive/GoogleCoLab/SkinImagingCollaboration/Train/dermatofibroma/output/dermatofibroma_original_ISIC_0032247.jpg_ee0458e1-8a9f-4743-b0bc-e5ce0f5c9052.jpg',\n",
              " '/content/gdrive/My Drive/GoogleCoLab/SkinImagingCollaboration/Train/dermatofibroma/output/dermatofibroma_original_ISIC_0027216.jpg_ea1e0b86-5ce8-4e95-88bd-35fc00946420.jpg',\n",
              " '/content/gdrive/My Drive/GoogleCoLab/SkinImagingCollaboration/Train/dermatofibroma/output/dermatofibroma_original_ISIC_0031735.jpg_e403e923-cd73-426a-8546-2269a102d6f2.jpg',\n",
              " '/content/gdrive/My Drive/GoogleCoLab/SkinImagingCollaboration/Train/dermatofibroma/output/dermatofibroma_original_ISIC_0027044.jpg_d7ccfa5d-d75e-437a-acf2-82568b38a669.jpg',\n",
              " '/content/gdrive/My Drive/GoogleCoLab/SkinImagingCollaboration/Train/dermatofibroma/output/dermatofibroma_original_ISIC_0028880.jpg_c217eb49-fe9c-40c9-915e-28d5131e902c.jpg',\n",
              " '/content/gdrive/My Drive/GoogleCoLab/SkinImagingCollaboration/Train/dermatofibroma/output/dermatofibroma_original_ISIC_0027216.jpg_32906891-2ca6-432c-8a7b-ab25c91c44c1.jpg',\n",
              " '/content/gdrive/My Drive/GoogleCoLab/SkinImagingCollaboration/Train/dermatofibroma/output/dermatofibroma_original_ISIC_0026629.jpg_acad346b-d781-47b0-8845-5020a8425054.jpg',\n",
              " '/content/gdrive/My Drive/GoogleCoLab/SkinImagingCollaboration/Train/dermatofibroma/output/dermatofibroma_original_ISIC_0031457.jpg_69e9d335-01c1-4b32-b8d7-8ff687982a5d.jpg',\n",
              " '/content/gdrive/My Drive/GoogleCoLab/SkinImagingCollaboration/Train/dermatofibroma/output/dermatofibroma_original_ISIC_0027044.jpg_4961b619-3fd6-44a2-a359-aacdd3c9b265.jpg',\n",
              " '/content/gdrive/My Drive/GoogleCoLab/SkinImagingCollaboration/Train/dermatofibroma/output/dermatofibroma_original_ISIC_0026254.jpg_65994817-556f-4352-9d7b-b99519c67639.jpg',\n",
              " '/content/gdrive/My Drive/GoogleCoLab/SkinImagingCollaboration/Train/dermatofibroma/output/dermatofibroma_original_ISIC_0031257.jpg_98b2048e-f88a-4010-a647-963f9ef94be3.jpg',\n",
              " '/content/gdrive/My Drive/GoogleCoLab/SkinImagingCollaboration/Train/dermatofibroma/output/dermatofibroma_original_ISIC_0026313.jpg_0f37512f-00c3-48b6-aec2-d862a5838586.jpg',\n",
              " '/content/gdrive/My Drive/GoogleCoLab/SkinImagingCollaboration/Train/dermatofibroma/output/dermatofibroma_original_ISIC_0029130.jpg_82eb4000-5a96-4ada-8394-b28d54e4ad1b.jpg',\n",
              " '/content/gdrive/My Drive/GoogleCoLab/SkinImagingCollaboration/Train/dermatofibroma/output/dermatofibroma_original_ISIC_0033005.jpg_f7fd25a0-5b3d-4bb5-a83c-548dd4e871e6.jpg',\n",
              " '/content/gdrive/My Drive/GoogleCoLab/SkinImagingCollaboration/Train/dermatofibroma/output/dermatofibroma_original_ISIC_0025622.jpg_d50d1fb4-c865-460a-bcbd-966ff9855d9e.jpg',\n",
              " '/content/gdrive/My Drive/GoogleCoLab/SkinImagingCollaboration/Train/dermatofibroma/output/dermatofibroma_original_ISIC_0033695.jpg_e526cb26-0f28-4e5e-9ed5-9df5643c580a.jpg',\n",
              " '/content/gdrive/My Drive/GoogleCoLab/SkinImagingCollaboration/Train/dermatofibroma/output/dermatofibroma_original_ISIC_0031257.jpg_596a66d6-8762-4755-8546-a7e12472a8dc.jpg',\n",
              " '/content/gdrive/My Drive/GoogleCoLab/SkinImagingCollaboration/Train/dermatofibroma/output/dermatofibroma_original_ISIC_0027876.jpg_630ea12c-0e19-49cc-857a-b5af95aa7dd1.jpg',\n",
              " '/content/gdrive/My Drive/GoogleCoLab/SkinImagingCollaboration/Train/dermatofibroma/output/dermatofibroma_original_ISIC_0025911.jpg_e7393c43-525a-4999-a162-9a718f53a211.jpg',\n",
              " '/content/gdrive/My Drive/GoogleCoLab/SkinImagingCollaboration/Train/dermatofibroma/output/dermatofibroma_original_ISIC_0031344.jpg_78433eb7-cb26-4de2-bcf9-c8136b8f5ec3.jpg',\n",
              " '/content/gdrive/My Drive/GoogleCoLab/SkinImagingCollaboration/Train/dermatofibroma/output/dermatofibroma_original_ISIC_0031358.jpg_85282902-c219-456e-a460-3620a0568383.jpg',\n",
              " '/content/gdrive/My Drive/GoogleCoLab/SkinImagingCollaboration/Train/dermatofibroma/output/dermatofibroma_original_ISIC_0030665.jpg_86e9c3d7-e806-4ecd-84e0-4022b34e8ee3.jpg',\n",
              " '/content/gdrive/My Drive/GoogleCoLab/SkinImagingCollaboration/Train/dermatofibroma/output/dermatofibroma_original_ISIC_0031443.jpg_93de1e6f-2edb-4841-9e8d-498a94250051.jpg',\n",
              " '/content/gdrive/My Drive/GoogleCoLab/SkinImagingCollaboration/Train/dermatofibroma/output/dermatofibroma_original_ISIC_0031429.jpg_daffc07f-4120-450f-9dba-10c75c6e5328.jpg',\n",
              " '/content/gdrive/My Drive/GoogleCoLab/SkinImagingCollaboration/Train/dermatofibroma/output/dermatofibroma_original_ISIC_0028790.jpg_72847850-dd15-4d38-aabe-743bbb5a1833.jpg',\n",
              " '/content/gdrive/My Drive/GoogleCoLab/SkinImagingCollaboration/Train/dermatofibroma/output/dermatofibroma_original_ISIC_0025223.jpg_6a503cc1-d63b-4d96-8e51-fa0456cec8ee.jpg',\n",
              " '/content/gdrive/My Drive/GoogleCoLab/SkinImagingCollaboration/Train/dermatofibroma/output/dermatofibroma_original_ISIC_0028880.jpg_587937d9-1f42-4436-bdbc-49cd0e2742f4.jpg',\n",
              " '/content/gdrive/My Drive/GoogleCoLab/SkinImagingCollaboration/Train/dermatofibroma/output/dermatofibroma_original_ISIC_0026417.jpg_0513ad49-19e6-41e9-90f2-fa483dc2dfbc.jpg',\n",
              " '/content/gdrive/My Drive/GoogleCoLab/SkinImagingCollaboration/Train/dermatofibroma/output/dermatofibroma_original_ISIC_0033891.jpg_d8997717-337f-49ef-aaec-8f0091fd1fe7.jpg',\n",
              " '/content/gdrive/My Drive/GoogleCoLab/SkinImagingCollaboration/Train/dermatofibroma/output/dermatofibroma_original_ISIC_0025622.jpg_8e1a7f8d-bd9a-405a-9758-1861b8645657.jpg',\n",
              " '/content/gdrive/My Drive/GoogleCoLab/SkinImagingCollaboration/Train/dermatofibroma/output/dermatofibroma_original_ISIC_0031827.jpg_f3cd72cd-60d0-4891-830a-a0b3476dd7f0.jpg',\n",
              " '/content/gdrive/My Drive/GoogleCoLab/SkinImagingCollaboration/Train/dermatofibroma/output/dermatofibroma_original_ISIC_0031457.jpg_3b9bafd5-711a-42ed-bc32-9799054ee036.jpg',\n",
              " '/content/gdrive/My Drive/GoogleCoLab/SkinImagingCollaboration/Train/dermatofibroma/output/dermatofibroma_original_ISIC_0033808.jpg_a2ef1c6d-30c5-4760-9574-4d059eab0d5f.jpg',\n",
              " '/content/gdrive/My Drive/GoogleCoLab/SkinImagingCollaboration/Train/dermatofibroma/output/dermatofibroma_original_ISIC_0029130.jpg_9bb1d43a-ce02-496a-ad24-c177468ca5cf.jpg',\n",
              " '/content/gdrive/My Drive/GoogleCoLab/SkinImagingCollaboration/Train/dermatofibroma/output/dermatofibroma_original_ISIC_0033695.jpg_fe722c3d-50ab-4471-9bc6-457f7a330039.jpg',\n",
              " '/content/gdrive/My Drive/GoogleCoLab/SkinImagingCollaboration/Train/dermatofibroma/output/dermatofibroma_original_ISIC_0027745.jpg_9f060950-632d-4fae-9cc1-7cec794c0de3.jpg',\n",
              " '/content/gdrive/My Drive/GoogleCoLab/SkinImagingCollaboration/Train/dermatofibroma/output/dermatofibroma_original_ISIC_0031443.jpg_73f809f1-29dd-403f-bd3e-bd208e353fa7.jpg',\n",
              " '/content/gdrive/My Drive/GoogleCoLab/SkinImagingCollaboration/Train/dermatofibroma/output/dermatofibroma_original_ISIC_0027745.jpg_599a47c5-b64e-4f90-a7ba-9eeb55ab4584.jpg',\n",
              " '/content/gdrive/My Drive/GoogleCoLab/SkinImagingCollaboration/Train/dermatofibroma/output/dermatofibroma_original_ISIC_0031271.jpg_04eb6d2d-b59b-49de-a1c7-2c0973abd174.jpg',\n",
              " '/content/gdrive/My Drive/GoogleCoLab/SkinImagingCollaboration/Train/dermatofibroma/output/dermatofibroma_original_ISIC_0025504.jpg_dd8d25d2-949a-4fac-b2f9-6c0c8c51a072.jpg',\n",
              " '/content/gdrive/My Drive/GoogleCoLab/SkinImagingCollaboration/Train/dermatofibroma/output/dermatofibroma_original_ISIC_0026254.jpg_276763de-8676-444d-b140-e9e0632e477d.jpg',\n",
              " '/content/gdrive/My Drive/GoogleCoLab/SkinImagingCollaboration/Train/dermatofibroma/output/dermatofibroma_original_ISIC_0027613.jpg_b3f1909b-058f-4136-bc1f-6abc542b0b29.jpg',\n",
              " '/content/gdrive/My Drive/GoogleCoLab/SkinImagingCollaboration/Train/dermatofibroma/output/dermatofibroma_original_ISIC_0031827.jpg_98975d6f-6f38-40d5-afcd-8ff9977ca525.jpg',\n",
              " '/content/gdrive/My Drive/GoogleCoLab/SkinImagingCollaboration/Train/dermatofibroma/output/dermatofibroma_original_ISIC_0032613.jpg_05a6fa1a-d553-4b4a-9634-cb11920db6e9.jpg',\n",
              " '/content/gdrive/My Drive/GoogleCoLab/SkinImagingCollaboration/Train/dermatofibroma/output/dermatofibroma_original_ISIC_0031358.jpg_fc44d513-0f4d-40d6-9f93-ef896a48cece.jpg',\n",
              " '/content/gdrive/My Drive/GoogleCoLab/SkinImagingCollaboration/Train/dermatofibroma/output/dermatofibroma_original_ISIC_0030757.jpg_d9af4bd0-5b74-4747-9109-5761a7bc725b.jpg',\n",
              " '/content/gdrive/My Drive/GoogleCoLab/SkinImagingCollaboration/Train/dermatofibroma/output/dermatofibroma_original_ISIC_0029973.jpg_a652ce0d-e067-4ef3-8814-618fa77ef602.jpg',\n",
              " '/content/gdrive/My Drive/GoogleCoLab/SkinImagingCollaboration/Train/dermatofibroma/output/dermatofibroma_original_ISIC_0029052.jpg_3ed16e6b-cf14-4cfd-9c9e-6d6498edb81e.jpg',\n",
              " '/content/gdrive/My Drive/GoogleCoLab/SkinImagingCollaboration/Train/dermatofibroma/output/dermatofibroma_original_ISIC_0026473.jpg_675831f9-8973-48ba-b551-77d1700d8e7f.jpg',\n",
              " '/content/gdrive/My Drive/GoogleCoLab/SkinImagingCollaboration/Train/dermatofibroma/output/dermatofibroma_original_ISIC_0026629.jpg_392eb1c0-f02f-43e2-be90-8cb09dd5e887.jpg',\n",
              " '/content/gdrive/My Drive/GoogleCoLab/SkinImagingCollaboration/Train/dermatofibroma/output/dermatofibroma_original_ISIC_0026417.jpg_c2340bbc-ebba-4c81-86e9-ea5cd0093178.jpg',\n",
              " '/content/gdrive/My Drive/GoogleCoLab/SkinImagingCollaboration/Train/dermatofibroma/output/dermatofibroma_original_ISIC_0028346.jpg_c5fa8f4d-ccf0-46ff-ac79-a6aa0c79c644.jpg',\n",
              " '/content/gdrive/My Drive/GoogleCoLab/SkinImagingCollaboration/Train/dermatofibroma/output/dermatofibroma_original_ISIC_0030021.jpg_b67ec3de-0382-4a28-af81-c691fa83d3c9.jpg',\n",
              " '/content/gdrive/My Drive/GoogleCoLab/SkinImagingCollaboration/Train/dermatofibroma/output/dermatofibroma_original_ISIC_0030442.jpg_236b69d7-5be2-40dc-aee7-bd6a3c5c21fc.jpg',\n",
              " '/content/gdrive/My Drive/GoogleCoLab/SkinImagingCollaboration/Train/dermatofibroma/output/dermatofibroma_original_ISIC_0025954.jpg_904169ad-2c18-49e8-80ac-0a45933df216.jpg',\n",
              " '/content/gdrive/My Drive/GoogleCoLab/SkinImagingCollaboration/Train/dermatofibroma/output/dermatofibroma_original_ISIC_0031372.jpg_9be457f0-f7c9-4dd8-a659-6fb16f529657.jpg',\n",
              " '/content/gdrive/My Drive/GoogleCoLab/SkinImagingCollaboration/Train/dermatofibroma/output/dermatofibroma_original_ISIC_0026417.jpg_25a11d74-766b-4c3a-b39a-cb124c37e402.jpg',\n",
              " '/content/gdrive/My Drive/GoogleCoLab/SkinImagingCollaboration/Train/dermatofibroma/output/dermatofibroma_original_ISIC_0025668.jpg_f7119aee-4abb-4537-add2-78fa197b4a23.jpg',\n",
              " '/content/gdrive/My Drive/GoogleCoLab/SkinImagingCollaboration/Train/dermatofibroma/output/dermatofibroma_original_ISIC_0025504.jpg_b1235c7e-5e15-4b76-9718-a226c5eb860e.jpg',\n",
              " '/content/gdrive/My Drive/GoogleCoLab/SkinImagingCollaboration/Train/dermatofibroma/output/dermatofibroma_original_ISIC_0033808.jpg_7b380df9-2389-4943-8ae4-76faf8615ee3.jpg',\n",
              " '/content/gdrive/My Drive/GoogleCoLab/SkinImagingCollaboration/Train/dermatofibroma/output/dermatofibroma_original_ISIC_0033891.jpg_2a5b884a-1700-4eb2-9cd0-c0e41a10e016.jpg',\n",
              " '/content/gdrive/My Drive/GoogleCoLab/SkinImagingCollaboration/Train/dermatofibroma/output/dermatofibroma_original_ISIC_0027648.jpg_aa3e6aea-ad5f-436e-9a43-6ec46e4b4f26.jpg',\n",
              " '/content/gdrive/My Drive/GoogleCoLab/SkinImagingCollaboration/Train/dermatofibroma/output/dermatofibroma_original_ISIC_0033780.jpg_ac8ee6ac-d248-43b8-a063-f45f6668361b.jpg',\n",
              " '/content/gdrive/My Drive/GoogleCoLab/SkinImagingCollaboration/Train/dermatofibroma/output/dermatofibroma_original_ISIC_0030321.jpg_cf26ddf8-4f79-4666-943d-f5ed5c8a84a2.jpg',\n",
              " '/content/gdrive/My Drive/GoogleCoLab/SkinImagingCollaboration/Train/dermatofibroma/output/dermatofibroma_original_ISIC_0025954.jpg_1052f1de-d082-4d39-9682-e44297ac5db7.jpg',\n",
              " '/content/gdrive/My Drive/GoogleCoLab/SkinImagingCollaboration/Train/dermatofibroma/output/dermatofibroma_original_ISIC_0027648.jpg_502c745c-0a24-4983-ab25-01dd2b9bbaea.jpg',\n",
              " '/content/gdrive/My Drive/GoogleCoLab/SkinImagingCollaboration/Train/dermatofibroma/output/dermatofibroma_original_ISIC_0029248.jpg_3f9326a9-4c8b-4105-a0b1-28c0b37d987e.jpg',\n",
              " '/content/gdrive/My Drive/GoogleCoLab/SkinImagingCollaboration/Train/dermatofibroma/output/dermatofibroma_original_ISIC_0029052.jpg_09ac6f85-8465-4029-a4f1-3bf7265c7b67.jpg',\n",
              " '/content/gdrive/My Drive/GoogleCoLab/SkinImagingCollaboration/Train/dermatofibroma/output/dermatofibroma_original_ISIC_0027141.jpg_af9c830e-4bc5-4840-b686-815b649a29f0.jpg',\n",
              " '/content/gdrive/My Drive/GoogleCoLab/SkinImagingCollaboration/Train/dermatofibroma/output/dermatofibroma_original_ISIC_0031735.jpg_8397a64d-9f9c-4360-9e39-78a15daac3da.jpg',\n",
              " '/content/gdrive/My Drive/GoogleCoLab/SkinImagingCollaboration/Train/dermatofibroma/output/dermatofibroma_original_ISIC_0025980.jpg_82102579-1ae7-4432-a35b-d4ed4222aefe.jpg',\n",
              " '/content/gdrive/My Drive/GoogleCoLab/SkinImagingCollaboration/Train/dermatofibroma/output/dermatofibroma_original_ISIC_0028880.jpg_80c4a6cc-10a6-4f53-bce7-51c6927cc960.jpg',\n",
              " '/content/gdrive/My Drive/GoogleCoLab/SkinImagingCollaboration/Train/dermatofibroma/output/dermatofibroma_original_ISIC_0025373.jpg_70f2372b-27f8-4a78-b7a3-e61901e54122.jpg',\n",
              " '/content/gdrive/My Drive/GoogleCoLab/SkinImagingCollaboration/Train/dermatofibroma/output/dermatofibroma_original_ISIC_0028651.jpg_ecd418e0-f8e8-4d8e-85c8-898fd2668b3c.jpg',\n",
              " '/content/gdrive/My Drive/GoogleCoLab/SkinImagingCollaboration/Train/dermatofibroma/output/dermatofibroma_original_ISIC_0025911.jpg_700ea9a7-a0cc-4ce7-9a14-45d9e23f8da4.jpg',\n",
              " '/content/gdrive/My Drive/GoogleCoLab/SkinImagingCollaboration/Train/dermatofibroma/output/dermatofibroma_original_ISIC_0025911.jpg_050daa13-0f88-4d9a-9ce6-30d8420461ed.jpg',\n",
              " '/content/gdrive/My Drive/GoogleCoLab/SkinImagingCollaboration/Train/dermatofibroma/output/dermatofibroma_original_ISIC_0034135.jpg_6ce6efcc-e49e-4667-a1ea-13ee2161fe0a.jpg',\n",
              " '/content/gdrive/My Drive/GoogleCoLab/SkinImagingCollaboration/Train/dermatofibroma/output/dermatofibroma_original_ISIC_0030321.jpg_cd1812eb-aa4c-4231-8334-1bed66c35cc4.jpg',\n",
              " '/content/gdrive/My Drive/GoogleCoLab/SkinImagingCollaboration/Train/dermatofibroma/output/dermatofibroma_original_ISIC_0025373.jpg_16d930d3-8081-48f4-bc2b-7affe45e68f1.jpg',\n",
              " '/content/gdrive/My Drive/GoogleCoLab/SkinImagingCollaboration/Train/dermatofibroma/output/dermatofibroma_original_ISIC_0031271.jpg_64b373eb-023d-4d0e-9120-6d24caf438f7.jpg',\n",
              " '/content/gdrive/My Drive/GoogleCoLab/SkinImagingCollaboration/Train/dermatofibroma/output/dermatofibroma_original_ISIC_0027107.jpg_afa7239d-7163-4430-b2ef-2a035cdfabb8.jpg',\n",
              " '/content/gdrive/My Drive/GoogleCoLab/SkinImagingCollaboration/Train/dermatofibroma/output/dermatofibroma_original_ISIC_0026417.jpg_5037771a-a68a-4207-92c7-3c06c9f6aaa8.jpg',\n",
              " '/content/gdrive/My Drive/GoogleCoLab/SkinImagingCollaboration/Train/dermatofibroma/output/dermatofibroma_original_ISIC_0030442.jpg_1bfbe0e6-d7fd-49d1-a01d-4e5fb55b8252.jpg',\n",
              " '/content/gdrive/My Drive/GoogleCoLab/SkinImagingCollaboration/Train/dermatofibroma/output/dermatofibroma_original_ISIC_0028735.jpg_d5e22568-045e-4faf-a0ef-2b65f3688a5f.jpg',\n",
              " '/content/gdrive/My Drive/GoogleCoLab/SkinImagingCollaboration/Train/dermatofibroma/output/dermatofibroma_original_ISIC_0028651.jpg_b44e13aa-dcb0-4f6d-933c-78847941ef9e.jpg',\n",
              " '/content/gdrive/My Drive/GoogleCoLab/SkinImagingCollaboration/Train/dermatofibroma/output/dermatofibroma_original_ISIC_0031257.jpg_b520fbaf-2325-47dc-88de-141433b09ede.jpg',\n",
              " '/content/gdrive/My Drive/GoogleCoLab/SkinImagingCollaboration/Train/dermatofibroma/output/dermatofibroma_original_ISIC_0029248.jpg_fa119fcb-4ec9-4df5-b6cc-7db73e748295.jpg',\n",
              " '/content/gdrive/My Drive/GoogleCoLab/SkinImagingCollaboration/Train/dermatofibroma/output/dermatofibroma_original_ISIC_0031799.jpg_2423b764-1629-45e6-90f8-9423ffb97fdb.jpg',\n",
              " '/content/gdrive/My Drive/GoogleCoLab/SkinImagingCollaboration/Train/dermatofibroma/output/dermatofibroma_original_ISIC_0028926.jpg_869475b5-3fe6-4444-90b9-b68ba953cb23.jpg',\n",
              " '/content/gdrive/My Drive/GoogleCoLab/SkinImagingCollaboration/Train/dermatofibroma/output/dermatofibroma_original_ISIC_0028790.jpg_5c0e5704-74ec-41e1-aeaf-5e3b30f1dfec.jpg',\n",
              " '/content/gdrive/My Drive/GoogleCoLab/SkinImagingCollaboration/Train/dermatofibroma/output/dermatofibroma_original_ISIC_0027008.jpg_d53644b7-4f79-4eda-a231-290a27adb58e.jpg',\n",
              " '/content/gdrive/My Drive/GoogleCoLab/SkinImagingCollaboration/Train/dermatofibroma/output/dermatofibroma_original_ISIC_0031271.jpg_c304e0a7-bbd4-4de3-bf32-e391ec53bcec.jpg',\n",
              " '/content/gdrive/My Drive/GoogleCoLab/SkinImagingCollaboration/Train/dermatofibroma/output/dermatofibroma_original_ISIC_0028735.jpg_2da7841f-693a-4da5-8ea8-66cd5069dd9e.jpg',\n",
              " '/content/gdrive/My Drive/GoogleCoLab/SkinImagingCollaboration/Train/dermatofibroma/output/dermatofibroma_original_ISIC_0025622.jpg_3492038a-af92-43fd-bafb-579429240fc7.jpg',\n",
              " '/content/gdrive/My Drive/GoogleCoLab/SkinImagingCollaboration/Train/dermatofibroma/output/dermatofibroma_original_ISIC_0032114.jpg_104cfc67-6723-43a0-8507-cf4c1ba98a53.jpg',\n",
              " '/content/gdrive/My Drive/GoogleCoLab/SkinImagingCollaboration/Train/dermatofibroma/output/dermatofibroma_original_ISIC_0031799.jpg_0b710cd7-6094-46f6-9970-7ec20f0c9bc2.jpg',\n",
              " '/content/gdrive/My Drive/GoogleCoLab/SkinImagingCollaboration/Train/dermatofibroma/output/dermatofibroma_original_ISIC_0029039.jpg_9142dbc3-95d2-4bb3-ade3-d1c5c2d106fe.jpg',\n",
              " '/content/gdrive/My Drive/GoogleCoLab/SkinImagingCollaboration/Train/dermatofibroma/output/dermatofibroma_original_ISIC_0033005.jpg_745a7920-3b89-4d59-a434-9adb7650231c.jpg',\n",
              " '/content/gdrive/My Drive/GoogleCoLab/SkinImagingCollaboration/Train/dermatofibroma/output/dermatofibroma_original_ISIC_0025980.jpg_e53d3a33-5415-4caf-a876-c9c7daa36f29.jpg',\n",
              " '/content/gdrive/My Drive/GoogleCoLab/SkinImagingCollaboration/Train/dermatofibroma/output/dermatofibroma_original_ISIC_0031735.jpg_0c09f4e1-72da-47d8-b200-ee3da46ae53e.jpg',\n",
              " '/content/gdrive/My Drive/GoogleCoLab/SkinImagingCollaboration/Train/dermatofibroma/output/dermatofibroma_original_ISIC_0032138.jpg_44296079-4f0b-455d-b63e-4a6514170310.jpg',\n",
              " '/content/gdrive/My Drive/GoogleCoLab/SkinImagingCollaboration/Train/dermatofibroma/output/dermatofibroma_original_ISIC_0031457.jpg_f89ea7b4-38f8-44ee-9006-cbe6205a0741.jpg',\n",
              " '/content/gdrive/My Drive/GoogleCoLab/SkinImagingCollaboration/Train/dermatofibroma/output/dermatofibroma_original_ISIC_0033810.jpg_a60152fb-e22d-484c-a3b4-c05f3f26d6f7.jpg',\n",
              " '/content/gdrive/My Drive/GoogleCoLab/SkinImagingCollaboration/Train/dermatofibroma/output/dermatofibroma_original_ISIC_0025223.jpg_67c3b8d5-7231-42ea-a01f-806a43fd61be.jpg',\n",
              " '/content/gdrive/My Drive/GoogleCoLab/SkinImagingCollaboration/Train/dermatofibroma/output/dermatofibroma_original_ISIC_0030830.jpg_97d47994-f84d-4ad0-b94a-b7845d6e0d1b.jpg',\n",
              " '/content/gdrive/My Drive/GoogleCoLab/SkinImagingCollaboration/Train/dermatofibroma/output/dermatofibroma_original_ISIC_0028926.jpg_7d24fd82-4a27-4fa9-aacf-8ad53cd169c1.jpg',\n",
              " '/content/gdrive/My Drive/GoogleCoLab/SkinImagingCollaboration/Train/dermatofibroma/output/dermatofibroma_original_ISIC_0027745.jpg_a29325e8-82d8-471f-83a8-961c230d81c5.jpg',\n",
              " '/content/gdrive/My Drive/GoogleCoLab/SkinImagingCollaboration/Train/dermatofibroma/output/dermatofibroma_original_ISIC_0029130.jpg_bfa0e63f-bb5c-46ba-b6e1-a69b1eac498b.jpg',\n",
              " '/content/gdrive/My Drive/GoogleCoLab/SkinImagingCollaboration/Train/dermatofibroma/output/dermatofibroma_original_ISIC_0031735.jpg_76f6cc70-9de5-46f5-a468-7167c3d2e72a.jpg',\n",
              " '/content/gdrive/My Drive/GoogleCoLab/SkinImagingCollaboration/Train/dermatofibroma/output/dermatofibroma_original_ISIC_0029824.jpg_1bd361f3-c110-4072-b6e5-8f2eecc06fb1.jpg',\n",
              " '/content/gdrive/My Drive/GoogleCoLab/SkinImagingCollaboration/Train/dermatofibroma/output/dermatofibroma_original_ISIC_0025903.jpg_948c4f53-493c-43bf-9f15-d495e96adc18.jpg',\n",
              " '/content/gdrive/My Drive/GoogleCoLab/SkinImagingCollaboration/Train/dermatofibroma/output/dermatofibroma_original_ISIC_0028880.jpg_16bbada6-431a-4f45-84b7-192a83b5ca73.jpg',\n",
              " '/content/gdrive/My Drive/GoogleCoLab/SkinImagingCollaboration/Train/dermatofibroma/output/dermatofibroma_original_ISIC_0029967.jpg_5ca71e6d-1ad9-4a4f-aa03-aae76dbe1a67.jpg',\n",
              " '/content/gdrive/My Drive/GoogleCoLab/SkinImagingCollaboration/Train/dermatofibroma/output/dermatofibroma_original_ISIC_0031358.jpg_08bc789d-9be4-4840-9515-0360fa0183d5.jpg',\n",
              " '/content/gdrive/My Drive/GoogleCoLab/SkinImagingCollaboration/Train/dermatofibroma/output/dermatofibroma_original_ISIC_0030427.jpg_d8188eb6-1a5b-4789-9c58-1a7ae9b4d5c6.jpg',\n",
              " '/content/gdrive/My Drive/GoogleCoLab/SkinImagingCollaboration/Train/dermatofibroma/output/dermatofibroma_original_ISIC_0032114.jpg_f5f22ef4-566d-4ff9-8f6f-1c97161886ea.jpg',\n",
              " '/content/gdrive/My Drive/GoogleCoLab/SkinImagingCollaboration/Train/dermatofibroma/output/dermatofibroma_original_ISIC_0031443.jpg_9d762cda-dd96-4917-b2b4-d9db3604eadc.jpg',\n",
              " '/content/gdrive/My Drive/GoogleCoLab/SkinImagingCollaboration/Train/dermatofibroma/output/dermatofibroma_original_ISIC_0030427.jpg_151f40b3-1eaf-462a-a0f4-9530d07efd31.jpg',\n",
              " '/content/gdrive/My Drive/GoogleCoLab/SkinImagingCollaboration/Train/dermatofibroma/output/dermatofibroma_original_ISIC_0030021.jpg_bc40f2cc-11e7-4103-bbdc-bbb16ea1d150.jpg',\n",
              " '/content/gdrive/My Drive/GoogleCoLab/SkinImagingCollaboration/Train/dermatofibroma/output/dermatofibroma_original_ISIC_0025314.jpg_23ffd98f-34a6-4e9a-a1b5-a1780ebf601b.jpg',\n",
              " '/content/gdrive/My Drive/GoogleCoLab/SkinImagingCollaboration/Train/dermatofibroma/output/dermatofibroma_original_ISIC_0033860.jpg_43073f66-f123-4588-aa46-e78ba9d46591.jpg',\n",
              " '/content/gdrive/My Drive/GoogleCoLab/SkinImagingCollaboration/Train/dermatofibroma/output/dermatofibroma_original_ISIC_0028346.jpg_c8f31452-bd61-4876-a5f6-537c4ffb22d0.jpg',\n",
              " '/content/gdrive/My Drive/GoogleCoLab/SkinImagingCollaboration/Train/dermatofibroma/output/dermatofibroma_original_ISIC_0032468.jpg_0878d915-1a18-4fc2-9963-bbeed22385ee.jpg',\n",
              " '/content/gdrive/My Drive/GoogleCoLab/SkinImagingCollaboration/Train/dermatofibroma/output/dermatofibroma_original_ISIC_0025668.jpg_36f1118e-b02f-489b-a9fa-0188e24dafe6.jpg',\n",
              " '/content/gdrive/My Drive/GoogleCoLab/SkinImagingCollaboration/Train/dermatofibroma/output/dermatofibroma_original_ISIC_0025980.jpg_704ed52d-8477-4848-a58f-0f6a9166e44e.jpg',\n",
              " '/content/gdrive/My Drive/GoogleCoLab/SkinImagingCollaboration/Train/dermatofibroma/output/dermatofibroma_original_ISIC_0026313.jpg_e7d6cab4-962c-49ab-a375-479e2b775de3.jpg',\n",
              " '/content/gdrive/My Drive/GoogleCoLab/SkinImagingCollaboration/Train/dermatofibroma/output/dermatofibroma_original_ISIC_0025314.jpg_fe1a359c-cbd0-43ca-b4a3-f8150bce4ebb.jpg',\n",
              " '/content/gdrive/My Drive/GoogleCoLab/SkinImagingCollaboration/Train/dermatofibroma/output/dermatofibroma_original_ISIC_0034135.jpg_521ceadf-04d8-440b-8574-64baa00ac0e8.jpg',\n",
              " '/content/gdrive/My Drive/GoogleCoLab/SkinImagingCollaboration/Train/dermatofibroma/output/dermatofibroma_original_ISIC_0027626.jpg_ae000f11-d331-47ff-af5e-cf0c7dcba57d.jpg',\n",
              " '/content/gdrive/My Drive/GoogleCoLab/SkinImagingCollaboration/Train/dermatofibroma/output/dermatofibroma_original_ISIC_0032642.jpg_9ae99e63-9d21-49d0-beca-fe8abd40d42e.jpg',\n",
              " '/content/gdrive/My Drive/GoogleCoLab/SkinImagingCollaboration/Train/dermatofibroma/output/dermatofibroma_original_ISIC_0032247.jpg_738b08ba-1c97-427a-9646-595a26120cfe.jpg',\n",
              " '/content/gdrive/My Drive/GoogleCoLab/SkinImagingCollaboration/Train/dermatofibroma/output/dermatofibroma_original_ISIC_0027648.jpg_c8d0cd98-ac70-4479-a3e2-9db02f6c0d70.jpg',\n",
              " '/content/gdrive/My Drive/GoogleCoLab/SkinImagingCollaboration/Train/dermatofibroma/output/dermatofibroma_original_ISIC_0029052.jpg_5e8421c0-de7c-4958-acc6-5ff493ed71be.jpg',\n",
              " '/content/gdrive/My Drive/GoogleCoLab/SkinImagingCollaboration/Train/dermatofibroma/output/dermatofibroma_original_ISIC_0027613.jpg_dc8103d7-5bdb-4b80-9c25-7ead00f5bc1d.jpg',\n",
              " '/content/gdrive/My Drive/GoogleCoLab/SkinImagingCollaboration/Train/dermatofibroma/output/dermatofibroma_original_ISIC_0026417.jpg_56d16ce0-0c65-42c9-a8ea-052ad8f3a2c3.jpg',\n",
              " '/content/gdrive/My Drive/GoogleCoLab/SkinImagingCollaboration/Train/dermatofibroma/output/dermatofibroma_original_ISIC_0029973.jpg_dca383d9-7a00-4155-97d1-d975ebef94cb.jpg',\n",
              " '/content/gdrive/My Drive/GoogleCoLab/SkinImagingCollaboration/Train/dermatofibroma/output/dermatofibroma_original_ISIC_0026471.jpg_5bee0eb8-ac3d-4a98-b85a-393cef6a05ee.jpg',\n",
              " '/content/gdrive/My Drive/GoogleCoLab/SkinImagingCollaboration/Train/dermatofibroma/output/dermatofibroma_original_ISIC_0025903.jpg_7c78194d-5293-4116-a6d8-4aaae0fba18b.jpg',\n",
              " '/content/gdrive/My Drive/GoogleCoLab/SkinImagingCollaboration/Train/dermatofibroma/output/dermatofibroma_original_ISIC_0027216.jpg_a56c9da2-982c-4d40-8fc3-f0e53ed86747.jpg',\n",
              " '/content/gdrive/My Drive/GoogleCoLab/SkinImagingCollaboration/Train/dermatofibroma/output/dermatofibroma_original_ISIC_0025314.jpg_7399291a-dde1-41e9-a161-fbb8199fda50.jpg',\n",
              " '/content/gdrive/My Drive/GoogleCoLab/SkinImagingCollaboration/Train/dermatofibroma/output/dermatofibroma_original_ISIC_0031735.jpg_d494597c-0c8c-4b85-8565-344caee3b545.jpg',\n",
              " '/content/gdrive/My Drive/GoogleCoLab/SkinImagingCollaboration/Train/dermatofibroma/output/dermatofibroma_original_ISIC_0029130.jpg_f0ecfc23-1b7e-4b08-9a3d-b827622f7004.jpg',\n",
              " '/content/gdrive/My Drive/GoogleCoLab/SkinImagingCollaboration/Train/dermatofibroma/output/dermatofibroma_original_ISIC_0033847.jpg_f75b8b73-c4a9-420d-b157-0bf963b96de9.jpg',\n",
              " '/content/gdrive/My Drive/GoogleCoLab/SkinImagingCollaboration/Train/dermatofibroma/output/dermatofibroma_original_ISIC_0033005.jpg_e644f45c-9c3f-4628-bd37-d00cbe2d5d4e.jpg',\n",
              " '/content/gdrive/My Drive/GoogleCoLab/SkinImagingCollaboration/Train/dermatofibroma/output/dermatofibroma_original_ISIC_0033891.jpg_da88e2eb-ca6d-4f48-8952-aa9f7df994ff.jpg',\n",
              " '/content/gdrive/My Drive/GoogleCoLab/SkinImagingCollaboration/Train/dermatofibroma/output/dermatofibroma_original_ISIC_0033554.jpg_ca9dda2e-6972-4d48-84db-d3f1a5b9a54d.jpg',\n",
              " '/content/gdrive/My Drive/GoogleCoLab/SkinImagingCollaboration/Train/dermatofibroma/output/dermatofibroma_original_ISIC_0029297.jpg_43a6ae33-2175-47d0-a8fa-461bd885b173.jpg',\n",
              " '/content/gdrive/My Drive/GoogleCoLab/SkinImagingCollaboration/Train/dermatofibroma/output/dermatofibroma_original_ISIC_0025668.jpg_2276cd7b-b6a8-4861-8e63-dabdb3bffdea.jpg',\n",
              " '/content/gdrive/My Drive/GoogleCoLab/SkinImagingCollaboration/Train/dermatofibroma/output/dermatofibroma_original_ISIC_0029783.jpg_e78dffab-36fa-4c64-8987-d43618d9485e.jpg',\n",
              " '/content/gdrive/My Drive/GoogleCoLab/SkinImagingCollaboration/Train/dermatofibroma/output/dermatofibroma_original_ISIC_0031344.jpg_aa1e9297-9ae9-46f3-b482-d14829f1488f.jpg',\n",
              " '/content/gdrive/My Drive/GoogleCoLab/SkinImagingCollaboration/Train/dermatofibroma/output/dermatofibroma_original_ISIC_0030442.jpg_1186340c-2d99-4e0f-aa8e-4dbc5ed88027.jpg',\n",
              " '/content/gdrive/My Drive/GoogleCoLab/SkinImagingCollaboration/Train/dermatofibroma/output/dermatofibroma_original_ISIC_0028735.jpg_953d3391-8b76-4bb1-99e4-bf02e5dce00a.jpg',\n",
              " '/content/gdrive/My Drive/GoogleCoLab/SkinImagingCollaboration/Train/dermatofibroma/output/dermatofibroma_original_ISIC_0031271.jpg_29eff919-2579-4b7b-b173-b2e90b5854c9.jpg',\n",
              " '/content/gdrive/My Drive/GoogleCoLab/SkinImagingCollaboration/Train/dermatofibroma/output/dermatofibroma_original_ISIC_0028735.jpg_03649321-7215-4721-a283-f200060b3173.jpg',\n",
              " '/content/gdrive/My Drive/GoogleCoLab/SkinImagingCollaboration/Train/dermatofibroma/output/dermatofibroma_original_ISIC_0030427.jpg_fac3d222-a015-4468-a534-bb49c5e01a92.jpg',\n",
              " '/content/gdrive/My Drive/GoogleCoLab/SkinImagingCollaboration/Train/dermatofibroma/output/dermatofibroma_original_ISIC_0028651.jpg_438c95cb-7ac1-47ec-8814-7ab369dfa1a7.jpg',\n",
              " '/content/gdrive/My Drive/GoogleCoLab/SkinImagingCollaboration/Train/dermatofibroma/output/dermatofibroma_original_ISIC_0030579.jpg_77e5bd72-a4dd-4bf0-b1b4-cfc03e7f3826.jpg',\n",
              " '/content/gdrive/My Drive/GoogleCoLab/SkinImagingCollaboration/Train/dermatofibroma/output/dermatofibroma_original_ISIC_0032468.jpg_77bfa5c9-671d-4edc-b297-a1fb34faf62b.jpg',\n",
              " '/content/gdrive/My Drive/GoogleCoLab/SkinImagingCollaboration/Train/dermatofibroma/output/dermatofibroma_original_ISIC_0028880.jpg_b95f246b-23ac-4425-882e-ff0dfa41404f.jpg',\n",
              " '/content/gdrive/My Drive/GoogleCoLab/SkinImagingCollaboration/Train/dermatofibroma/output/dermatofibroma_original_ISIC_0027745.jpg_97d42b0e-ba11-4713-96f7-90a746e12994.jpg',\n",
              " '/content/gdrive/My Drive/GoogleCoLab/SkinImagingCollaboration/Train/dermatofibroma/output/dermatofibroma_original_ISIC_0028926.jpg_749f1a76-dbf7-41f8-beaf-ea2321d47333.jpg',\n",
              " '/content/gdrive/My Drive/GoogleCoLab/SkinImagingCollaboration/Train/dermatofibroma/output/dermatofibroma_original_ISIC_0032613.jpg_ed51c3e7-593a-4893-b3ac-017176ade0c3.jpg',\n",
              " '/content/gdrive/My Drive/GoogleCoLab/SkinImagingCollaboration/Train/dermatofibroma/output/dermatofibroma_original_ISIC_0031271.jpg_96b27e4d-fd38-4021-843d-2395eabb796c.jpg',\n",
              " '/content/gdrive/My Drive/GoogleCoLab/SkinImagingCollaboration/Train/dermatofibroma/output/dermatofibroma_original_ISIC_0027488.jpg_c631f27d-6f86-4df4-97a6-defed40e0741.jpg',\n",
              " '/content/gdrive/My Drive/GoogleCoLab/SkinImagingCollaboration/Train/dermatofibroma/output/dermatofibroma_original_ISIC_0028926.jpg_7e22f7f6-980f-418f-a2d1-1f599a1704c4.jpg',\n",
              " '/content/gdrive/My Drive/GoogleCoLab/SkinImagingCollaboration/Train/dermatofibroma/output/dermatofibroma_original_ISIC_0033554.jpg_0b56bd65-c881-44b6-a52b-da47bb3a3ec9.jpg',\n",
              " '/content/gdrive/My Drive/GoogleCoLab/SkinImagingCollaboration/Train/dermatofibroma/output/dermatofibroma_original_ISIC_0027613.jpg_32427b1c-9299-4b4a-af4c-57f9565aad7a.jpg',\n",
              " '/content/gdrive/My Drive/GoogleCoLab/SkinImagingCollaboration/Train/dermatofibroma/output/dermatofibroma_original_ISIC_0030427.jpg_5c0ea756-2754-40a3-8c6f-2127cb1178e9.jpg',\n",
              " '/content/gdrive/My Drive/GoogleCoLab/SkinImagingCollaboration/Train/dermatofibroma/output/dermatofibroma_original_ISIC_0025314.jpg_721de3b0-c0c0-4b0b-b4ff-1ed3488a6f8b.jpg',\n",
              " '/content/gdrive/My Drive/GoogleCoLab/SkinImagingCollaboration/Train/dermatofibroma/output/dermatofibroma_original_ISIC_0031257.jpg_980b9676-05c2-4336-ae38-8a81be322f6d.jpg',\n",
              " '/content/gdrive/My Drive/GoogleCoLab/SkinImagingCollaboration/Train/dermatofibroma/output/dermatofibroma_original_ISIC_0032941.jpg_da9219f6-ae97-460b-9e07-9128eb1b1e08.jpg',\n",
              " '/content/gdrive/My Drive/GoogleCoLab/SkinImagingCollaboration/Train/dermatofibroma/output/dermatofibroma_original_ISIC_0029824.jpg_248ff98c-ec3c-47d0-8565-437108f8104e.jpg',\n",
              " '/content/gdrive/My Drive/GoogleCoLab/SkinImagingCollaboration/Train/dermatofibroma/output/dermatofibroma_original_ISIC_0029973.jpg_c1fc1f7a-eedf-4bdf-9b47-0f14259512c2.jpg',\n",
              " '/content/gdrive/My Drive/GoogleCoLab/SkinImagingCollaboration/Train/dermatofibroma/output/dermatofibroma_original_ISIC_0033808.jpg_393153c7-261d-4ee6-bbda-1722ca0881ba.jpg',\n",
              " '/content/gdrive/My Drive/GoogleCoLab/SkinImagingCollaboration/Train/dermatofibroma/output/dermatofibroma_original_ISIC_0025223.jpg_281a468a-2d2f-407d-aa7a-1068a6c65c5e.jpg',\n",
              " '/content/gdrive/My Drive/GoogleCoLab/SkinImagingCollaboration/Train/dermatofibroma/output/dermatofibroma_original_ISIC_0033005.jpg_8a54ae30-35a5-46a1-9f17-ed3e8c88175f.jpg',\n",
              " '/content/gdrive/My Drive/GoogleCoLab/SkinImagingCollaboration/Train/dermatofibroma/output/dermatofibroma_original_ISIC_0028346.jpg_d04d2731-d90f-4005-abf6-b5cd94e69b0c.jpg',\n",
              " '/content/gdrive/My Drive/GoogleCoLab/SkinImagingCollaboration/Train/dermatofibroma/output/dermatofibroma_original_ISIC_0026471.jpg_e4d4170f-72f2-4ac4-9acc-e2b4b81cc1b6.jpg',\n",
              " '/content/gdrive/My Drive/GoogleCoLab/SkinImagingCollaboration/Train/dermatofibroma/output/dermatofibroma_original_ISIC_0027876.jpg_7683e489-3702-4f2f-a17c-c5454220e64a.jpg',\n",
              " '/content/gdrive/My Drive/GoogleCoLab/SkinImagingCollaboration/Train/dermatofibroma/output/dermatofibroma_original_ISIC_0027488.jpg_4944f33a-f02f-448f-ba00-aeb92eb6c0eb.jpg',\n",
              " '/content/gdrive/My Drive/GoogleCoLab/SkinImagingCollaboration/Train/dermatofibroma/output/dermatofibroma_original_ISIC_0031443.jpg_dd99c19b-5d7e-41d2-86ec-d00fd8cb7b9a.jpg',\n",
              " '/content/gdrive/My Drive/GoogleCoLab/SkinImagingCollaboration/Train/dermatofibroma/output/dermatofibroma_original_ISIC_0026313.jpg_90e5d854-6f2f-44cf-be57-efbd2a4882ac.jpg',\n",
              " '/content/gdrive/My Drive/GoogleCoLab/SkinImagingCollaboration/Train/dermatofibroma/output/dermatofibroma_original_ISIC_0028790.jpg_e7a6bf48-1299-4898-9928-55838ce58bef.jpg',\n",
              " '/content/gdrive/My Drive/GoogleCoLab/SkinImagingCollaboration/Train/dermatofibroma/output/dermatofibroma_original_ISIC_0028880.jpg_43a121e1-09ea-4941-ac0e-51fa4ed066ac.jpg',\n",
              " '/content/gdrive/My Drive/GoogleCoLab/SkinImagingCollaboration/Train/dermatofibroma/output/dermatofibroma_original_ISIC_0026471.jpg_e3e1031b-27e0-4230-96f8-866519226704.jpg',\n",
              " '/content/gdrive/My Drive/GoogleCoLab/SkinImagingCollaboration/Train/dermatofibroma/output/dermatofibroma_original_ISIC_0031799.jpg_b39cc0e9-d75d-4754-b58c-c8fb5797f344.jpg',\n",
              " '/content/gdrive/My Drive/GoogleCoLab/SkinImagingCollaboration/Train/dermatofibroma/output/dermatofibroma_original_ISIC_0027876.jpg_523233e7-44c6-4c92-8007-18b07edc3600.jpg',\n",
              " '/content/gdrive/My Drive/GoogleCoLab/SkinImagingCollaboration/Train/dermatofibroma/output/dermatofibroma_original_ISIC_0033808.jpg_dd65f1f4-b5a2-4f92-b7c2-ea6d3962cbf5.jpg',\n",
              " '/content/gdrive/My Drive/GoogleCoLab/SkinImagingCollaboration/Train/dermatofibroma/output/dermatofibroma_original_ISIC_0027107.jpg_18f0742f-0ddd-466d-bcb1-c02b648baec7.jpg',\n",
              " '/content/gdrive/My Drive/GoogleCoLab/SkinImagingCollaboration/Train/dermatofibroma/output/dermatofibroma_original_ISIC_0030870.jpg_330661e2-1d5a-48c0-bb50-6a368324186c.jpg',\n",
              " '/content/gdrive/My Drive/GoogleCoLab/SkinImagingCollaboration/Train/dermatofibroma/output/dermatofibroma_original_ISIC_0031799.jpg_60bfd776-83f7-4949-a135-7d94027c9a37.jpg',\n",
              " '/content/gdrive/My Drive/GoogleCoLab/SkinImagingCollaboration/Train/dermatofibroma/output/dermatofibroma_original_ISIC_0031457.jpg_cc1e00d1-ed19-4f6d-9159-809843f20d03.jpg',\n",
              " '/content/gdrive/My Drive/GoogleCoLab/SkinImagingCollaboration/Train/dermatofibroma/output/dermatofibroma_original_ISIC_0032941.jpg_eabb7ff0-1b23-4e4e-924d-566aa870eb32.jpg',\n",
              " '/content/gdrive/My Drive/GoogleCoLab/SkinImagingCollaboration/Train/dermatofibroma/output/dermatofibroma_original_ISIC_0030579.jpg_c2fd0a1c-9618-4965-a947-4f2251758245.jpg',\n",
              " '/content/gdrive/My Drive/GoogleCoLab/SkinImagingCollaboration/Train/dermatofibroma/output/dermatofibroma_original_ISIC_0030665.jpg_bf485e09-a1ef-4201-842f-99691d8c312c.jpg',\n",
              " '/content/gdrive/My Drive/GoogleCoLab/SkinImagingCollaboration/Train/dermatofibroma/output/dermatofibroma_original_ISIC_0031271.jpg_c8c49664-d48c-4879-a28e-18cba1c8ea43.jpg',\n",
              " '/content/gdrive/My Drive/GoogleCoLab/SkinImagingCollaboration/Train/dermatofibroma/output/dermatofibroma_original_ISIC_0032247.jpg_b2a15501-a207-4879-823b-e29fb2c72ba4.jpg',\n",
              " '/content/gdrive/My Drive/GoogleCoLab/SkinImagingCollaboration/Train/dermatofibroma/output/dermatofibroma_original_ISIC_0031735.jpg_952d30b8-72ff-4519-b268-89c92a877770.jpg',\n",
              " '/content/gdrive/My Drive/GoogleCoLab/SkinImagingCollaboration/Train/dermatofibroma/output/dermatofibroma_original_ISIC_0029177.jpg_ae2b20ce-4884-47c3-b097-6403dda8ce2c.jpg',\n",
              " '/content/gdrive/My Drive/GoogleCoLab/SkinImagingCollaboration/Train/dermatofibroma/output/dermatofibroma_original_ISIC_0027613.jpg_e37af5dc-5a1d-465e-a219-d597e3aad423.jpg',\n",
              " '/content/gdrive/My Drive/GoogleCoLab/SkinImagingCollaboration/Train/dermatofibroma/output/dermatofibroma_original_ISIC_0033891.jpg_04af513b-69e4-45fc-af92-1b857625c299.jpg',\n",
              " '/content/gdrive/My Drive/GoogleCoLab/SkinImagingCollaboration/Train/dermatofibroma/output/dermatofibroma_original_ISIC_0025223.jpg_c6f4b190-cab3-429b-b6d1-984685e927d9.jpg',\n",
              " '/content/gdrive/My Drive/GoogleCoLab/SkinImagingCollaboration/Train/dermatofibroma/output/dermatofibroma_original_ISIC_0027008.jpg_b0de8b17-0b5f-417f-91f5-2136bc1fe372.jpg',\n",
              " '/content/gdrive/My Drive/GoogleCoLab/SkinImagingCollaboration/Train/dermatofibroma/output/dermatofibroma_original_ISIC_0030579.jpg_a1d809b0-6110-4ec8-8e10-1a32b0be0964.jpg',\n",
              " '/content/gdrive/My Drive/GoogleCoLab/SkinImagingCollaboration/Train/dermatofibroma/output/dermatofibroma_original_ISIC_0033554.jpg_80991185-d3fb-405b-85ee-1f02be7e0803.jpg',\n",
              " '/content/gdrive/My Drive/GoogleCoLab/SkinImagingCollaboration/Train/dermatofibroma/output/dermatofibroma_original_ISIC_0025373.jpg_451489f3-0fd6-465d-8165-9a2e2161f33d.jpg',\n",
              " '/content/gdrive/My Drive/GoogleCoLab/SkinImagingCollaboration/Train/dermatofibroma/output/dermatofibroma_original_ISIC_0025903.jpg_3158e483-138f-4a5a-8f1c-3e4b02ebc404.jpg',\n",
              " '/content/gdrive/My Drive/GoogleCoLab/SkinImagingCollaboration/Train/dermatofibroma/output/dermatofibroma_original_ISIC_0026789.jpg_51ad7c8c-109d-4f53-b0e3-8ab0d47d051a.jpg',\n",
              " '/content/gdrive/My Drive/GoogleCoLab/SkinImagingCollaboration/Train/dermatofibroma/output/dermatofibroma_original_ISIC_0029130.jpg_e4546057-fd07-4f2a-9ef0-c49401ce4cc6.jpg',\n",
              " '/content/gdrive/My Drive/GoogleCoLab/SkinImagingCollaboration/Train/dermatofibroma/output/dermatofibroma_original_ISIC_0031735.jpg_7cd4cf71-ee81-41ad-bc89-c1876ad3287f.jpg',\n",
              " '/content/gdrive/My Drive/GoogleCoLab/SkinImagingCollaboration/Train/dermatofibroma/output/dermatofibroma_original_ISIC_0025223.jpg_0e5e9635-b9f2-4b60-93e9-64d7505889f3.jpg',\n",
              " '/content/gdrive/My Drive/GoogleCoLab/SkinImagingCollaboration/Train/dermatofibroma/output/dermatofibroma_original_ISIC_0029248.jpg_1aa0369e-d183-41d6-8d3e-1a8cb30f23dc.jpg',\n",
              " '/content/gdrive/My Drive/GoogleCoLab/SkinImagingCollaboration/Train/dermatofibroma/output/dermatofibroma_original_ISIC_0030015.jpg_446ac8b7-da2d-490b-afe4-9ce7e789378f.jpg',\n",
              " '/content/gdrive/My Drive/GoogleCoLab/SkinImagingCollaboration/Train/dermatofibroma/output/dermatofibroma_original_ISIC_0033808.jpg_489e6f0c-e5a1-4026-abd9-048b31432620.jpg',\n",
              " '/content/gdrive/My Drive/GoogleCoLab/SkinImagingCollaboration/Train/dermatofibroma/output/dermatofibroma_original_ISIC_0033790.jpg_de1a82b4-5563-47c6-9452-e8a334665e5e.jpg',\n",
              " '/content/gdrive/My Drive/GoogleCoLab/SkinImagingCollaboration/Train/dermatofibroma/output/dermatofibroma_original_ISIC_0025771.jpg_f865acff-53a2-40cc-9249-c80776b84d8d.jpg',\n",
              " '/content/gdrive/My Drive/GoogleCoLab/SkinImagingCollaboration/Train/dermatofibroma/output/dermatofibroma_original_ISIC_0028926.jpg_861b487b-b9ad-4205-9d09-747cc7e31f7d.jpg',\n",
              " '/content/gdrive/My Drive/GoogleCoLab/SkinImagingCollaboration/Train/dermatofibroma/output/dermatofibroma_original_ISIC_0025622.jpg_ff0e5d14-b794-4c24-9dc3-f01b7074f650.jpg',\n",
              " '/content/gdrive/My Drive/GoogleCoLab/SkinImagingCollaboration/Train/dermatofibroma/output/dermatofibroma_original_ISIC_0031271.jpg_408c1657-c0c7-4585-978f-a1354cabef41.jpg',\n",
              " '/content/gdrive/My Drive/GoogleCoLab/SkinImagingCollaboration/Train/dermatofibroma/output/dermatofibroma_original_ISIC_0032138.jpg_89a196fd-6224-4bb2-b257-17bcfae5a9a3.jpg',\n",
              " '/content/gdrive/My Drive/GoogleCoLab/SkinImagingCollaboration/Train/dermatofibroma/output/dermatofibroma_original_ISIC_0030870.jpg_bb664094-b342-4d3b-bcf7-899b49db5dba.jpg',\n",
              " '/content/gdrive/My Drive/GoogleCoLab/SkinImagingCollaboration/Train/dermatofibroma/output/dermatofibroma_original_ISIC_0033005.jpg_d3935305-35f6-440c-b13f-c7ea7e7c07a6.jpg',\n",
              " '/content/gdrive/My Drive/GoogleCoLab/SkinImagingCollaboration/Train/dermatofibroma/output/dermatofibroma_original_ISIC_0030427.jpg_4e1a15f6-2c3d-4728-8d02-8d3b29fa8cb6.jpg',\n",
              " '/content/gdrive/My Drive/GoogleCoLab/SkinImagingCollaboration/Train/dermatofibroma/output/dermatofibroma_original_ISIC_0025954.jpg_dcace901-ad85-45cb-b033-bed1e9199f1d.jpg',\n",
              " '/content/gdrive/My Drive/GoogleCoLab/SkinImagingCollaboration/Train/dermatofibroma/output/dermatofibroma_original_ISIC_0027044.jpg_b07629ea-e25d-4e5b-94d8-20b6110c9e4e.jpg',\n",
              " '/content/gdrive/My Drive/GoogleCoLab/SkinImagingCollaboration/Train/dermatofibroma/output/dermatofibroma_original_ISIC_0026417.jpg_bf760fc5-cc3b-44d8-b981-090a11aad517.jpg',\n",
              " '/content/gdrive/My Drive/GoogleCoLab/SkinImagingCollaboration/Train/dermatofibroma/output/dermatofibroma_original_ISIC_0031344.jpg_f708563b-5a6f-48a7-ad34-ccffab099fe3.jpg',\n",
              " '/content/gdrive/My Drive/GoogleCoLab/SkinImagingCollaboration/Train/dermatofibroma/output/dermatofibroma_original_ISIC_0028346.jpg_3b169779-6edb-4c69-a7c4-c4239ee04074.jpg',\n",
              " '/content/gdrive/My Drive/GoogleCoLab/SkinImagingCollaboration/Train/dermatofibroma/output/dermatofibroma_original_ISIC_0031257.jpg_977858d6-942b-4e19-8c45-8c3c498af249.jpg',\n",
              " '/content/gdrive/My Drive/GoogleCoLab/SkinImagingCollaboration/Train/dermatofibroma/output/dermatofibroma_original_ISIC_0027598.jpg_2ca5d706-a3f4-4cef-b16d-38ba0dead8a3.jpg',\n",
              " '/content/gdrive/My Drive/GoogleCoLab/SkinImagingCollaboration/Train/dermatofibroma/output/dermatofibroma_original_ISIC_0033626.jpg_76e96930-92f9-49b5-aa14-2e308f723681.jpg',\n",
              " '/content/gdrive/My Drive/GoogleCoLab/SkinImagingCollaboration/Train/dermatofibroma/output/dermatofibroma_original_ISIC_0029039.jpg_682771a4-34e9-4bdb-ab8f-cc6992de4fb8.jpg',\n",
              " '/content/gdrive/My Drive/GoogleCoLab/SkinImagingCollaboration/Train/dermatofibroma/output/dermatofibroma_original_ISIC_0033810.jpg_613270d1-cf1c-405d-829e-e59c0d95cd13.jpg',\n",
              " '/content/gdrive/My Drive/GoogleCoLab/SkinImagingCollaboration/Train/dermatofibroma/output/dermatofibroma_original_ISIC_0029177.jpg_2aa3a14c-4c76-4c1f-aa98-fef3f3997b61.jpg',\n",
              " '/content/gdrive/My Drive/GoogleCoLab/SkinImagingCollaboration/Train/dermatofibroma/output/dermatofibroma_original_ISIC_0027216.jpg_9603df48-f404-405f-abee-43649b8b9351.jpg',\n",
              " '/content/gdrive/My Drive/GoogleCoLab/SkinImagingCollaboration/Train/dermatofibroma/output/dermatofibroma_original_ISIC_0027648.jpg_ee57189c-a873-4c9c-9b78-b788e7692ef5.jpg',\n",
              " '/content/gdrive/My Drive/GoogleCoLab/SkinImagingCollaboration/Train/dermatofibroma/output/dermatofibroma_original_ISIC_0028651.jpg_8dd12c23-c998-47cd-8877-b0198693b7ae.jpg',\n",
              " '/content/gdrive/My Drive/GoogleCoLab/SkinImagingCollaboration/Train/dermatofibroma/output/dermatofibroma_original_ISIC_0025980.jpg_e86631d9-f90d-41e9-ac07-7f019f18a433.jpg',\n",
              " '/content/gdrive/My Drive/GoogleCoLab/SkinImagingCollaboration/Train/dermatofibroma/output/dermatofibroma_original_ISIC_0033891.jpg_b3b71aa9-dbbe-4442-a3d9-dc7e946cd934.jpg',\n",
              " '/content/gdrive/My Drive/GoogleCoLab/SkinImagingCollaboration/Train/dermatofibroma/output/dermatofibroma_original_ISIC_0027876.jpg_ff9f891e-57eb-4163-b781-f54b6ed79b8f.jpg',\n",
              " '/content/gdrive/My Drive/GoogleCoLab/SkinImagingCollaboration/Train/dermatofibroma/output/dermatofibroma_original_ISIC_0025668.jpg_4361f1dc-372f-46ee-8f68-2da58737ed61.jpg',\n",
              " '/content/gdrive/My Drive/GoogleCoLab/SkinImagingCollaboration/Train/dermatofibroma/output/dermatofibroma_original_ISIC_0033860.jpg_c1c9c6e3-1128-434f-8c0f-4c897ed7f994.jpg',\n",
              " '/content/gdrive/My Drive/GoogleCoLab/SkinImagingCollaboration/Train/dermatofibroma/output/dermatofibroma_original_ISIC_0027613.jpg_3c042f65-5cb0-4590-8c5f-c6022a6c3648.jpg',\n",
              " '/content/gdrive/My Drive/GoogleCoLab/SkinImagingCollaboration/Train/dermatofibroma/output/dermatofibroma_original_ISIC_0026313.jpg_3971563a-539a-48c3-bcd5-36bbb4875f92.jpg',\n",
              " '/content/gdrive/My Drive/GoogleCoLab/SkinImagingCollaboration/Train/dermatofibroma/output/dermatofibroma_original_ISIC_0030757.jpg_b9905842-5519-4254-b608-70aa3ca33a37.jpg',\n",
              " '/content/gdrive/My Drive/GoogleCoLab/SkinImagingCollaboration/Train/dermatofibroma/output/dermatofibroma_original_ISIC_0025314.jpg_6f334271-c581-4bde-b9ca-1b1bdc2cec31.jpg',\n",
              " '/content/gdrive/My Drive/GoogleCoLab/SkinImagingCollaboration/Train/dermatofibroma/output/dermatofibroma_original_ISIC_0025911.jpg_aa310be7-e64b-4804-9f23-53a1d4fc6f6c.jpg',\n",
              " '/content/gdrive/My Drive/GoogleCoLab/SkinImagingCollaboration/Train/dermatofibroma/output/dermatofibroma_original_ISIC_0027141.jpg_e1dba4e7-7fb2-47e0-bb6f-9cb152a423dc.jpg',\n",
              " '/content/gdrive/My Drive/GoogleCoLab/SkinImagingCollaboration/Train/dermatofibroma/output/dermatofibroma_original_ISIC_0030011.jpg_49c9d8b9-75ea-4264-b441-a92b2d268ae7.jpg',\n",
              " '/content/gdrive/My Drive/GoogleCoLab/SkinImagingCollaboration/Train/dermatofibroma/output/dermatofibroma_original_ISIC_0025302.jpg_f70a71e0-9429-4962-b6fd-749367ae34bb.jpg',\n",
              " '/content/gdrive/My Drive/GoogleCoLab/SkinImagingCollaboration/Train/dermatofibroma/output/dermatofibroma_original_ISIC_0030830.jpg_33c1d7b8-a9eb-44e0-8dfa-039ccd90ff6e.jpg',\n",
              " '/content/gdrive/My Drive/GoogleCoLab/SkinImagingCollaboration/Train/dermatofibroma/output/dermatofibroma_original_ISIC_0031827.jpg_24a26d89-1c67-4353-b8e3-a9435c0e65b3.jpg',\n",
              " '/content/gdrive/My Drive/GoogleCoLab/SkinImagingCollaboration/Train/dermatofibroma/output/dermatofibroma_original_ISIC_0028346.jpg_99f2616d-da4a-4d21-8bc7-a2cf34b42194.jpg',\n",
              " '/content/gdrive/My Drive/GoogleCoLab/SkinImagingCollaboration/Train/dermatofibroma/output/dermatofibroma_original_ISIC_0025314.jpg_b747a084-ff43-43dc-b79b-fa88e3df1c8d.jpg',\n",
              " '/content/gdrive/My Drive/GoogleCoLab/SkinImagingCollaboration/Train/dermatofibroma/output/dermatofibroma_original_ISIC_0027008.jpg_7f8e2e45-d8a5-4b88-b5c2-ee69d56a4834.jpg',\n",
              " '/content/gdrive/My Drive/GoogleCoLab/SkinImagingCollaboration/Train/dermatofibroma/output/dermatofibroma_original_ISIC_0025314.jpg_1e3458f6-21c8-4fc1-8e50-2b67a788057d.jpg',\n",
              " '/content/gdrive/My Drive/GoogleCoLab/SkinImagingCollaboration/Train/dermatofibroma/output/dermatofibroma_original_ISIC_0029973.jpg_8f2bbd2a-2d89-4199-8c13-3587247e0e48.jpg',\n",
              " '/content/gdrive/My Drive/GoogleCoLab/SkinImagingCollaboration/Train/dermatofibroma/output/dermatofibroma_original_ISIC_0027044.jpg_6ff0e1cd-50e7-4f10-8fa7-87653f08ffca.jpg',\n",
              " '/content/gdrive/My Drive/GoogleCoLab/SkinImagingCollaboration/Train/dermatofibroma/output/dermatofibroma_original_ISIC_0033860.jpg_f1e6f948-58d9-4457-b8a8-684af2d204d2.jpg',\n",
              " '/content/gdrive/My Drive/GoogleCoLab/SkinImagingCollaboration/Train/dermatofibroma/output/dermatofibroma_original_ISIC_0025314.jpg_a67fe4d6-9d74-4ef6-95f2-08a636f880e1.jpg',\n",
              " '/content/gdrive/My Drive/GoogleCoLab/SkinImagingCollaboration/Train/dermatofibroma/output/dermatofibroma_original_ISIC_0030321.jpg_12f6c185-af1f-4299-922e-67b4a4660bab.jpg',\n",
              " '/content/gdrive/My Drive/GoogleCoLab/SkinImagingCollaboration/Train/dermatofibroma/output/dermatofibroma_original_ISIC_0031735.jpg_d9123d25-01cd-4c85-89dd-19182a1d8953.jpg',\n",
              " '/content/gdrive/My Drive/GoogleCoLab/SkinImagingCollaboration/Train/dermatofibroma/output/dermatofibroma_original_ISIC_0030021.jpg_64b1ea96-8fd1-4045-83bd-eafd83d13a97.jpg',\n",
              " '/content/gdrive/My Drive/GoogleCoLab/SkinImagingCollaboration/Train/dermatofibroma/output/dermatofibroma_original_ISIC_0025373.jpg_8144fbe3-f3c0-439d-a525-aae8f253c689.jpg',\n",
              " '/content/gdrive/My Drive/GoogleCoLab/SkinImagingCollaboration/Train/dermatofibroma/output/dermatofibroma_original_ISIC_0030665.jpg_11bd8d78-a709-4037-b241-a505c12eb826.jpg',\n",
              " '/content/gdrive/My Drive/GoogleCoLab/SkinImagingCollaboration/Train/dermatofibroma/output/dermatofibroma_original_ISIC_0025302.jpg_39cb5b79-0d66-42ed-84e8-f7b702f1deb0.jpg',\n",
              " '/content/gdrive/My Drive/GoogleCoLab/SkinImagingCollaboration/Train/dermatofibroma/output/dermatofibroma_original_ISIC_0033554.jpg_ba5f5450-4ea9-44ef-898b-ba4a5a61db85.jpg',\n",
              " '/content/gdrive/My Drive/GoogleCoLab/SkinImagingCollaboration/Train/dermatofibroma/output/dermatofibroma_original_ISIC_0031344.jpg_45711882-156c-4861-8dbe-9ec71888bd6c.jpg',\n",
              " '/content/gdrive/My Drive/GoogleCoLab/SkinImagingCollaboration/Train/dermatofibroma/output/dermatofibroma_original_ISIC_0025668.jpg_d7ec9901-3182-4cee-a3f3-37a1eb4fd631.jpg',\n",
              " '/content/gdrive/My Drive/GoogleCoLab/SkinImagingCollaboration/Train/dermatofibroma/output/dermatofibroma_original_ISIC_0027216.jpg_48fbbf81-5b4b-4b8e-a2f3-7bf56e65547a.jpg',\n",
              " '/content/gdrive/My Drive/GoogleCoLab/SkinImagingCollaboration/Train/dermatofibroma/output/dermatofibroma_original_ISIC_0027044.jpg_f9a733e9-4de5-439e-888a-84339d9d57f2.jpg',\n",
              " '/content/gdrive/My Drive/GoogleCoLab/SkinImagingCollaboration/Train/dermatofibroma/output/dermatofibroma_original_ISIC_0030870.jpg_9d7bd28e-2960-4b60-a060-fbc6c61d2274.jpg',\n",
              " '/content/gdrive/My Drive/GoogleCoLab/SkinImagingCollaboration/Train/dermatofibroma/output/dermatofibroma_original_ISIC_0025302.jpg_aadbfbd1-96e7-412a-b7a6-a2adc389e593.jpg',\n",
              " '/content/gdrive/My Drive/GoogleCoLab/SkinImagingCollaboration/Train/dermatofibroma/output/dermatofibroma_original_ISIC_0030757.jpg_3f2c3619-3d32-4bc0-a201-a539d34dcad1.jpg',\n",
              " '/content/gdrive/My Drive/GoogleCoLab/SkinImagingCollaboration/Train/dermatofibroma/output/dermatofibroma_original_ISIC_0029052.jpg_5c3a27ec-65c4-4f5e-b0f2-bd160ff81132.jpg',\n",
              " '/content/gdrive/My Drive/GoogleCoLab/SkinImagingCollaboration/Train/dermatofibroma/output/dermatofibroma_original_ISIC_0025771.jpg_c6003113-a6f7-4ac6-905f-436f9000bbb1.jpg',\n",
              " '/content/gdrive/My Drive/GoogleCoLab/SkinImagingCollaboration/Train/dermatofibroma/output/dermatofibroma_original_ISIC_0031735.jpg_1139b649-5d5a-4c8b-9dcd-aaf6792fced4.jpg',\n",
              " '/content/gdrive/My Drive/GoogleCoLab/SkinImagingCollaboration/Train/dermatofibroma/output/dermatofibroma_original_ISIC_0029891.jpg_b7a89429-ec53-40e8-9a73-52fcd08e9576.jpg',\n",
              " '/content/gdrive/My Drive/GoogleCoLab/SkinImagingCollaboration/Train/dermatofibroma/output/dermatofibroma_original_ISIC_0032642.jpg_afed94f1-a3b1-485c-a803-30bcf9bfcad7.jpg',\n",
              " '/content/gdrive/My Drive/GoogleCoLab/SkinImagingCollaboration/Train/dermatofibroma/output/dermatofibroma_original_ISIC_0030021.jpg_4b13061d-f1d8-4285-b889-f7524825988c.jpg',\n",
              " '/content/gdrive/My Drive/GoogleCoLab/SkinImagingCollaboration/Train/dermatofibroma/output/dermatofibroma_original_ISIC_0033847.jpg_bed79960-b11d-43d6-b6e5-43e9a64d0b88.jpg',\n",
              " '/content/gdrive/My Drive/GoogleCoLab/SkinImagingCollaboration/Train/dermatofibroma/output/dermatofibroma_original_ISIC_0032613.jpg_554f19ef-db39-416d-aa7c-b67d39f815c9.jpg',\n",
              " '/content/gdrive/My Drive/GoogleCoLab/SkinImagingCollaboration/Train/dermatofibroma/output/dermatofibroma_original_ISIC_0027216.jpg_009e154d-a947-42a1-9e5c-591bd728a42b.jpg',\n",
              " '/content/gdrive/My Drive/GoogleCoLab/SkinImagingCollaboration/Train/dermatofibroma/output/dermatofibroma_original_ISIC_0025771.jpg_715cfc85-4ed7-4c1e-a3a6-048cbed97d20.jpg',\n",
              " '/content/gdrive/My Drive/GoogleCoLab/SkinImagingCollaboration/Train/dermatofibroma/output/dermatofibroma_original_ISIC_0027008.jpg_d1e04703-2db1-4f91-8f17-6b405f8bf46a.jpg',\n",
              " '/content/gdrive/My Drive/GoogleCoLab/SkinImagingCollaboration/Train/dermatofibroma/output/dermatofibroma_original_ISIC_0029297.jpg_3c5ff16c-bda1-4f91-a7d8-53b3f3fa941e.jpg',\n",
              " '/content/gdrive/My Drive/GoogleCoLab/SkinImagingCollaboration/Train/dermatofibroma/output/dermatofibroma_original_ISIC_0032613.jpg_65988e1a-27f6-4cb8-8e30-a708f86a64b0.jpg',\n",
              " '/content/gdrive/My Drive/GoogleCoLab/SkinImagingCollaboration/Train/dermatofibroma/output/dermatofibroma_original_ISIC_0025302.jpg_215ea36c-cfeb-445a-9ec6-afb9eb78e0f3.jpg',\n",
              " '/content/gdrive/My Drive/GoogleCoLab/SkinImagingCollaboration/Train/dermatofibroma/output/dermatofibroma_original_ISIC_0025504.jpg_25923be3-10cb-413c-9e68-0b3bdcadca3c.jpg',\n",
              " '/content/gdrive/My Drive/GoogleCoLab/SkinImagingCollaboration/Train/dermatofibroma/output/dermatofibroma_original_ISIC_0027488.jpg_85417ac4-98e5-417b-8cf1-5eb049ec86dc.jpg',\n",
              " '/content/gdrive/My Drive/GoogleCoLab/SkinImagingCollaboration/Train/dermatofibroma/output/dermatofibroma_original_ISIC_0031457.jpg_e80fd9e3-169a-4fab-bdfd-260f3ece57c7.jpg',\n",
              " '/content/gdrive/My Drive/GoogleCoLab/SkinImagingCollaboration/Train/dermatofibroma/output/dermatofibroma_original_ISIC_0029177.jpg_902b7c90-a798-4043-a43a-5020dddd2d04.jpg',\n",
              " '/content/gdrive/My Drive/GoogleCoLab/SkinImagingCollaboration/Train/dermatofibroma/output/dermatofibroma_original_ISIC_0032114.jpg_00715e44-751f-493a-9956-01429a68b8d5.jpg',\n",
              " '/content/gdrive/My Drive/GoogleCoLab/SkinImagingCollaboration/Train/dermatofibroma/output/dermatofibroma_original_ISIC_0028790.jpg_aa63eef2-8d7d-41fb-a9df-b19a4c057f6b.jpg',\n",
              " '/content/gdrive/My Drive/GoogleCoLab/SkinImagingCollaboration/Train/dermatofibroma/output/dermatofibroma_original_ISIC_0027107.jpg_0fe4cf84-2911-4cdd-9c34-8d85f0cd7958.jpg',\n",
              " '/content/gdrive/My Drive/GoogleCoLab/SkinImagingCollaboration/Train/dermatofibroma/output/dermatofibroma_original_ISIC_0025302.jpg_f2b860bb-a91b-4281-84e7-d591b9418ba5.jpg',\n",
              " '/content/gdrive/My Drive/GoogleCoLab/SkinImagingCollaboration/Train/dermatofibroma/output/dermatofibroma_original_ISIC_0025622.jpg_e338c79a-1948-425f-8608-0a5f10056bee.jpg',\n",
              " '/content/gdrive/My Drive/GoogleCoLab/SkinImagingCollaboration/Train/dermatofibroma/output/dermatofibroma_original_ISIC_0032613.jpg_659a340a-1956-4722-9de4-efd607fcdbef.jpg',\n",
              " '/content/gdrive/My Drive/GoogleCoLab/SkinImagingCollaboration/Train/dermatofibroma/output/dermatofibroma_original_ISIC_0025954.jpg_4ade8afd-23cb-4b36-84c7-3cdd9ba67520.jpg',\n",
              " '/content/gdrive/My Drive/GoogleCoLab/SkinImagingCollaboration/Train/dermatofibroma/output/dermatofibroma_original_ISIC_0033675.jpg_9fc899b9-814f-4427-ad31-aa7978733829.jpg',\n",
              " '/content/gdrive/My Drive/GoogleCoLab/SkinImagingCollaboration/Train/dermatofibroma/output/dermatofibroma_original_ISIC_0027626.jpg_eaf44cb2-e909-4716-a5cd-8306f5c79d39.jpg',\n",
              " '/content/gdrive/My Drive/GoogleCoLab/SkinImagingCollaboration/Train/dermatofibroma/output/dermatofibroma_original_ISIC_0031735.jpg_4a7e276e-e9dc-4fc1-a77a-a43d81b9255a.jpg',\n",
              " '/content/gdrive/My Drive/GoogleCoLab/SkinImagingCollaboration/Train/dermatofibroma/output/dermatofibroma_original_ISIC_0028880.jpg_bb96466f-42e3-4ccd-bb2d-e8ed0155b942.jpg',\n",
              " '/content/gdrive/My Drive/GoogleCoLab/SkinImagingCollaboration/Train/dermatofibroma/output/dermatofibroma_original_ISIC_0033675.jpg_93903701-a936-4a7b-8209-608e742d5be9.jpg',\n",
              " '/content/gdrive/My Drive/GoogleCoLab/SkinImagingCollaboration/Train/dermatofibroma/output/dermatofibroma_original_ISIC_0027613.jpg_19c6e4ed-26ee-4c76-84fa-51223d1626cc.jpg',\n",
              " '/content/gdrive/My Drive/GoogleCoLab/SkinImagingCollaboration/Train/dermatofibroma/output/dermatofibroma_original_ISIC_0030321.jpg_ba0c26f6-9e5b-477f-a65e-798acfbf43a4.jpg',\n",
              " '/content/gdrive/My Drive/GoogleCoLab/SkinImagingCollaboration/Train/dermatofibroma/output/dermatofibroma_original_ISIC_0025980.jpg_616afc5d-29ab-4733-b135-2adac6d08ac9.jpg',\n",
              " '/content/gdrive/My Drive/GoogleCoLab/SkinImagingCollaboration/Train/dermatofibroma/output/dermatofibroma_original_ISIC_0025771.jpg_4683a2e5-b479-4c07-af89-c13edd3d1edf.jpg',\n",
              " '/content/gdrive/My Drive/GoogleCoLab/SkinImagingCollaboration/Train/dermatofibroma/output/dermatofibroma_original_ISIC_0029578.jpg_5d362bf2-ef8c-4f72-8979-ef0633225314.jpg',\n",
              " '/content/gdrive/My Drive/GoogleCoLab/SkinImagingCollaboration/Train/dermatofibroma/output/dermatofibroma_original_ISIC_0029297.jpg_fa153e67-5369-49f9-b6ab-673c00955061.jpg',\n",
              " '/content/gdrive/My Drive/GoogleCoLab/SkinImagingCollaboration/Train/dermatofibroma/output/dermatofibroma_original_ISIC_0028926.jpg_856dad77-eada-40ee-9f25-3158efa7ff46.jpg',\n",
              " '/content/gdrive/My Drive/GoogleCoLab/SkinImagingCollaboration/Train/dermatofibroma/output/dermatofibroma_original_ISIC_0030011.jpg_9c4d2e37-816a-4436-9a62-bd778c4ba2c9.jpg',\n",
              " '/content/gdrive/My Drive/GoogleCoLab/SkinImagingCollaboration/Train/dermatofibroma/output/dermatofibroma_original_ISIC_0025223.jpg_923031bd-7a82-451e-852e-d3a62bb04748.jpg',\n",
              " '/content/gdrive/My Drive/GoogleCoLab/SkinImagingCollaboration/Train/dermatofibroma/output/dermatofibroma_original_ISIC_0026417.jpg_dff714a0-b6d5-4daa-a66f-a779833390c6.jpg',\n",
              " '/content/gdrive/My Drive/GoogleCoLab/SkinImagingCollaboration/Train/dermatofibroma/output/dermatofibroma_original_ISIC_0029962.jpg_0c7c327b-c174-4566-a95a-3189eae9f89e.jpg',\n",
              " '/content/gdrive/My Drive/GoogleCoLab/SkinImagingCollaboration/Train/dermatofibroma/output/dermatofibroma_original_ISIC_0027745.jpg_1a79e561-1577-40db-a176-39781c389f50.jpg',\n",
              " '/content/gdrive/My Drive/GoogleCoLab/SkinImagingCollaboration/Train/dermatofibroma/output/dermatofibroma_original_ISIC_0026417.jpg_f2ac4280-d018-4df7-96ce-5bc3fd9faac9.jpg',\n",
              " '/content/gdrive/My Drive/GoogleCoLab/SkinImagingCollaboration/Train/dermatofibroma/output/dermatofibroma_original_ISIC_0031827.jpg_2549bdca-7d66-4684-aac7-4117936cbfe9.jpg',\n",
              " '/content/gdrive/My Drive/GoogleCoLab/SkinImagingCollaboration/Train/dermatofibroma/output/dermatofibroma_original_ISIC_0033695.jpg_491fdd44-7ebf-49b1-8373-71c00f639765.jpg',\n",
              " '/content/gdrive/My Drive/GoogleCoLab/SkinImagingCollaboration/Train/dermatofibroma/output/dermatofibroma_original_ISIC_0029973.jpg_8bd13319-8b12-4da6-a75a-c6d4cbb3b2ad.jpg',\n",
              " '/content/gdrive/My Drive/GoogleCoLab/SkinImagingCollaboration/Train/dermatofibroma/output/dermatofibroma_original_ISIC_0029052.jpg_b7704268-4707-476f-811b-5ba0bbfea535.jpg',\n",
              " '/content/gdrive/My Drive/GoogleCoLab/SkinImagingCollaboration/Train/dermatofibroma/output/dermatofibroma_original_ISIC_0025504.jpg_52f3624f-7e1a-4b5e-ab25-01e1e8cf5ee4.jpg',\n",
              " '/content/gdrive/My Drive/GoogleCoLab/SkinImagingCollaboration/Train/dermatofibroma/output/dermatofibroma_original_ISIC_0032613.jpg_e43b93de-498b-4643-a8fc-a54e58d29554.jpg',\n",
              " '/content/gdrive/My Drive/GoogleCoLab/SkinImagingCollaboration/Train/dermatofibroma/output/dermatofibroma_original_ISIC_0033810.jpg_3bfa5ab9-732d-49df-80f9-398aca57624b.jpg',\n",
              " '/content/gdrive/My Drive/GoogleCoLab/SkinImagingCollaboration/Train/dermatofibroma/output/dermatofibroma_original_ISIC_0025504.jpg_32d51d35-3133-4b55-9691-df119baf8abf.jpg',\n",
              " '/content/gdrive/My Drive/GoogleCoLab/SkinImagingCollaboration/Train/dermatofibroma/output/dermatofibroma_original_ISIC_0028926.jpg_2e1d750a-98b1-483c-a531-8463e3485c9c.jpg',\n",
              " '/content/gdrive/My Drive/GoogleCoLab/SkinImagingCollaboration/Train/dermatofibroma/output/dermatofibroma_original_ISIC_0026313.jpg_6a1c25df-624b-4d58-8236-e7a5326d472f.jpg',\n",
              " '/content/gdrive/My Drive/GoogleCoLab/SkinImagingCollaboration/Train/dermatofibroma/output/dermatofibroma_original_ISIC_0025954.jpg_48cba469-17ae-44f2-9e62-ed84fe50cdec.jpg',\n",
              " '/content/gdrive/My Drive/GoogleCoLab/SkinImagingCollaboration/Train/dermatofibroma/output/dermatofibroma_original_ISIC_0029177.jpg_1dba1446-26fe-4cef-875c-d27e69c5a201.jpg',\n",
              " '/content/gdrive/My Drive/GoogleCoLab/SkinImagingCollaboration/Train/dermatofibroma/output/dermatofibroma_original_ISIC_0032642.jpg_dacc2819-3db2-49ee-852b-89b18ae3825b.jpg',\n",
              " '/content/gdrive/My Drive/GoogleCoLab/SkinImagingCollaboration/Train/dermatofibroma/output/dermatofibroma_original_ISIC_0031799.jpg_4b2cfd3f-540b-4e9f-9ad8-06fcbf1eb467.jpg',\n",
              " '/content/gdrive/My Drive/GoogleCoLab/SkinImagingCollaboration/Train/dermatofibroma/output/dermatofibroma_original_ISIC_0027626.jpg_e5b3df96-7cbd-4509-a5c1-4a4428a377f9.jpg',\n",
              " '/content/gdrive/My Drive/GoogleCoLab/SkinImagingCollaboration/Train/dermatofibroma/output/dermatofibroma_original_ISIC_0029962.jpg_4ab46fcc-f9c9-4ad0-9458-5774911ac8db.jpg',\n",
              " '/content/gdrive/My Drive/GoogleCoLab/SkinImagingCollaboration/Train/dermatofibroma/output/dermatofibroma_original_ISIC_0030555.jpg_b1df2229-7b83-470f-a209-7cba9bc4bbb7.jpg',\n",
              " '/content/gdrive/My Drive/GoogleCoLab/SkinImagingCollaboration/Train/dermatofibroma/output/dermatofibroma_original_ISIC_0033695.jpg_eab086a0-07b6-4298-bae2-fef8b2defdda.jpg',\n",
              " '/content/gdrive/My Drive/GoogleCoLab/SkinImagingCollaboration/Train/dermatofibroma/output/dermatofibroma_original_ISIC_0027141.jpg_532074bd-ce6f-4d7b-b385-381026f1c2db.jpg',\n",
              " '/content/gdrive/My Drive/GoogleCoLab/SkinImagingCollaboration/Train/dermatofibroma/output/dermatofibroma_original_ISIC_0033626.jpg_212877c0-f557-4b79-bde6-2301da1a263f.jpg',\n",
              " '/content/gdrive/My Drive/GoogleCoLab/SkinImagingCollaboration/Train/dermatofibroma/output/dermatofibroma_original_ISIC_0026313.jpg_b6365148-c8f6-41cb-a29e-9e9b455bcf30.jpg',\n",
              " '/content/gdrive/My Drive/GoogleCoLab/SkinImagingCollaboration/Train/dermatofibroma/output/dermatofibroma_original_ISIC_0025622.jpg_612a0ebe-449e-40e8-b38e-c4ae41580f7b.jpg',\n",
              " '/content/gdrive/My Drive/GoogleCoLab/SkinImagingCollaboration/Train/dermatofibroma/output/dermatofibroma_original_ISIC_0028880.jpg_333c2241-5524-4896-af4c-e8850345db28.jpg',\n",
              " '/content/gdrive/My Drive/GoogleCoLab/SkinImagingCollaboration/Train/dermatofibroma/output/dermatofibroma_original_ISIC_0030321.jpg_b334ac6f-3716-45c9-bc08-943a8b512036.jpg',\n",
              " '/content/gdrive/My Drive/GoogleCoLab/SkinImagingCollaboration/Train/dermatofibroma/output/dermatofibroma_original_ISIC_0030830.jpg_bf73cb49-21d9-4155-b395-b66dd2b74a42.jpg',\n",
              " '/content/gdrive/My Drive/GoogleCoLab/SkinImagingCollaboration/Train/dermatofibroma/output/dermatofibroma_original_ISIC_0033780.jpg_db2c53e5-f16f-4eca-8daa-cf5fdf1db514.jpg',\n",
              " '/content/gdrive/My Drive/GoogleCoLab/SkinImagingCollaboration/Train/dermatofibroma/output/dermatofibroma_original_ISIC_0025302.jpg_4376f19b-fa09-4c36-82e6-4a68fc7d4838.jpg',\n",
              " '/content/gdrive/My Drive/GoogleCoLab/SkinImagingCollaboration/Train/dermatofibroma/output/dermatofibroma_original_ISIC_0033808.jpg_8bf2a083-0ee2-4bc0-96e6-6f23bddfbeac.jpg',\n",
              " '/content/gdrive/My Drive/GoogleCoLab/SkinImagingCollaboration/Train/dermatofibroma/output/dermatofibroma_original_ISIC_0027107.jpg_63f3a7fc-1cf8-474c-ac88-670afb78af96.jpg',\n",
              " '/content/gdrive/My Drive/GoogleCoLab/SkinImagingCollaboration/Train/dermatofibroma/output/dermatofibroma_original_ISIC_0025954.jpg_941b86d4-2f86-4ba6-ad86-b87c1dac5345.jpg',\n",
              " '/content/gdrive/My Drive/GoogleCoLab/SkinImagingCollaboration/Train/dermatofibroma/output/dermatofibroma_original_ISIC_0030011.jpg_f7db2f34-3725-44b3-8aa2-c033d235f176.jpg',\n",
              " '/content/gdrive/My Drive/GoogleCoLab/SkinImagingCollaboration/Train/dermatofibroma/output/dermatofibroma_original_ISIC_0031358.jpg_9860da20-df84-4da4-91e6-7a3d26152e52.jpg',\n",
              " '/content/gdrive/My Drive/GoogleCoLab/SkinImagingCollaboration/Train/dermatofibroma/output/dermatofibroma_original_ISIC_0033790.jpg_e6ffda34-bc3e-4b0a-b9d6-b6103c3e8596.jpg',\n",
              " '/content/gdrive/My Drive/GoogleCoLab/SkinImagingCollaboration/Train/dermatofibroma/output/dermatofibroma_original_ISIC_0033808.jpg_bfdeaee1-0ae1-4aad-9ae6-bd074a8fa63e.jpg',\n",
              " '/content/gdrive/My Drive/GoogleCoLab/SkinImagingCollaboration/Train/dermatofibroma/output/dermatofibroma_original_ISIC_0030579.jpg_bd51984e-a455-47c6-a811-f40a0c01cd91.jpg',\n",
              " '/content/gdrive/My Drive/GoogleCoLab/SkinImagingCollaboration/Train/dermatofibroma/output/dermatofibroma_original_ISIC_0025504.jpg_0b5618bb-fc18-426d-a186-6526fbc76c62.jpg',\n",
              " '/content/gdrive/My Drive/GoogleCoLab/SkinImagingCollaboration/Train/dermatofibroma/output/dermatofibroma_original_ISIC_0034135.jpg_d5e7d0d1-69b5-430e-bf06-9d94bf2b3a82.jpg',\n",
              " '/content/gdrive/My Drive/GoogleCoLab/SkinImagingCollaboration/Train/dermatofibroma/output/dermatofibroma_original_ISIC_0030579.jpg_5b967b0a-64e3-438a-8504-2e2d032fb552.jpg',\n",
              " '/content/gdrive/My Drive/GoogleCoLab/SkinImagingCollaboration/Train/dermatofibroma/output/dermatofibroma_original_ISIC_0031372.jpg_bae92016-a740-485c-98a9-4781da35e54b.jpg',\n",
              " '/content/gdrive/My Drive/GoogleCoLab/SkinImagingCollaboration/Train/dermatofibroma/output/dermatofibroma_original_ISIC_0032613.jpg_27866cc7-5d8f-42e9-b271-096cf5df13bb.jpg',\n",
              " '/content/gdrive/My Drive/GoogleCoLab/SkinImagingCollaboration/Train/dermatofibroma/output/dermatofibroma_original_ISIC_0032247.jpg_96103b09-0d00-48cc-bf8c-997fb2e9a655.jpg',\n",
              " '/content/gdrive/My Drive/GoogleCoLab/SkinImagingCollaboration/Train/dermatofibroma/output/dermatofibroma_original_ISIC_0033891.jpg_95c35826-8780-4e9f-b963-17b2314e4a19.jpg',\n",
              " '/content/gdrive/My Drive/GoogleCoLab/SkinImagingCollaboration/Train/dermatofibroma/output/dermatofibroma_original_ISIC_0033790.jpg_77dbca0a-1c5a-4da3-9edd-32599e5382d2.jpg',\n",
              " '/content/gdrive/My Drive/GoogleCoLab/SkinImagingCollaboration/Train/dermatofibroma/output/dermatofibroma_original_ISIC_0029824.jpg_d7c7bbe3-b162-463b-913d-cf813d2e5d1c.jpg',\n",
              " '/content/gdrive/My Drive/GoogleCoLab/SkinImagingCollaboration/Train/dermatofibroma/output/dermatofibroma_original_ISIC_0026629.jpg_f560f5e2-e661-4db0-b876-d76204623023.jpg',\n",
              " '/content/gdrive/My Drive/GoogleCoLab/SkinImagingCollaboration/Train/dermatofibroma/output/dermatofibroma_original_ISIC_0028346.jpg_769615b2-093b-4cb5-8268-fdca4671cbed.jpg',\n",
              " '/content/gdrive/My Drive/GoogleCoLab/SkinImagingCollaboration/Train/dermatofibroma/output/dermatofibroma_original_ISIC_0030021.jpg_7e166c64-9e48-405e-a6d7-40713f35b456.jpg',\n",
              " '/content/gdrive/My Drive/GoogleCoLab/SkinImagingCollaboration/Train/dermatofibroma/output/dermatofibroma_original_ISIC_0030015.jpg_95950440-0234-4eec-9a63-095081e83ef5.jpg',\n",
              " '/content/gdrive/My Drive/GoogleCoLab/SkinImagingCollaboration/Train/dermatofibroma/output/dermatofibroma_original_ISIC_0033808.jpg_6ea76bf2-6f65-4843-bd53-80ce82a22bda.jpg',\n",
              " '/content/gdrive/My Drive/GoogleCoLab/SkinImagingCollaboration/Train/dermatofibroma/output/dermatofibroma_original_ISIC_0028880.jpg_015f1149-f4d3-4d76-b7a6-691b6bebf85d.jpg',\n",
              " '/content/gdrive/My Drive/GoogleCoLab/SkinImagingCollaboration/Train/dermatofibroma/output/dermatofibroma_original_ISIC_0025954.jpg_cd5b6a99-4ac2-4fe3-895a-257dd3b8a1ee.jpg',\n",
              " '/content/gdrive/My Drive/GoogleCoLab/SkinImagingCollaboration/Train/dermatofibroma/output/dermatofibroma_original_ISIC_0028880.jpg_2acd393b-7cd3-40bc-b2f7-db3bdbb7957d.jpg',\n",
              " '/content/gdrive/My Drive/GoogleCoLab/SkinImagingCollaboration/Train/dermatofibroma/output/dermatofibroma_original_ISIC_0027876.jpg_9c0611b8-e744-496f-b84b-263ef0ff1e09.jpg',\n",
              " '/content/gdrive/My Drive/GoogleCoLab/SkinImagingCollaboration/Train/dermatofibroma/output/dermatofibroma_original_ISIC_0028346.jpg_8b9642f8-4a5b-4a56-a64d-79953da93a12.jpg',\n",
              " '/content/gdrive/My Drive/GoogleCoLab/SkinImagingCollaboration/Train/dermatofibroma/output/dermatofibroma_original_ISIC_0031457.jpg_2b55cec7-6c0f-4141-8d6e-18bb505c58d9.jpg',\n",
              " '/content/gdrive/My Drive/GoogleCoLab/SkinImagingCollaboration/Train/dermatofibroma/output/dermatofibroma_original_ISIC_0033626.jpg_e232ba1a-d008-4e51-ac50-ef070ac628a7.jpg',\n",
              " '/content/gdrive/My Drive/GoogleCoLab/SkinImagingCollaboration/Train/dermatofibroma/output/dermatofibroma_original_ISIC_0030427.jpg_a32af4ce-4da6-4f64-a2eb-a37b9069c852.jpg',\n",
              " '/content/gdrive/My Drive/GoogleCoLab/SkinImagingCollaboration/Train/dermatofibroma/output/dermatofibroma_original_ISIC_0033891.jpg_16595063-cbd8-46bc-b2e2-94370f8db0fb.jpg',\n",
              " '/content/gdrive/My Drive/GoogleCoLab/SkinImagingCollaboration/Train/dermatofibroma/output/dermatofibroma_original_ISIC_0025903.jpg_bcc2e172-51c5-4d42-aaba-a9ab21fb7ba1.jpg',\n",
              " '/content/gdrive/My Drive/GoogleCoLab/SkinImagingCollaboration/Train/dermatofibroma/output/dermatofibroma_original_ISIC_0033891.jpg_2d67e3be-df61-4756-a47e-14a4d2ff3fe9.jpg',\n",
              " '/content/gdrive/My Drive/GoogleCoLab/SkinImagingCollaboration/Train/dermatofibroma/output/dermatofibroma_original_ISIC_0030665.jpg_6838cd86-82b3-4f45-a406-6348659fa2bd.jpg',\n",
              " '/content/gdrive/My Drive/GoogleCoLab/SkinImagingCollaboration/Train/dermatofibroma/output/dermatofibroma_original_ISIC_0025668.jpg_5ed66a9c-5a7c-4319-95bc-f9e0fb81cf4b.jpg',\n",
              " '/content/gdrive/My Drive/GoogleCoLab/SkinImagingCollaboration/Train/dermatofibroma/output/dermatofibroma_original_ISIC_0033695.jpg_89436c3b-c10f-4043-b809-4227c339aec8.jpg',\n",
              " '/content/gdrive/My Drive/GoogleCoLab/SkinImagingCollaboration/Train/dermatofibroma/output/dermatofibroma_original_ISIC_0025314.jpg_014cd807-a643-41bf-91f6-2cfe21357a83.jpg',\n",
              " '/content/gdrive/My Drive/GoogleCoLab/SkinImagingCollaboration/Train/dermatofibroma/output/dermatofibroma_original_ISIC_0029962.jpg_a6cf8aa7-9eaf-41be-8957-d7ff8f36bbd3.jpg',\n",
              " '/content/gdrive/My Drive/GoogleCoLab/SkinImagingCollaboration/Train/dermatofibroma/output/dermatofibroma_original_ISIC_0027648.jpg_c3e41be4-f77c-4d83-9b26-992cbca68f82.jpg',\n",
              " '/content/gdrive/My Drive/GoogleCoLab/SkinImagingCollaboration/Train/dermatofibroma/output/dermatofibroma_original_ISIC_0029052.jpg_1422fdb8-446e-413f-8b28-f0585bd8b60a.jpg',\n",
              " '/content/gdrive/My Drive/GoogleCoLab/SkinImagingCollaboration/Train/dermatofibroma/output/dermatofibroma_original_ISIC_0025373.jpg_18669951-e862-46ca-bddf-5de5f7851910.jpg',\n",
              " '/content/gdrive/My Drive/GoogleCoLab/SkinImagingCollaboration/Train/dermatofibroma/output/dermatofibroma_original_ISIC_0034135.jpg_ae63718e-fc4d-4620-8429-fe52ff5137fa.jpg',\n",
              " '/content/gdrive/My Drive/GoogleCoLab/SkinImagingCollaboration/Train/dermatofibroma/output/dermatofibroma_original_ISIC_0030011.jpg_8e84a811-2a59-4d02-b0e1-4258e0db7d14.jpg',\n",
              " '/content/gdrive/My Drive/GoogleCoLab/SkinImagingCollaboration/Train/dermatofibroma/output/dermatofibroma_original_ISIC_0027141.jpg_49d2a56a-19cf-48cf-be09-a5819999ea92.jpg',\n",
              " '/content/gdrive/My Drive/GoogleCoLab/SkinImagingCollaboration/Train/dermatofibroma/output/dermatofibroma_original_ISIC_0026313.jpg_f1d34e14-3b62-46ee-956d-fb0fe8f908dd.jpg',\n",
              " '/content/gdrive/My Drive/GoogleCoLab/SkinImagingCollaboration/Train/dermatofibroma/output/dermatofibroma_original_ISIC_0026313.jpg_2af35603-d55f-4edd-9836-b9373707c845.jpg',\n",
              " '/content/gdrive/My Drive/GoogleCoLab/SkinImagingCollaboration/Train/dermatofibroma/output/dermatofibroma_original_ISIC_0028651.jpg_ff456fe1-491f-49d7-ae21-e5f5fe1b5292.jpg',\n",
              " '/content/gdrive/My Drive/GoogleCoLab/SkinImagingCollaboration/Train/dermatofibroma/output/dermatofibroma_original_ISIC_0033695.jpg_6ad4d4a7-2569-4dd8-9438-dbfbe0c13d90.jpg',\n",
              " '/content/gdrive/My Drive/GoogleCoLab/SkinImagingCollaboration/Train/dermatofibroma/output/dermatofibroma_original_ISIC_0026789.jpg_d3f99b80-b251-4dee-9377-7dd573a1709f.jpg',\n",
              " '/content/gdrive/My Drive/GoogleCoLab/SkinImagingCollaboration/Train/dermatofibroma/output/dermatofibroma_original_ISIC_0031827.jpg_1ceb5af4-1218-4942-b6ea-e72fec2dcf8e.jpg',\n",
              " '/content/gdrive/My Drive/GoogleCoLab/SkinImagingCollaboration/Train/dermatofibroma/output/dermatofibroma_original_ISIC_0031344.jpg_393c6617-5821-421d-bec2-644c7d11bde0.jpg',\n",
              " '/content/gdrive/My Drive/GoogleCoLab/SkinImagingCollaboration/Train/dermatofibroma/output/dermatofibroma_original_ISIC_0033626.jpg_ad82f8d7-113e-4a6c-b623-a79405a084ad.jpg',\n",
              " '/content/gdrive/My Drive/GoogleCoLab/SkinImagingCollaboration/Train/dermatofibroma/output/dermatofibroma_original_ISIC_0030427.jpg_8aa79040-29b2-405c-8fab-696c1bad9684.jpg',\n",
              " '/content/gdrive/My Drive/GoogleCoLab/SkinImagingCollaboration/Train/dermatofibroma/output/dermatofibroma_original_ISIC_0026789.jpg_f4431c38-085e-4a8a-b8a6-6b4eaa974f6c.jpg',\n",
              " '/content/gdrive/My Drive/GoogleCoLab/SkinImagingCollaboration/Train/dermatofibroma/output/dermatofibroma_original_ISIC_0031358.jpg_2ded031b-5382-4cc4-8624-d42974839c38.jpg',\n",
              " '/content/gdrive/My Drive/GoogleCoLab/SkinImagingCollaboration/Train/dermatofibroma/output/dermatofibroma_original_ISIC_0033005.jpg_86410064-7aff-425f-bb93-c04d25b97f13.jpg',\n",
              " '/content/gdrive/My Drive/GoogleCoLab/SkinImagingCollaboration/Train/dermatofibroma/output/dermatofibroma_original_ISIC_0026254.jpg_943c56c8-efe6-42da-8b81-3dfa892d8ce5.jpg',\n",
              " '/content/gdrive/My Drive/GoogleCoLab/SkinImagingCollaboration/Train/dermatofibroma/output/dermatofibroma_original_ISIC_0031257.jpg_29e78401-0c4f-471a-a17e-94a33c926a4d.jpg',\n",
              " '/content/gdrive/My Drive/GoogleCoLab/SkinImagingCollaboration/Train/dermatofibroma/output/dermatofibroma_original_ISIC_0031344.jpg_5d0fa986-fdb6-4f0c-9feb-52586c228425.jpg',\n",
              " '/content/gdrive/My Drive/GoogleCoLab/SkinImagingCollaboration/Train/dermatofibroma/output/dermatofibroma_original_ISIC_0031271.jpg_71080683-b113-41b3-8c87-5aaf7f53d180.jpg',\n",
              " '/content/gdrive/My Drive/GoogleCoLab/SkinImagingCollaboration/Train/dermatofibroma/output/dermatofibroma_original_ISIC_0030830.jpg_ef35982e-d29e-431a-b691-4cb5d9f59f3e.jpg',\n",
              " '/content/gdrive/My Drive/GoogleCoLab/SkinImagingCollaboration/Train/dermatofibroma/output/dermatofibroma_original_ISIC_0030442.jpg_9257bf63-6740-4f66-a595-b97d6e73320d.jpg',\n",
              " '/content/gdrive/My Drive/GoogleCoLab/SkinImagingCollaboration/Train/dermatofibroma/output/dermatofibroma_original_ISIC_0029967.jpg_5df77108-ef44-4de6-a9dd-90069691fef7.jpg',\n",
              " '/content/gdrive/My Drive/GoogleCoLab/SkinImagingCollaboration/Train/dermatofibroma/output/dermatofibroma_original_ISIC_0033810.jpg_6f5a6ad6-aaa5-4ba3-8f24-3f00209af43f.jpg',\n",
              " '/content/gdrive/My Drive/GoogleCoLab/SkinImagingCollaboration/Train/dermatofibroma/output/dermatofibroma_original_ISIC_0033847.jpg_4ee7f8aa-ea43-4b90-aec7-cd659cb37b19.jpg',\n",
              " '/content/gdrive/My Drive/GoogleCoLab/SkinImagingCollaboration/Train/dermatofibroma/output/dermatofibroma_original_ISIC_0030555.jpg_36c42d4d-48fb-4678-92a5-7db02f6bb164.jpg',\n",
              " '/content/gdrive/My Drive/GoogleCoLab/SkinImagingCollaboration/Train/dermatofibroma/output/dermatofibroma_original_ISIC_0031735.jpg_902c7036-3dd2-4a72-bb0c-35dc9862ab12.jpg',\n",
              " '/content/gdrive/My Drive/GoogleCoLab/SkinImagingCollaboration/Train/basal cell carcinoma/output/basal cell carcinoma_original_ISIC_0031520.jpg_6c4ec59a-5aa8-4c44-a959-506153aa2587.jpg',\n",
              " '/content/gdrive/My Drive/GoogleCoLab/SkinImagingCollaboration/Train/basal cell carcinoma/output/basal cell carcinoma_original_ISIC_0031258.jpg_dd04d65d-a8d0-4cd1-b7bd-9c5e81aefdba.jpg',\n",
              " '/content/gdrive/My Drive/GoogleCoLab/SkinImagingCollaboration/Train/basal cell carcinoma/output/basal cell carcinoma_original_ISIC_0025417.jpg_4b7448ee-46ec-4723-99a8-09443dbf5c29.jpg',\n",
              " '/content/gdrive/My Drive/GoogleCoLab/SkinImagingCollaboration/Train/basal cell carcinoma/output/basal cell carcinoma_original_ISIC_0030352.jpg_6f2ee23c-f78e-4ed8-b5d4-973ae1753bb0.jpg',\n",
              " '/content/gdrive/My Drive/GoogleCoLab/SkinImagingCollaboration/Train/basal cell carcinoma/output/basal cell carcinoma_original_ISIC_0030230.jpg_617ea0a7-24f3-4ca8-97ce-2446d01cf0bd.jpg',\n",
              " '/content/gdrive/My Drive/GoogleCoLab/SkinImagingCollaboration/Train/basal cell carcinoma/output/basal cell carcinoma_original_ISIC_0025509.jpg_9a8db18e-24d6-4c4d-9d61-a57a89810b22.jpg',\n",
              " '/content/gdrive/My Drive/GoogleCoLab/SkinImagingCollaboration/Train/basal cell carcinoma/output/basal cell carcinoma_original_ISIC_0026865.jpg_f1421481-4294-48fa-8e38-b010c1ecb0f4.jpg',\n",
              " '/content/gdrive/My Drive/GoogleCoLab/SkinImagingCollaboration/Train/basal cell carcinoma/output/basal cell carcinoma_original_ISIC_0025691.jpg_75c97819-5e20-42cd-9d1c-686d25526e39.jpg',\n",
              " '/content/gdrive/My Drive/GoogleCoLab/SkinImagingCollaboration/Train/basal cell carcinoma/output/basal cell carcinoma_original_ISIC_0030230.jpg_55a94cef-12c3-465f-a1eb-32c507bbfb50.jpg',\n",
              " '/content/gdrive/My Drive/GoogleCoLab/SkinImagingCollaboration/Train/basal cell carcinoma/output/basal cell carcinoma_original_ISIC_0027004.jpg_9ec17ee2-2dbc-4e91-8060-259f2b1ed311.jpg',\n",
              " '/content/gdrive/My Drive/GoogleCoLab/SkinImagingCollaboration/Train/basal cell carcinoma/output/basal cell carcinoma_original_ISIC_0025718.jpg_7f39974e-f6dc-436e-9a30-27e31389239f.jpg',\n",
              " '/content/gdrive/My Drive/GoogleCoLab/SkinImagingCollaboration/Train/basal cell carcinoma/output/basal cell carcinoma_original_ISIC_0027595.jpg_b54c6b26-5458-4819-bfa1-e0a9d0bf2757.jpg',\n",
              " '/content/gdrive/My Drive/GoogleCoLab/SkinImagingCollaboration/Train/basal cell carcinoma/output/basal cell carcinoma_original_ISIC_0026798.jpg_b42ca38e-b565-4100-9116-08d3b5215357.jpg',\n",
              " '/content/gdrive/My Drive/GoogleCoLab/SkinImagingCollaboration/Train/basal cell carcinoma/output/basal cell carcinoma_original_ISIC_0030261.jpg_8690f486-00ad-438e-9c3c-a07d057c0d4d.jpg',\n",
              " '/content/gdrive/My Drive/GoogleCoLab/SkinImagingCollaboration/Train/basal cell carcinoma/output/basal cell carcinoma_original_ISIC_0027858.jpg_abe4b5db-a7ce-43a9-b103-66498773dc93.jpg',\n",
              " '/content/gdrive/My Drive/GoogleCoLab/SkinImagingCollaboration/Train/basal cell carcinoma/output/basal cell carcinoma_original_ISIC_0030261.jpg_dc9057c9-b114-4174-a1af-678f4ba739d2.jpg',\n",
              " '/content/gdrive/My Drive/GoogleCoLab/SkinImagingCollaboration/Train/basal cell carcinoma/output/basal cell carcinoma_original_ISIC_0025644.jpg_f943db9a-f77a-414e-b4a8-b7b48375f25d.jpg',\n",
              " '/content/gdrive/My Drive/GoogleCoLab/SkinImagingCollaboration/Train/basal cell carcinoma/output/basal cell carcinoma_original_ISIC_0028316.jpg_87bac1a2-3971-4c38-93ab-484ce071ffb4.jpg',\n",
              " '/content/gdrive/My Drive/GoogleCoLab/SkinImagingCollaboration/Train/basal cell carcinoma/output/basal cell carcinoma_original_ISIC_0030954.jpg_e98f2096-597b-4d88-a460-dc14f29ae618.jpg',\n",
              " '/content/gdrive/My Drive/GoogleCoLab/SkinImagingCollaboration/Train/basal cell carcinoma/output/basal cell carcinoma_original_ISIC_0025824.jpg_f2db0b80-368b-476c-83aa-7683a94945c8.jpg',\n",
              " '/content/gdrive/My Drive/GoogleCoLab/SkinImagingCollaboration/Train/basal cell carcinoma/output/basal cell carcinoma_original_ISIC_0031169.jpg_dbfd30f0-266e-4189-87aa-65d2122fc95e.jpg',\n",
              " '/content/gdrive/My Drive/GoogleCoLab/SkinImagingCollaboration/Train/basal cell carcinoma/output/basal cell carcinoma_original_ISIC_0030766.jpg_289b7ac8-3388-4803-b7b6-bb404d097f4e.jpg',\n",
              " '/content/gdrive/My Drive/GoogleCoLab/SkinImagingCollaboration/Train/basal cell carcinoma/output/basal cell carcinoma_original_ISIC_0024795.jpg_0b869793-e1d3-40f5-9d36-92c8534d783d.jpg',\n",
              " '/content/gdrive/My Drive/GoogleCoLab/SkinImagingCollaboration/Train/basal cell carcinoma/output/basal cell carcinoma_original_ISIC_0029524.jpg_5f25be69-c988-4bc1-a2d4-4f92114ed39f.jpg',\n",
              " '/content/gdrive/My Drive/GoogleCoLab/SkinImagingCollaboration/Train/basal cell carcinoma/output/basal cell carcinoma_original_ISIC_0031062.jpg_4d455d68-6676-4b27-bfba-ae9128697eca.jpg',\n",
              " '/content/gdrive/My Drive/GoogleCoLab/SkinImagingCollaboration/Train/basal cell carcinoma/output/basal cell carcinoma_original_ISIC_0025630.jpg_1b2c6768-7d4c-44e7-b9e3-e98f9fd0b00e.jpg',\n",
              " '/content/gdrive/My Drive/GoogleCoLab/SkinImagingCollaboration/Train/basal cell carcinoma/output/basal cell carcinoma_original_ISIC_0028583.jpg_76649a85-8165-47af-b38b-c349ba399bba.jpg',\n",
              " '/content/gdrive/My Drive/GoogleCoLab/SkinImagingCollaboration/Train/basal cell carcinoma/output/basal cell carcinoma_original_ISIC_0025102.jpg_90a6f1f8-5f7f-4648-9e68-f33581926bdd.jpg',\n",
              " '/content/gdrive/My Drive/GoogleCoLab/SkinImagingCollaboration/Train/basal cell carcinoma/output/basal cell carcinoma_original_ISIC_0024632.jpg_9e983e91-5bed-464d-a033-94a553a95170.jpg',\n",
              " '/content/gdrive/My Drive/GoogleCoLab/SkinImagingCollaboration/Train/basal cell carcinoma/output/basal cell carcinoma_original_ISIC_0029755.jpg_81806758-436e-4d3f-bfbe-e8e225b782b7.jpg',\n",
              " '/content/gdrive/My Drive/GoogleCoLab/SkinImagingCollaboration/Train/basal cell carcinoma/output/basal cell carcinoma_original_ISIC_0028577.jpg_dfb5a9de-6ad3-4747-bb83-22140f1b29eb.jpg',\n",
              " '/content/gdrive/My Drive/GoogleCoLab/SkinImagingCollaboration/Train/basal cell carcinoma/output/basal cell carcinoma_original_ISIC_0025266.jpg_08e9414a-058d-4ad8-8097-e6000e5cc6f4.jpg',\n",
              " '/content/gdrive/My Drive/GoogleCoLab/SkinImagingCollaboration/Train/basal cell carcinoma/output/basal cell carcinoma_original_ISIC_0025601.jpg_1b098d75-47e1-49e0-9157-6400b0ccff1b.jpg',\n",
              " '/content/gdrive/My Drive/GoogleCoLab/SkinImagingCollaboration/Train/basal cell carcinoma/output/basal cell carcinoma_original_ISIC_0030403.jpg_6dcce466-322f-4fbd-ba0b-43bc52a76876.jpg',\n",
              " '/content/gdrive/My Drive/GoogleCoLab/SkinImagingCollaboration/Train/basal cell carcinoma/output/basal cell carcinoma_original_ISIC_0031351.jpg_e00e703a-0be5-4159-b8c5-a86526e49e72.jpg',\n",
              " '/content/gdrive/My Drive/GoogleCoLab/SkinImagingCollaboration/Train/basal cell carcinoma/output/basal cell carcinoma_original_ISIC_0026766.jpg_8febf39a-ef63-47b8-8fda-a28712182d5c.jpg',\n",
              " '/content/gdrive/My Drive/GoogleCoLab/SkinImagingCollaboration/Train/basal cell carcinoma/output/basal cell carcinoma_original_ISIC_0027544.jpg_9d355881-3ebc-4429-98aa-68ed96e0f281.jpg',\n",
              " '/content/gdrive/My Drive/GoogleCoLab/SkinImagingCollaboration/Train/basal cell carcinoma/output/basal cell carcinoma_original_ISIC_0031569.jpg_c19361e2-b960-49e2-96dc-da50e7636e9e.jpg',\n",
              " '/content/gdrive/My Drive/GoogleCoLab/SkinImagingCollaboration/Train/basal cell carcinoma/output/basal cell carcinoma_original_ISIC_0030230.jpg_c1294de7-3757-475c-8fce-5df9fb53b106.jpg',\n",
              " '/content/gdrive/My Drive/GoogleCoLab/SkinImagingCollaboration/Train/basal cell carcinoma/output/basal cell carcinoma_original_ISIC_0030514.jpg_a416d588-de34-4240-ab89-6ed09fa49ec1.jpg',\n",
              " '/content/gdrive/My Drive/GoogleCoLab/SkinImagingCollaboration/Train/basal cell carcinoma/output/basal cell carcinoma_original_ISIC_0025509.jpg_dbecc42f-50f2-479f-b2cb-db855a86a17f.jpg',\n",
              " '/content/gdrive/My Drive/GoogleCoLab/SkinImagingCollaboration/Train/basal cell carcinoma/output/basal cell carcinoma_original_ISIC_0024582.jpg_60d67855-8f19-4cec-ae4a-ef7579973234.jpg',\n",
              " '/content/gdrive/My Drive/GoogleCoLab/SkinImagingCollaboration/Train/basal cell carcinoma/output/basal cell carcinoma_original_ISIC_0027433.jpg_0babb8a2-bc34-452c-ac81-8799237a916b.jpg',\n",
              " '/content/gdrive/My Drive/GoogleCoLab/SkinImagingCollaboration/Train/basal cell carcinoma/output/basal cell carcinoma_original_ISIC_0031245.jpg_1f9f850f-6c06-4884-91c2-ba5deb7148c5.jpg',\n",
              " '/content/gdrive/My Drive/GoogleCoLab/SkinImagingCollaboration/Train/basal cell carcinoma/output/basal cell carcinoma_original_ISIC_0031413.jpg_ed5b4e3c-b514-4f06-84ef-8c289c86c372.jpg',\n",
              " '/content/gdrive/My Drive/GoogleCoLab/SkinImagingCollaboration/Train/basal cell carcinoma/output/basal cell carcinoma_original_ISIC_0029129.jpg_d5da736d-e7ea-452e-afca-3a0ac9224a91.jpg',\n",
              " '/content/gdrive/My Drive/GoogleCoLab/SkinImagingCollaboration/Train/basal cell carcinoma/output/basal cell carcinoma_original_ISIC_0025971.jpg_b653f37d-c3d7-49f0-b67c-6d699ac016fa.jpg',\n",
              " '/content/gdrive/My Drive/GoogleCoLab/SkinImagingCollaboration/Train/basal cell carcinoma/output/basal cell carcinoma_original_ISIC_0031272.jpg_c6d0dfca-e192-403d-8999-e50cff8e8d07.jpg',\n",
              " '/content/gdrive/My Drive/GoogleCoLab/SkinImagingCollaboration/Train/basal cell carcinoma/output/basal cell carcinoma_original_ISIC_0027544.jpg_c955e25e-45c4-4d90-968d-d36c9a46c9ee.jpg',\n",
              " '/content/gdrive/My Drive/GoogleCoLab/SkinImagingCollaboration/Train/basal cell carcinoma/output/basal cell carcinoma_original_ISIC_0025144.jpg_616642db-bfad-4df0-9cde-660595034dc5.jpg',\n",
              " '/content/gdrive/My Drive/GoogleCoLab/SkinImagingCollaboration/Train/basal cell carcinoma/output/basal cell carcinoma_original_ISIC_0031095.jpg_05ccbeaf-b5ce-4b81-91ee-7f53f15fea0a.jpg',\n",
              " '/content/gdrive/My Drive/GoogleCoLab/SkinImagingCollaboration/Train/basal cell carcinoma/output/basal cell carcinoma_original_ISIC_0029082.jpg_ad652b37-86a6-47c5-9a21-525af83be60c.jpg',\n",
              " '/content/gdrive/My Drive/GoogleCoLab/SkinImagingCollaboration/Train/basal cell carcinoma/output/basal cell carcinoma_original_ISIC_0025731.jpg_168cab8d-abb1-43cb-84f2-7bc5ba0f76a9.jpg',\n",
              " '/content/gdrive/My Drive/GoogleCoLab/SkinImagingCollaboration/Train/basal cell carcinoma/output/basal cell carcinoma_original_ISIC_0028106.jpg_6da547e2-386f-4397-bffc-6b39429a0f76.jpg',\n",
              " '/content/gdrive/My Drive/GoogleCoLab/SkinImagingCollaboration/Train/basal cell carcinoma/output/basal cell carcinoma_original_ISIC_0030690.jpg_5873aff0-2f69-43a2-a1d6-58a3d1a762eb.jpg',\n",
              " '/content/gdrive/My Drive/GoogleCoLab/SkinImagingCollaboration/Train/basal cell carcinoma/output/basal cell carcinoma_original_ISIC_0027920.jpg_8008b36d-e66a-4b74-b53b-427849c74879.jpg',\n",
              " '/content/gdrive/My Drive/GoogleCoLab/SkinImagingCollaboration/Train/basal cell carcinoma/output/basal cell carcinoma_original_ISIC_0024550.jpg_cf0aa41a-516a-4827-bfdd-1a10b5a8b679.jpg',\n",
              " '/content/gdrive/My Drive/GoogleCoLab/SkinImagingCollaboration/Train/basal cell carcinoma/output/basal cell carcinoma_original_ISIC_0027788.jpg_84ebe89c-3207-40cf-9c8a-7e8c424151d9.jpg',\n",
              " '/content/gdrive/My Drive/GoogleCoLab/SkinImagingCollaboration/Train/basal cell carcinoma/output/basal cell carcinoma_original_ISIC_0030737.jpg_d3c4eaf5-7092-431d-ae53-af2e04ee1ade.jpg',\n",
              " '/content/gdrive/My Drive/GoogleCoLab/SkinImagingCollaboration/Train/basal cell carcinoma/output/basal cell carcinoma_original_ISIC_0027546.jpg_d765c1a2-4c65-4f36-a30e-4f58754b4c32.jpg',\n",
              " '/content/gdrive/My Drive/GoogleCoLab/SkinImagingCollaboration/Train/basal cell carcinoma/output/basal cell carcinoma_original_ISIC_0028719.jpg_e268d256-621c-4dda-a021-84fb3fab0445.jpg',\n",
              " '/content/gdrive/My Drive/GoogleCoLab/SkinImagingCollaboration/Train/basal cell carcinoma/output/basal cell carcinoma_original_ISIC_0028937.jpg_5917faf2-649e-4b08-aeb1-6c238d45acf9.jpg',\n",
              " '/content/gdrive/My Drive/GoogleCoLab/SkinImagingCollaboration/Train/basal cell carcinoma/output/basal cell carcinoma_original_ISIC_0029974.jpg_39485cee-8891-43f8-aa9f-89a30efcd403.jpg',\n",
              " '/content/gdrive/My Drive/GoogleCoLab/SkinImagingCollaboration/Train/basal cell carcinoma/output/basal cell carcinoma_original_ISIC_0027786.jpg_85fa7ee1-da85-45f7-b865-eecd11e53310.jpg',\n",
              " '/content/gdrive/My Drive/GoogleCoLab/SkinImagingCollaboration/Train/basal cell carcinoma/output/basal cell carcinoma_original_ISIC_0025362.jpg_21c8b05f-47c8-4c76-a418-26466587a4c3.jpg',\n",
              " '/content/gdrive/My Drive/GoogleCoLab/SkinImagingCollaboration/Train/basal cell carcinoma/output/basal cell carcinoma_original_ISIC_0031520.jpg_558128da-10a3-4392-abe4-68ca003dfa9a.jpg',\n",
              " '/content/gdrive/My Drive/GoogleCoLab/SkinImagingCollaboration/Train/basal cell carcinoma/output/basal cell carcinoma_original_ISIC_0028688.jpg_55e40fe3-e48a-4725-bc18-fb2bb7a382f1.jpg',\n",
              " '/content/gdrive/My Drive/GoogleCoLab/SkinImagingCollaboration/Train/basal cell carcinoma/output/basal cell carcinoma_original_ISIC_0028739.jpg_8aa7de78-11d1-4cfd-9e11-6bd0f2f94aa8.jpg',\n",
              " '/content/gdrive/My Drive/GoogleCoLab/SkinImagingCollaboration/Train/basal cell carcinoma/output/basal cell carcinoma_original_ISIC_0026716.jpg_d6370891-d370-481e-b31b-4fac8c2b3e85.jpg',\n",
              " '/content/gdrive/My Drive/GoogleCoLab/SkinImagingCollaboration/Train/basal cell carcinoma/output/basal cell carcinoma_original_ISIC_0028877.jpg_ba977fc2-ed4b-472e-9434-96af599f78f3.jpg',\n",
              " '/content/gdrive/My Drive/GoogleCoLab/SkinImagingCollaboration/Train/basal cell carcinoma/output/basal cell carcinoma_original_ISIC_0030181.jpg_dfa4bc28-12ce-4369-86a0-c94085236d4e.jpg',\n",
              " '/content/gdrive/My Drive/GoogleCoLab/SkinImagingCollaboration/Train/basal cell carcinoma/output/basal cell carcinoma_original_ISIC_0031614.jpg_d081b6dd-648c-4562-97fb-f5476bbd6caa.jpg',\n",
              " '/content/gdrive/My Drive/GoogleCoLab/SkinImagingCollaboration/Train/basal cell carcinoma/output/basal cell carcinoma_original_ISIC_0029323.jpg_e7185050-34e9-4749-b70c-0289afefa83a.jpg',\n",
              " '/content/gdrive/My Drive/GoogleCoLab/SkinImagingCollaboration/Train/basal cell carcinoma/output/basal cell carcinoma_original_ISIC_0028652.jpg_d75167b3-b093-475e-b5f7-9ff2d8004dd3.jpg',\n",
              " '/content/gdrive/My Drive/GoogleCoLab/SkinImagingCollaboration/Train/basal cell carcinoma/output/basal cell carcinoma_original_ISIC_0026716.jpg_9d376796-e592-4164-9113-c1cbbcb5942b.jpg',\n",
              " '/content/gdrive/My Drive/GoogleCoLab/SkinImagingCollaboration/Train/basal cell carcinoma/output/basal cell carcinoma_original_ISIC_0028671.jpg_cde071ca-4411-4705-9e99-baeb13686839.jpg',\n",
              " '/content/gdrive/My Drive/GoogleCoLab/SkinImagingCollaboration/Train/basal cell carcinoma/output/basal cell carcinoma_original_ISIC_0027976.jpg_b9837796-7550-44d1-8b32-1dea1a4c9107.jpg',\n",
              " '/content/gdrive/My Drive/GoogleCoLab/SkinImagingCollaboration/Train/basal cell carcinoma/output/basal cell carcinoma_original_ISIC_0024984.jpg_2b58f050-7f2f-4fdd-9ef5-cce243247765.jpg',\n",
              " '/content/gdrive/My Drive/GoogleCoLab/SkinImagingCollaboration/Train/basal cell carcinoma/output/basal cell carcinoma_original_ISIC_0028084.jpg_e95c38f9-136e-4e5b-8664-38e196062a58.jpg',\n",
              " '/content/gdrive/My Drive/GoogleCoLab/SkinImagingCollaboration/Train/basal cell carcinoma/output/basal cell carcinoma_original_ISIC_0029680.jpg_71d43b7b-9493-469c-9286-15f0e917acf9.jpg',\n",
              " '/content/gdrive/My Drive/GoogleCoLab/SkinImagingCollaboration/Train/basal cell carcinoma/output/basal cell carcinoma_original_ISIC_0031531.jpg_94533926-1ab7-427e-908a-3024d3192774.jpg',\n",
              " '/content/gdrive/My Drive/GoogleCoLab/SkinImagingCollaboration/Train/basal cell carcinoma/output/basal cell carcinoma_original_ISIC_0027609.jpg_6abeb81a-485c-4ef9-8dde-866b02bd7761.jpg',\n",
              " '/content/gdrive/My Drive/GoogleCoLab/SkinImagingCollaboration/Train/basal cell carcinoma/output/basal cell carcinoma_original_ISIC_0027291.jpg_33cd4712-29ba-42f3-9699-d86d40f6bef1.jpg',\n",
              " '/content/gdrive/My Drive/GoogleCoLab/SkinImagingCollaboration/Train/basal cell carcinoma/output/basal cell carcinoma_original_ISIC_0028765.jpg_1cf1a4cc-42e6-44ba-8228-e2207e5810c4.jpg',\n",
              " '/content/gdrive/My Drive/GoogleCoLab/SkinImagingCollaboration/Train/basal cell carcinoma/output/basal cell carcinoma_original_ISIC_0025644.jpg_f7a8c42a-b5bb-41af-86a7-b8e31df49578.jpg',\n",
              " '/content/gdrive/My Drive/GoogleCoLab/SkinImagingCollaboration/Train/basal cell carcinoma/output/basal cell carcinoma_original_ISIC_0026324.jpg_f5cb80ab-5319-4dc1-8be7-8bdbce671bfa.jpg',\n",
              " '/content/gdrive/My Drive/GoogleCoLab/SkinImagingCollaboration/Train/basal cell carcinoma/output/basal cell carcinoma_original_ISIC_0029489.jpg_850eda1f-8821-47b1-a75c-7336e20e37ab.jpg',\n",
              " '/content/gdrive/My Drive/GoogleCoLab/SkinImagingCollaboration/Train/basal cell carcinoma/output/basal cell carcinoma_original_ISIC_0027004.jpg_a8dcf1a0-322a-45be-be1c-8990af14f3e0.jpg',\n",
              " '/content/gdrive/My Drive/GoogleCoLab/SkinImagingCollaboration/Train/basal cell carcinoma/output/basal cell carcinoma_original_ISIC_0025617.jpg_39cc21ef-486d-4fb4-a4dc-05b747f5ab16.jpg',\n",
              " '/content/gdrive/My Drive/GoogleCoLab/SkinImagingCollaboration/Train/basal cell carcinoma/output/basal cell carcinoma_original_ISIC_0025322.jpg_6640d89e-15c3-4686-99bb-1fb62d153f87.jpg',\n",
              " '/content/gdrive/My Drive/GoogleCoLab/SkinImagingCollaboration/Train/basal cell carcinoma/output/basal cell carcinoma_original_ISIC_0025417.jpg_636eea31-8b6a-464d-b232-9403e0a49669.jpg',\n",
              " '/content/gdrive/My Drive/GoogleCoLab/SkinImagingCollaboration/Train/basal cell carcinoma/output/basal cell carcinoma_original_ISIC_0027425.jpg_38214b0c-4a4c-42fa-968f-ad0a3d7e0d50.jpg',\n",
              " '/content/gdrive/My Drive/GoogleCoLab/SkinImagingCollaboration/Train/basal cell carcinoma/output/basal cell carcinoma_original_ISIC_0026952.jpg_75fda746-ba2f-4a34-b597-13b0b68c5a95.jpg',\n",
              " '/content/gdrive/My Drive/GoogleCoLab/SkinImagingCollaboration/Train/basal cell carcinoma/output/basal cell carcinoma_original_ISIC_0030574.jpg_1126ee39-73b8-481f-90ee-b78d78a8de34.jpg',\n",
              " '/content/gdrive/My Drive/GoogleCoLab/SkinImagingCollaboration/Train/basal cell carcinoma/output/basal cell carcinoma_original_ISIC_0025467.jpg_82fdde74-e39a-4fc9-8a98-b5120e3d28f0.jpg',\n",
              " '/content/gdrive/My Drive/GoogleCoLab/SkinImagingCollaboration/Train/basal cell carcinoma/output/basal cell carcinoma_original_ISIC_0031266.jpg_fa91d30b-84b2-4725-bfe0-503444a691c6.jpg',\n",
              " '/content/gdrive/My Drive/GoogleCoLab/SkinImagingCollaboration/Train/basal cell carcinoma/output/basal cell carcinoma_original_ISIC_0027920.jpg_4df8cd9c-04a5-4b75-99b5-a043bd4b329b.jpg',\n",
              " '/content/gdrive/My Drive/GoogleCoLab/SkinImagingCollaboration/Train/basal cell carcinoma/output/basal cell carcinoma_original_ISIC_0028095.jpg_a8b99c35-0c38-4d1b-b938-ec8db59e816b.jpg',\n",
              " '/content/gdrive/My Drive/GoogleCoLab/SkinImagingCollaboration/Train/basal cell carcinoma/output/basal cell carcinoma_original_ISIC_0028059.jpg_e697c397-308c-4360-bf68-89535c84855e.jpg',\n",
              " '/content/gdrive/My Drive/GoogleCoLab/SkinImagingCollaboration/Train/basal cell carcinoma/output/basal cell carcinoma_original_ISIC_0030403.jpg_7a92e887-e626-4d3d-9860-99d99771e328.jpg',\n",
              " '/content/gdrive/My Drive/GoogleCoLab/SkinImagingCollaboration/Train/basal cell carcinoma/output/basal cell carcinoma_original_ISIC_0028197.jpg_c97c301c-f38c-43d5-b400-4debb8248d2e.jpg',\n",
              " '/content/gdrive/My Drive/GoogleCoLab/SkinImagingCollaboration/Train/basal cell carcinoma/output/basal cell carcinoma_original_ISIC_0026154.jpg_31ce4ecb-b1e1-4b0d-888c-dff1204a84c1.jpg',\n",
              " '/content/gdrive/My Drive/GoogleCoLab/SkinImagingCollaboration/Train/basal cell carcinoma/output/basal cell carcinoma_original_ISIC_0024632.jpg_94a59853-6d36-416b-8793-a4d06e3ded0c.jpg',\n",
              " '/content/gdrive/My Drive/GoogleCoLab/SkinImagingCollaboration/Train/basal cell carcinoma/output/basal cell carcinoma_original_ISIC_0028747.jpg_ee973a62-b14b-44cc-a33f-e2cc76b5c8ff.jpg',\n",
              " '/content/gdrive/My Drive/GoogleCoLab/SkinImagingCollaboration/Train/basal cell carcinoma/output/basal cell carcinoma_original_ISIC_0028653.jpg_4773716b-4871-4626-bfef-d6989a6ac976.jpg',\n",
              " '/content/gdrive/My Drive/GoogleCoLab/SkinImagingCollaboration/Train/basal cell carcinoma/output/basal cell carcinoma_original_ISIC_0030644.jpg_e8c89f22-171a-4488-9489-c99f1e9d0654.jpg',\n",
              " '/content/gdrive/My Drive/GoogleCoLab/SkinImagingCollaboration/Train/basal cell carcinoma/output/basal cell carcinoma_original_ISIC_0028457.jpg_4af6c87b-c23d-4c9b-b933-5dd52b2ada62.jpg',\n",
              " '/content/gdrive/My Drive/GoogleCoLab/SkinImagingCollaboration/Train/basal cell carcinoma/output/basal cell carcinoma_original_ISIC_0028577.jpg_f45f009b-6d2a-43ad-9c63-4011a660bc6a.jpg',\n",
              " '/content/gdrive/My Drive/GoogleCoLab/SkinImagingCollaboration/Train/basal cell carcinoma/output/basal cell carcinoma_original_ISIC_0028583.jpg_e05c7ffb-df6d-4b45-8bca-2a98bdb024ed.jpg',\n",
              " '/content/gdrive/My Drive/GoogleCoLab/SkinImagingCollaboration/Train/basal cell carcinoma/output/basal cell carcinoma_original_ISIC_0024743.jpg_8daba9cd-74e9-4f2c-91d2-03102f7a839f.jpg',\n",
              " '/content/gdrive/My Drive/GoogleCoLab/SkinImagingCollaboration/Train/basal cell carcinoma/output/basal cell carcinoma_original_ISIC_0031041.jpg_63e8e3b5-1d77-4451-95a2-3e904ccb70f5.jpg',\n",
              " '/content/gdrive/My Drive/GoogleCoLab/SkinImagingCollaboration/Train/basal cell carcinoma/output/basal cell carcinoma_original_ISIC_0027759.jpg_5499c550-778a-4360-89c3-1bc4faf18f35.jpg',\n",
              " '/content/gdrive/My Drive/GoogleCoLab/SkinImagingCollaboration/Train/basal cell carcinoma/output/basal cell carcinoma_original_ISIC_0028739.jpg_3a9b5bd6-fb7a-4395-afea-296fc4977b0a.jpg',\n",
              " '/content/gdrive/My Drive/GoogleCoLab/SkinImagingCollaboration/Train/basal cell carcinoma/output/basal cell carcinoma_original_ISIC_0025513.jpg_bce33404-e50f-4bf1-b34f-6b6c132917c4.jpg',\n",
              " '/content/gdrive/My Drive/GoogleCoLab/SkinImagingCollaboration/Train/basal cell carcinoma/output/basal cell carcinoma_original_ISIC_0030526.jpg_6a6f943d-c794-475b-9d45-39f68841229f.jpg',\n",
              " '/content/gdrive/My Drive/GoogleCoLab/SkinImagingCollaboration/Train/basal cell carcinoma/output/basal cell carcinoma_original_ISIC_0026343.jpg_7755dc76-bbf5-4a21-a395-1b07b2cc9a30.jpg',\n",
              " '/content/gdrive/My Drive/GoogleCoLab/SkinImagingCollaboration/Train/basal cell carcinoma/output/basal cell carcinoma_original_ISIC_0030271.jpg_4b46cfda-e6a2-4252-acbb-f0a91f928fac.jpg',\n",
              " '/content/gdrive/My Drive/GoogleCoLab/SkinImagingCollaboration/Train/basal cell carcinoma/output/basal cell carcinoma_original_ISIC_0028035.jpg_80d03514-4110-4759-acd3-bfd7d8ed39ff.jpg',\n",
              " '/content/gdrive/My Drive/GoogleCoLab/SkinImagingCollaboration/Train/basal cell carcinoma/output/basal cell carcinoma_original_ISIC_0028568.jpg_c26a76b7-24b9-446a-8944-08fffe933d93.jpg',\n",
              " '/content/gdrive/My Drive/GoogleCoLab/SkinImagingCollaboration/Train/basal cell carcinoma/output/basal cell carcinoma_original_ISIC_0028688.jpg_edb2735e-ab5e-4a5f-b27d-0e9895539e51.jpg',\n",
              " '/content/gdrive/My Drive/GoogleCoLab/SkinImagingCollaboration/Train/basal cell carcinoma/output/basal cell carcinoma_original_ISIC_0029539.jpg_f570f551-5d7d-42c9-b256-4902b158c631.jpg',\n",
              " '/content/gdrive/My Drive/GoogleCoLab/SkinImagingCollaboration/Train/basal cell carcinoma/output/basal cell carcinoma_original_ISIC_0026282.jpg_c08cbfd3-c195-472a-8a94-766271520948.jpg',\n",
              " '/content/gdrive/My Drive/GoogleCoLab/SkinImagingCollaboration/Train/basal cell carcinoma/output/basal cell carcinoma_original_ISIC_0031258.jpg_23499f35-52b7-4867-ad4f-bbc6c2e7784c.jpg',\n",
              " '/content/gdrive/My Drive/GoogleCoLab/SkinImagingCollaboration/Train/basal cell carcinoma/output/basal cell carcinoma_original_ISIC_0025031.jpg_827c8805-1a48-4c23-bd3c-dde5301a4f48.jpg',\n",
              " '/content/gdrive/My Drive/GoogleCoLab/SkinImagingCollaboration/Train/basal cell carcinoma/output/basal cell carcinoma_original_ISIC_0026656.jpg_c2cdbf26-510e-4c27-9a0a-846f29a22bf7.jpg',\n",
              " '/content/gdrive/My Drive/GoogleCoLab/SkinImagingCollaboration/Train/basal cell carcinoma/output/basal cell carcinoma_original_ISIC_0029917.jpg_08ae5af6-59dc-4110-8344-47034204e7c3.jpg',\n",
              " '/content/gdrive/My Drive/GoogleCoLab/SkinImagingCollaboration/Train/basal cell carcinoma/output/basal cell carcinoma_original_ISIC_0031236.jpg_b1df1869-611b-4b5f-96e2-3252492b1d44.jpg',\n",
              " '/content/gdrive/My Drive/GoogleCoLab/SkinImagingCollaboration/Train/basal cell carcinoma/output/basal cell carcinoma_original_ISIC_0025301.jpg_ea2eaa3c-74e7-4cd0-a376-26d25b13861f.jpg',\n",
              " '/content/gdrive/My Drive/GoogleCoLab/SkinImagingCollaboration/Train/basal cell carcinoma/output/basal cell carcinoma_original_ISIC_0028113.jpg_51d7c2b0-4f2c-4466-a84f-5cdfc1892041.jpg',\n",
              " '/content/gdrive/My Drive/GoogleCoLab/SkinImagingCollaboration/Train/basal cell carcinoma/output/basal cell carcinoma_original_ISIC_0024666.jpg_7bd910c2-094f-4e23-8dcd-e80a77a36461.jpg',\n",
              " '/content/gdrive/My Drive/GoogleCoLab/SkinImagingCollaboration/Train/basal cell carcinoma/output/basal cell carcinoma_original_ISIC_0029489.jpg_10289ace-a59e-4a8c-871b-fe5c52b0f3f4.jpg',\n",
              " '/content/gdrive/My Drive/GoogleCoLab/SkinImagingCollaboration/Train/basal cell carcinoma/output/basal cell carcinoma_original_ISIC_0026343.jpg_f6ced930-3405-40f9-888c-cb0049b0bd8a.jpg',\n",
              " '/content/gdrive/My Drive/GoogleCoLab/SkinImagingCollaboration/Train/basal cell carcinoma/output/basal cell carcinoma_original_ISIC_0027525.jpg_3006df79-08d6-4e24-9f82-cf557748de54.jpg',\n",
              " '/content/gdrive/My Drive/GoogleCoLab/SkinImagingCollaboration/Train/basal cell carcinoma/output/basal cell carcinoma_original_ISIC_0031225.jpg_df21cf73-68bc-4265-9c82-f5d51eba810d.jpg',\n",
              " '/content/gdrive/My Drive/GoogleCoLab/SkinImagingCollaboration/Train/basal cell carcinoma/output/basal cell carcinoma_original_ISIC_0026798.jpg_771356e9-b563-42de-81dc-df5ab4f0c92f.jpg',\n",
              " '/content/gdrive/My Drive/GoogleCoLab/SkinImagingCollaboration/Train/basal cell carcinoma/output/basal cell carcinoma_original_ISIC_0029546.jpg_6ac53dd4-7527-407b-8315-7fc278b88702.jpg',\n",
              " '/content/gdrive/My Drive/GoogleCoLab/SkinImagingCollaboration/Train/basal cell carcinoma/output/basal cell carcinoma_original_ISIC_0024833.jpg_0e375123-a160-4932-a411-f53b2337e58c.jpg',\n",
              " '/content/gdrive/My Drive/GoogleCoLab/SkinImagingCollaboration/Train/basal cell carcinoma/output/basal cell carcinoma_original_ISIC_0027774.jpg_cab93a91-7aa0-4803-a0d7-3672d9dde10e.jpg',\n",
              " '/content/gdrive/My Drive/GoogleCoLab/SkinImagingCollaboration/Train/basal cell carcinoma/output/basal cell carcinoma_original_ISIC_0030800.jpg_73bc52be-ff51-4fc9-9815-08498850d379.jpg',\n",
              " '/content/gdrive/My Drive/GoogleCoLab/SkinImagingCollaboration/Train/basal cell carcinoma/output/basal cell carcinoma_original_ISIC_0029524.jpg_608112e8-2d1e-458c-b013-3dd33e9fb75b.jpg',\n",
              " '/content/gdrive/My Drive/GoogleCoLab/SkinImagingCollaboration/Train/basal cell carcinoma/output/basal cell carcinoma_original_ISIC_0031243.jpg_22ea8f2b-b8fd-48bc-8655-41b7f72ffd5c.jpg',\n",
              " '/content/gdrive/My Drive/GoogleCoLab/SkinImagingCollaboration/Train/basal cell carcinoma/output/basal cell carcinoma_original_ISIC_0025299.jpg_907eada0-66f2-41e4-b025-fd5e6999e6ae.jpg',\n",
              " '/content/gdrive/My Drive/GoogleCoLab/SkinImagingCollaboration/Train/basal cell carcinoma/output/basal cell carcinoma_original_ISIC_0026855.jpg_a80daa3e-ea30-4f71-8be5-a0b613e82468.jpg',\n",
              " '/content/gdrive/My Drive/GoogleCoLab/SkinImagingCollaboration/Train/basal cell carcinoma/output/basal cell carcinoma_original_ISIC_0029412.jpg_32e90694-9db5-4786-91ff-5a3d377c2913.jpg',\n",
              " '/content/gdrive/My Drive/GoogleCoLab/SkinImagingCollaboration/Train/basal cell carcinoma/output/basal cell carcinoma_original_ISIC_0028350.jpg_c3475541-6114-4835-b98d-8eb478c0cea6.jpg',\n",
              " '/content/gdrive/My Drive/GoogleCoLab/SkinImagingCollaboration/Train/basal cell carcinoma/output/basal cell carcinoma_original_ISIC_0029655.jpg_b867faa4-adc5-4605-aaec-0b5beebdd2f3.jpg',\n",
              " '/content/gdrive/My Drive/GoogleCoLab/SkinImagingCollaboration/Train/basal cell carcinoma/output/basal cell carcinoma_original_ISIC_0026798.jpg_2c4bfaf2-c4e6-45ee-b30c-cef57db5a0b2.jpg',\n",
              " '/content/gdrive/My Drive/GoogleCoLab/SkinImagingCollaboration/Train/basal cell carcinoma/output/basal cell carcinoma_original_ISIC_0028050.jpg_f80f950b-2649-4c9a-8d89-540a1a979e50.jpg',\n",
              " '/content/gdrive/My Drive/GoogleCoLab/SkinImagingCollaboration/Train/basal cell carcinoma/output/basal cell carcinoma_original_ISIC_0031236.jpg_660fb915-e5dc-47f1-b4e2-3dbd947222f2.jpg',\n",
              " '/content/gdrive/My Drive/GoogleCoLab/SkinImagingCollaboration/Train/basal cell carcinoma/output/basal cell carcinoma_original_ISIC_0026829.jpg_44f2e7d4-d387-44ba-8ca3-a90388941d07.jpg',\n",
              " '/content/gdrive/My Drive/GoogleCoLab/SkinImagingCollaboration/Train/basal cell carcinoma/output/basal cell carcinoma_original_ISIC_0030782.jpg_7e5cd3b8-9013-489e-a491-867834a85c47.jpg',\n",
              " '/content/gdrive/My Drive/GoogleCoLab/SkinImagingCollaboration/Train/basal cell carcinoma/output/basal cell carcinoma_original_ISIC_0028739.jpg_4bed0824-e6dc-42d1-92ce-271778a72fc2.jpg',\n",
              " '/content/gdrive/My Drive/GoogleCoLab/SkinImagingCollaboration/Train/basal cell carcinoma/output/basal cell carcinoma_original_ISIC_0027677.jpg_33466eb0-393f-4575-9ec2-2c971adb7abf.jpg',\n",
              " '/content/gdrive/My Drive/GoogleCoLab/SkinImagingCollaboration/Train/basal cell carcinoma/output/basal cell carcinoma_original_ISIC_0030335.jpg_f5d6f64b-cba3-40f3-83f8-b762476581bd.jpg',\n",
              " '/content/gdrive/My Drive/GoogleCoLab/SkinImagingCollaboration/Train/basal cell carcinoma/output/basal cell carcinoma_original_ISIC_0025433.jpg_19f6e46e-9d4c-4b01-919a-fcc125b08dec.jpg',\n",
              " '/content/gdrive/My Drive/GoogleCoLab/SkinImagingCollaboration/Train/basal cell carcinoma/output/basal cell carcinoma_original_ISIC_0027478.jpg_671e9385-d07a-456d-b810-376d1d32e442.jpg',\n",
              " '/content/gdrive/My Drive/GoogleCoLab/SkinImagingCollaboration/Train/basal cell carcinoma/output/basal cell carcinoma_original_ISIC_0026324.jpg_47d69eea-52fb-42d4-b568-fe9893d4a57d.jpg',\n",
              " '/content/gdrive/My Drive/GoogleCoLab/SkinImagingCollaboration/Train/basal cell carcinoma/output/basal cell carcinoma_original_ISIC_0024984.jpg_11e24357-befd-479b-9931-888004a2a59d.jpg',\n",
              " '/content/gdrive/My Drive/GoogleCoLab/SkinImagingCollaboration/Train/basal cell carcinoma/output/basal cell carcinoma_original_ISIC_0031041.jpg_05193970-9acb-4729-afef-2f6c9c56ac89.jpg',\n",
              " '/content/gdrive/My Drive/GoogleCoLab/SkinImagingCollaboration/Train/basal cell carcinoma/output/basal cell carcinoma_original_ISIC_0030339.jpg_adc50f1e-69bd-414a-a7e0-dda55ad4197f.jpg',\n",
              " '/content/gdrive/My Drive/GoogleCoLab/SkinImagingCollaboration/Train/basal cell carcinoma/output/basal cell carcinoma_original_ISIC_0025019.jpg_665301f2-a2c4-4e00-a8b8-c34172bb847c.jpg',\n",
              " '/content/gdrive/My Drive/GoogleCoLab/SkinImagingCollaboration/Train/basal cell carcinoma/output/basal cell carcinoma_original_ISIC_0025383.jpg_8575d22d-e2be-4eaa-abbd-aa2e123ee31a.jpg',\n",
              " '/content/gdrive/My Drive/GoogleCoLab/SkinImagingCollaboration/Train/basal cell carcinoma/output/basal cell carcinoma_original_ISIC_0026760.jpg_fd5c3da3-5ed5-4841-b34e-a060b121cfbd.jpg',\n",
              " '/content/gdrive/My Drive/GoogleCoLab/SkinImagingCollaboration/Train/basal cell carcinoma/output/basal cell carcinoma_original_ISIC_0027544.jpg_3bfa9461-b0ae-4efc-94da-726fc79e929d.jpg',\n",
              " '/content/gdrive/My Drive/GoogleCoLab/SkinImagingCollaboration/Train/basal cell carcinoma/output/basal cell carcinoma_original_ISIC_0031539.jpg_c69409e2-ae1c-4802-bb98-00181787213c.jpg',\n",
              " '/content/gdrive/My Drive/GoogleCoLab/SkinImagingCollaboration/Train/basal cell carcinoma/output/basal cell carcinoma_original_ISIC_0028084.jpg_bcb516c5-dd93-44c9-a2b6-3266be1eb8e8.jpg',\n",
              " '/content/gdrive/My Drive/GoogleCoLab/SkinImagingCollaboration/Train/basal cell carcinoma/output/basal cell carcinoma_original_ISIC_0029331.jpg_6c520abc-7944-4207-9567-3161e2c336fa.jpg',\n",
              " '/content/gdrive/My Drive/GoogleCoLab/SkinImagingCollaboration/Train/basal cell carcinoma/output/basal cell carcinoma_original_ISIC_0027722.jpg_a6c0e7ae-b49f-49c2-831c-172dc3a9160f.jpg',\n",
              " '/content/gdrive/My Drive/GoogleCoLab/SkinImagingCollaboration/Train/basal cell carcinoma/output/basal cell carcinoma_original_ISIC_0025818.jpg_ee87c2be-e89f-44e2-8a39-74e570f89f01.jpg',\n",
              " '/content/gdrive/My Drive/GoogleCoLab/SkinImagingCollaboration/Train/basal cell carcinoma/output/basal cell carcinoma_original_ISIC_0031258.jpg_05310002-1547-410e-b462-cfdbe9f7a159.jpg',\n",
              " '/content/gdrive/My Drive/GoogleCoLab/SkinImagingCollaboration/Train/basal cell carcinoma/output/basal cell carcinoma_original_ISIC_0025932.jpg_27c5c403-6872-4d30-8766-f14db0acc174.jpg',\n",
              " '/content/gdrive/My Drive/GoogleCoLab/SkinImagingCollaboration/Train/basal cell carcinoma/output/basal cell carcinoma_original_ISIC_0028113.jpg_28cb2aa5-e26b-456d-b665-855ec12b351f.jpg',\n",
              " '/content/gdrive/My Drive/GoogleCoLab/SkinImagingCollaboration/Train/basal cell carcinoma/output/basal cell carcinoma_original_ISIC_0025971.jpg_84d2a2e0-01a2-4e31-b9b9-cbb61acecfee.jpg',\n",
              " '/content/gdrive/My Drive/GoogleCoLab/SkinImagingCollaboration/Train/basal cell carcinoma/output/basal cell carcinoma_original_ISIC_0028653.jpg_79a7abc0-32a8-4fb6-ad9d-2436bd1ae2ef.jpg',\n",
              " '/content/gdrive/My Drive/GoogleCoLab/SkinImagingCollaboration/Train/basal cell carcinoma/output/basal cell carcinoma_original_ISIC_0029220.jpg_95f103ee-6c16-4b27-be58-664521917a09.jpg',\n",
              " '/content/gdrive/My Drive/GoogleCoLab/SkinImagingCollaboration/Train/basal cell carcinoma/output/basal cell carcinoma_original_ISIC_0031552.jpg_d408bdda-c1eb-4ad3-85fb-bd685f21e6bf.jpg',\n",
              " '/content/gdrive/My Drive/GoogleCoLab/SkinImagingCollaboration/Train/basal cell carcinoma/output/basal cell carcinoma_original_ISIC_0029129.jpg_665af07d-6134-492f-8ee0-98baabc524ce.jpg',\n",
              " '/content/gdrive/My Drive/GoogleCoLab/SkinImagingCollaboration/Train/basal cell carcinoma/output/basal cell carcinoma_original_ISIC_0031442.jpg_b46321bc-c5b5-4edc-9f1b-9d15e82fc6a5.jpg',\n",
              " '/content/gdrive/My Drive/GoogleCoLab/SkinImagingCollaboration/Train/basal cell carcinoma/output/basal cell carcinoma_original_ISIC_0028670.jpg_f2be9ba5-2181-4c5f-9054-98698255c2eb.jpg',\n",
              " '/content/gdrive/My Drive/GoogleCoLab/SkinImagingCollaboration/Train/basal cell carcinoma/output/basal cell carcinoma_original_ISIC_0029083.jpg_a9f7c318-d3c0-48ba-94d8-d835a6eeeec8.jpg',\n",
              " '/content/gdrive/My Drive/GoogleCoLab/SkinImagingCollaboration/Train/basal cell carcinoma/output/basal cell carcinoma_original_ISIC_0028168.jpg_20b4f510-50f3-43a2-a960-6af4fb4ade7a.jpg',\n",
              " '/content/gdrive/My Drive/GoogleCoLab/SkinImagingCollaboration/Train/basal cell carcinoma/output/basal cell carcinoma_original_ISIC_0025975.jpg_d771d804-85f3-48de-9538-91f6b237dd23.jpg',\n",
              " '/content/gdrive/My Drive/GoogleCoLab/SkinImagingCollaboration/Train/basal cell carcinoma/output/basal cell carcinoma_original_ISIC_0027814.jpg_1a42e8da-586e-4b15-ac76-590251ec2781.jpg',\n",
              " '/content/gdrive/My Drive/GoogleCoLab/SkinImagingCollaboration/Train/basal cell carcinoma/output/basal cell carcinoma_original_ISIC_0027858.jpg_32f7a47b-932a-4734-a181-f957cad70db0.jpg',\n",
              " '/content/gdrive/My Drive/GoogleCoLab/SkinImagingCollaboration/Train/basal cell carcinoma/output/basal cell carcinoma_original_ISIC_0025576.jpg_c23e5915-3afb-4db9-bbef-43ef2385ec2c.jpg',\n",
              " '/content/gdrive/My Drive/GoogleCoLab/SkinImagingCollaboration/Train/basal cell carcinoma/output/basal cell carcinoma_original_ISIC_0031569.jpg_3bcec4f0-ab66-4bbf-88a3-2f2895a5b174.jpg',\n",
              " '/content/gdrive/My Drive/GoogleCoLab/SkinImagingCollaboration/Train/basal cell carcinoma/output/basal cell carcinoma_original_ISIC_0030737.jpg_7488434f-9bdc-4bcc-af71-f281144971df.jpg',\n",
              " '/content/gdrive/My Drive/GoogleCoLab/SkinImagingCollaboration/Train/basal cell carcinoma/output/basal cell carcinoma_original_ISIC_0027433.jpg_eaf517b8-3b9a-4c23-a7e7-7f67f22dfe39.jpg',\n",
              " '/content/gdrive/My Drive/GoogleCoLab/SkinImagingCollaboration/Train/basal cell carcinoma/output/basal cell carcinoma_original_ISIC_0026798.jpg_c022f78f-22db-42c9-95d8-745c4fba4202.jpg',\n",
              " '/content/gdrive/My Drive/GoogleCoLab/SkinImagingCollaboration/Train/basal cell carcinoma/output/basal cell carcinoma_original_ISIC_0025433.jpg_7433d43e-718b-4212-a564-615543545237.jpg',\n",
              " '/content/gdrive/My Drive/GoogleCoLab/SkinImagingCollaboration/Train/basal cell carcinoma/output/basal cell carcinoma_original_ISIC_0029747.jpg_e4d60a1f-ed57-4b9d-a8c1-165382ca4d5d.jpg',\n",
              " '/content/gdrive/My Drive/GoogleCoLab/SkinImagingCollaboration/Train/basal cell carcinoma/output/basal cell carcinoma_original_ISIC_0028556.jpg_fc888f2f-f36f-4cab-bb72-ed2607c0c776.jpg',\n",
              " '/content/gdrive/My Drive/GoogleCoLab/SkinImagingCollaboration/Train/basal cell carcinoma/output/basal cell carcinoma_original_ISIC_0026968.jpg_4c46157c-3ad2-49a9-80d2-7be953d11fd3.jpg',\n",
              " '/content/gdrive/My Drive/GoogleCoLab/SkinImagingCollaboration/Train/basal cell carcinoma/output/basal cell carcinoma_original_ISIC_0027531.jpg_5617852e-ff7c-4aeb-be33-ad9b84991539.jpg',\n",
              " '/content/gdrive/My Drive/GoogleCoLab/SkinImagingCollaboration/Train/basal cell carcinoma/output/basal cell carcinoma_original_ISIC_0029747.jpg_7082b231-726c-4e56-92ba-7a931746afd6.jpg',\n",
              " '/content/gdrive/My Drive/GoogleCoLab/SkinImagingCollaboration/Train/basal cell carcinoma/output/basal cell carcinoma_original_ISIC_0025513.jpg_cb605061-ab6b-47d1-8a56-3f120f4763e4.jpg',\n",
              " '/content/gdrive/My Drive/GoogleCoLab/SkinImagingCollaboration/Train/basal cell carcinoma/output/basal cell carcinoma_original_ISIC_0027998.jpg_8a3ebccd-a6d7-450f-ab56-867680e399e3.jpg',\n",
              " '/content/gdrive/My Drive/GoogleCoLab/SkinImagingCollaboration/Train/basal cell carcinoma/output/basal cell carcinoma_original_ISIC_0024743.jpg_24699862-9123-404d-b10b-ead34b5385eb.jpg',\n",
              " '/content/gdrive/My Drive/GoogleCoLab/SkinImagingCollaboration/Train/basal cell carcinoma/output/basal cell carcinoma_original_ISIC_0029341.jpg_6f9f21dd-125c-4a0b-97a9-3abfbf933fda.jpg',\n",
              " '/content/gdrive/My Drive/GoogleCoLab/SkinImagingCollaboration/Train/basal cell carcinoma/output/basal cell carcinoma_original_ISIC_0028323.jpg_c1c11a20-b73b-4fa3-bd93-b40ac55c94cc.jpg',\n",
              " '/content/gdrive/My Drive/GoogleCoLab/SkinImagingCollaboration/Train/basal cell carcinoma/output/basal cell carcinoma_original_ISIC_0026995.jpg_fde3ee25-5f37-4be9-9d50-6880b26061a4.jpg',\n",
              " '/content/gdrive/My Drive/GoogleCoLab/SkinImagingCollaboration/Train/basal cell carcinoma/output/basal cell carcinoma_original_ISIC_0029539.jpg_ada28886-4115-4521-b963-2166ae504701.jpg',\n",
              " '/content/gdrive/My Drive/GoogleCoLab/SkinImagingCollaboration/Train/basal cell carcinoma/output/basal cell carcinoma_original_ISIC_0026282.jpg_f400e111-ec81-46f6-9f9c-22e6d1ea1055.jpg',\n",
              " '/content/gdrive/My Drive/GoogleCoLab/SkinImagingCollaboration/Train/basal cell carcinoma/output/basal cell carcinoma_original_ISIC_0026574.jpg_a27bf708-34ca-4dd6-a23a-5d6cfd827baa.jpg',\n",
              " '/content/gdrive/My Drive/GoogleCoLab/SkinImagingCollaboration/Train/basal cell carcinoma/output/basal cell carcinoma_original_ISIC_0025513.jpg_17112d98-f3c8-48d4-a8b2-02f600deba04.jpg',\n",
              " '/content/gdrive/My Drive/GoogleCoLab/SkinImagingCollaboration/Train/basal cell carcinoma/output/basal cell carcinoma_original_ISIC_0028818.jpg_7b621f49-cc95-4524-8679-c7588fa3f51d.jpg',\n",
              " '/content/gdrive/My Drive/GoogleCoLab/SkinImagingCollaboration/Train/basal cell carcinoma/output/basal cell carcinoma_original_ISIC_0029466.jpg_13cc3938-7830-4cc3-9dcf-7603f6a88b68.jpg',\n",
              " '/content/gdrive/My Drive/GoogleCoLab/SkinImagingCollaboration/Train/basal cell carcinoma/output/basal cell carcinoma_original_ISIC_0030767.jpg_5ad7285f-74c9-4266-9db8-05c21de61268.jpg',\n",
              " '/content/gdrive/My Drive/GoogleCoLab/SkinImagingCollaboration/Train/basal cell carcinoma/output/basal cell carcinoma_original_ISIC_0028577.jpg_acd2bd67-a4df-4ebe-bb43-bda2088238c9.jpg',\n",
              " '/content/gdrive/My Drive/GoogleCoLab/SkinImagingCollaboration/Train/basal cell carcinoma/output/basal cell carcinoma_original_ISIC_0028122.jpg_102ea23a-a91e-4d7a-be0e-d3e61c3da45f.jpg',\n",
              " '/content/gdrive/My Drive/GoogleCoLab/SkinImagingCollaboration/Train/basal cell carcinoma/output/basal cell carcinoma_original_ISIC_0031294.jpg_8057a1aa-c1ab-4abe-adb6-e446f8c395fa.jpg',\n",
              " '/content/gdrive/My Drive/GoogleCoLab/SkinImagingCollaboration/Train/basal cell carcinoma/output/basal cell carcinoma_original_ISIC_0026968.jpg_d8a53825-b55b-440e-9cd1-9e31af92f21c.jpg',\n",
              " '/content/gdrive/My Drive/GoogleCoLab/SkinImagingCollaboration/Train/basal cell carcinoma/output/basal cell carcinoma_original_ISIC_0026056.jpg_65f4a21e-193b-48fd-9e1f-06ef332c3706.jpg',\n",
              " '/content/gdrive/My Drive/GoogleCoLab/SkinImagingCollaboration/Train/basal cell carcinoma/output/basal cell carcinoma_original_ISIC_0028419.jpg_88a49d3c-4ede-4096-aec5-a23251a934f9.jpg',\n",
              " '/content/gdrive/My Drive/GoogleCoLab/SkinImagingCollaboration/Train/basal cell carcinoma/output/basal cell carcinoma_original_ISIC_0031531.jpg_f6efe50d-e8bf-4841-b220-a01cc94842e9.jpg',\n",
              " '/content/gdrive/My Drive/GoogleCoLab/SkinImagingCollaboration/Train/basal cell carcinoma/output/basal cell carcinoma_original_ISIC_0031243.jpg_53519a2e-8ef5-4c32-96f0-a0e082b1dfec.jpg',\n",
              " '/content/gdrive/My Drive/GoogleCoLab/SkinImagingCollaboration/Train/basal cell carcinoma/output/basal cell carcinoma_original_ISIC_0031284.jpg_9b98d696-b962-46f2-a9ac-3a9d02cc3e52.jpg',\n",
              " '/content/gdrive/My Drive/GoogleCoLab/SkinImagingCollaboration/Train/basal cell carcinoma/output/basal cell carcinoma_original_ISIC_0031318.jpg_34acde89-1c4c-4f89-85c4-6d75c02bdc22.jpg',\n",
              " '/content/gdrive/My Drive/GoogleCoLab/SkinImagingCollaboration/Train/basal cell carcinoma/output/basal cell carcinoma_original_ISIC_0027117.jpg_6569838e-7a76-47c0-9b81-73a380f8fb7a.jpg',\n",
              " '/content/gdrive/My Drive/GoogleCoLab/SkinImagingCollaboration/Train/basal cell carcinoma/output/basal cell carcinoma_original_ISIC_0031041.jpg_ffc04935-14b6-4c24-b60f-b4dacb093739.jpg',\n",
              " '/content/gdrive/My Drive/GoogleCoLab/SkinImagingCollaboration/Train/basal cell carcinoma/output/basal cell carcinoma_original_ISIC_0025752.jpg_68945a1e-77a5-4728-be71-ced2e9abe853.jpg',\n",
              " '/content/gdrive/My Drive/GoogleCoLab/SkinImagingCollaboration/Train/basal cell carcinoma/output/basal cell carcinoma_original_ISIC_0028964.jpg_7182a1cd-2bf8-4c7f-8609-5a2613b1c33b.jpg',\n",
              " '/content/gdrive/My Drive/GoogleCoLab/SkinImagingCollaboration/Train/basal cell carcinoma/output/basal cell carcinoma_original_ISIC_0025630.jpg_eff7fa7b-90bc-4e23-8f77-4acbc59a6804.jpg',\n",
              " '/content/gdrive/My Drive/GoogleCoLab/SkinImagingCollaboration/Train/basal cell carcinoma/output/basal cell carcinoma_original_ISIC_0026453.jpg_25458247-641c-4011-bcad-4ee1786d9b74.jpg',\n",
              " '/content/gdrive/My Drive/GoogleCoLab/SkinImagingCollaboration/Train/basal cell carcinoma/output/basal cell carcinoma_original_ISIC_0029755.jpg_95e37620-7fe4-4598-9cf3-fbdf6d158944.jpg',\n",
              " '/content/gdrive/My Drive/GoogleCoLab/SkinImagingCollaboration/Train/basal cell carcinoma/output/basal cell carcinoma_original_ISIC_0027976.jpg_42a664df-ee17-454a-a032-fd7f5a8e5c2a.jpg',\n",
              " '/content/gdrive/My Drive/GoogleCoLab/SkinImagingCollaboration/Train/basal cell carcinoma/output/basal cell carcinoma_original_ISIC_0025102.jpg_b9b8211c-de73-49d9-9257-82dd19a2c836.jpg',\n",
              " '/content/gdrive/My Drive/GoogleCoLab/SkinImagingCollaboration/Train/basal cell carcinoma/output/basal cell carcinoma_original_ISIC_0029263.jpg_09550613-bf55-4e8f-a05d-2213c983f15d.jpg',\n",
              " '/content/gdrive/My Drive/GoogleCoLab/SkinImagingCollaboration/Train/basal cell carcinoma/output/basal cell carcinoma_original_ISIC_0031225.jpg_ad436569-faff-467f-8b88-4866093dd9bf.jpg',\n",
              " '/content/gdrive/My Drive/GoogleCoLab/SkinImagingCollaboration/Train/basal cell carcinoma/output/basal cell carcinoma_original_ISIC_0028419.jpg_b132bbb0-f6f5-4757-8cce-67509988dcd6.jpg',\n",
              " '/content/gdrive/My Drive/GoogleCoLab/SkinImagingCollaboration/Train/basal cell carcinoma/output/basal cell carcinoma_original_ISIC_0031294.jpg_c46efe41-e390-4bca-abfc-1ad668619a66.jpg',\n",
              " '/content/gdrive/My Drive/GoogleCoLab/SkinImagingCollaboration/Train/basal cell carcinoma/output/basal cell carcinoma_original_ISIC_0027425.jpg_5dfc0397-f22f-4712-8d51-55ac7c26a368.jpg',\n",
              " '/content/gdrive/My Drive/GoogleCoLab/SkinImagingCollaboration/Train/basal cell carcinoma/output/basal cell carcinoma_original_ISIC_0025266.jpg_7f9411b2-3a3c-47f0-957b-f5008bd83540.jpg',\n",
              " '/content/gdrive/My Drive/GoogleCoLab/SkinImagingCollaboration/Train/basal cell carcinoma/output/basal cell carcinoma_original_ISIC_0029372.jpg_fe8e9d12-bc5a-4581-9543-98787183abe5.jpg',\n",
              " '/content/gdrive/My Drive/GoogleCoLab/SkinImagingCollaboration/Train/basal cell carcinoma/output/basal cell carcinoma_original_ISIC_0030712.jpg_30b5f2c1-aa8c-4d7e-b645-bdae8a231b9e.jpg',\n",
              " '/content/gdrive/My Drive/GoogleCoLab/SkinImagingCollaboration/Train/basal cell carcinoma/output/basal cell carcinoma_original_ISIC_0031597.jpg_30b46bd7-defc-4d7a-a08b-fef0c8383f78.jpg',\n",
              " '/content/gdrive/My Drive/GoogleCoLab/SkinImagingCollaboration/Train/basal cell carcinoma/output/basal cell carcinoma_original_ISIC_0028994.jpg_60bf5ffe-b1b6-40d1-bedd-cbc4259d15f9.jpg',\n",
              " '/content/gdrive/My Drive/GoogleCoLab/SkinImagingCollaboration/Train/basal cell carcinoma/output/basal cell carcinoma_original_ISIC_0026213.jpg_39022e4f-ec74-49b9-bf09-5332f6ebc320.jpg',\n",
              " '/content/gdrive/My Drive/GoogleCoLab/SkinImagingCollaboration/Train/basal cell carcinoma/output/basal cell carcinoma_original_ISIC_0031526.jpg_6ef69c9e-8cd9-42d6-a552-0eb8285a8eb0.jpg',\n",
              " '/content/gdrive/My Drive/GoogleCoLab/SkinImagingCollaboration/Train/basal cell carcinoma/output/basal cell carcinoma_original_ISIC_0030349.jpg_ed922f40-fd49-44ea-9bc1-047c0413d60d.jpg',\n",
              " '/content/gdrive/My Drive/GoogleCoLab/SkinImagingCollaboration/Train/basal cell carcinoma/output/basal cell carcinoma_original_ISIC_0026350.jpg_e02f109b-f446-4998-8203-6b27cee669e0.jpg',\n",
              " '/content/gdrive/My Drive/GoogleCoLab/SkinImagingCollaboration/Train/basal cell carcinoma/output/basal cell carcinoma_original_ISIC_0026760.jpg_9c90212b-683a-4a8f-b5ac-65f27233db00.jpg',\n",
              " '/content/gdrive/My Drive/GoogleCoLab/SkinImagingCollaboration/Train/basal cell carcinoma/output/basal cell carcinoma_original_ISIC_0031284.jpg_b82656ff-e3ee-4597-a276-85eefb138191.jpg',\n",
              " '/content/gdrive/My Drive/GoogleCoLab/SkinImagingCollaboration/Train/basal cell carcinoma/output/basal cell carcinoma_original_ISIC_0026343.jpg_9d834a70-e20f-48c8-b83e-9ede10ff663e.jpg',\n",
              " '/content/gdrive/My Drive/GoogleCoLab/SkinImagingCollaboration/Train/basal cell carcinoma/output/basal cell carcinoma_original_ISIC_0028168.jpg_c4a90f34-78c5-4b9e-aa69-0d7ced2805fc.jpg',\n",
              " '/content/gdrive/My Drive/GoogleCoLab/SkinImagingCollaboration/Train/basal cell carcinoma/output/basal cell carcinoma_original_ISIC_0030403.jpg_a222f45f-f5de-4251-9162-072bb600d93e.jpg',\n",
              " '/content/gdrive/My Drive/GoogleCoLab/SkinImagingCollaboration/Train/basal cell carcinoma/output/basal cell carcinoma_original_ISIC_0027865.jpg_d04cbaa8-d7dc-43a8-a6a4-e161f02dc664.jpg',\n",
              " '/content/gdrive/My Drive/GoogleCoLab/SkinImagingCollaboration/Train/basal cell carcinoma/output/basal cell carcinoma_original_ISIC_0029951.jpg_3793268a-e0bd-4de9-8ebd-5666145e0be7.jpg',\n",
              " '/content/gdrive/My Drive/GoogleCoLab/SkinImagingCollaboration/Train/basal cell carcinoma/output/basal cell carcinoma_original_ISIC_0029779.jpg_98c2f317-aa4c-4c97-8975-10468f490991.jpg',\n",
              " '/content/gdrive/My Drive/GoogleCoLab/SkinImagingCollaboration/Train/basal cell carcinoma/output/basal cell carcinoma_original_ISIC_0025971.jpg_39b26fc4-ae83-4295-9187-5bdf8edfb822.jpg',\n",
              " '/content/gdrive/My Drive/GoogleCoLab/SkinImagingCollaboration/Train/basal cell carcinoma/output/basal cell carcinoma_original_ISIC_0031489.jpg_d1a230d0-84be-465f-a295-74905775ebf2.jpg',\n",
              " '/content/gdrive/My Drive/GoogleCoLab/SkinImagingCollaboration/Train/basal cell carcinoma/output/basal cell carcinoma_original_ISIC_0024897.jpg_ca0ebc2f-0407-4876-9c6f-44eca062e3fd.jpg',\n",
              " '/content/gdrive/My Drive/GoogleCoLab/SkinImagingCollaboration/Train/basal cell carcinoma/output/basal cell carcinoma_original_ISIC_0025019.jpg_dd19248c-7e10-4cae-8ca1-2288451b0f89.jpg',\n",
              " '/content/gdrive/My Drive/GoogleCoLab/SkinImagingCollaboration/Train/basal cell carcinoma/output/basal cell carcinoma_original_ISIC_0028978.jpg_56cc97d8-d0b1-472d-8691-225ee5c78b2c.jpg',\n",
              " '/content/gdrive/My Drive/GoogleCoLab/SkinImagingCollaboration/Train/basal cell carcinoma/output/basal cell carcinoma_original_ISIC_0029515.jpg_78cb883b-745c-44d0-9fcd-5321d811a2ad.jpg',\n",
              " '/content/gdrive/My Drive/GoogleCoLab/SkinImagingCollaboration/Train/basal cell carcinoma/output/basal cell carcinoma_original_ISIC_0027046.jpg_521e722d-8aba-4f50-8ed2-27e2432f222d.jpg',\n",
              " '/content/gdrive/My Drive/GoogleCoLab/SkinImagingCollaboration/Train/basal cell carcinoma/output/basal cell carcinoma_original_ISIC_0031539.jpg_17928f6c-de42-46c5-8eac-2a1468bb914a.jpg',\n",
              " '/content/gdrive/My Drive/GoogleCoLab/SkinImagingCollaboration/Train/basal cell carcinoma/output/basal cell carcinoma_original_ISIC_0026528.jpg_9efc569f-a6d8-43a0-9f9a-8aaff384074e.jpg',\n",
              " '/content/gdrive/My Drive/GoogleCoLab/SkinImagingCollaboration/Train/basal cell carcinoma/output/basal cell carcinoma_original_ISIC_0028168.jpg_8dd94eba-6ee3-406e-bf01-d7f6da9e7ad0.jpg',\n",
              " '/content/gdrive/My Drive/GoogleCoLab/SkinImagingCollaboration/Train/basal cell carcinoma/output/basal cell carcinoma_original_ISIC_0026275.jpg_3fd537cc-c6f2-4e19-a670-e2d481734b38.jpg',\n",
              " '/content/gdrive/My Drive/GoogleCoLab/SkinImagingCollaboration/Train/basal cell carcinoma/output/basal cell carcinoma_original_ISIC_0026968.jpg_12ec49a4-6958-4cde-a047-b5f5259b5e46.jpg',\n",
              " '/content/gdrive/My Drive/GoogleCoLab/SkinImagingCollaboration/Train/basal cell carcinoma/output/basal cell carcinoma_original_ISIC_0028283.jpg_0e99b83d-075b-480b-8002-16561126e927.jpg',\n",
              " '/content/gdrive/My Drive/GoogleCoLab/SkinImagingCollaboration/Train/basal cell carcinoma/output/basal cell carcinoma_original_ISIC_0029847.jpg_ac5df268-74e9-4b81-9a0d-44a16fde2efa.jpg',\n",
              " '/content/gdrive/My Drive/GoogleCoLab/SkinImagingCollaboration/Train/basal cell carcinoma/output/basal cell carcinoma_original_ISIC_0024743.jpg_1140d22e-f67c-402d-939c-c9d99bcf123c.jpg',\n",
              " '/content/gdrive/My Drive/GoogleCoLab/SkinImagingCollaboration/Train/basal cell carcinoma/output/basal cell carcinoma_original_ISIC_0030335.jpg_c564421a-6e9f-4674-92eb-228df7a3028b.jpg',\n",
              " '/content/gdrive/My Drive/GoogleCoLab/SkinImagingCollaboration/Train/basal cell carcinoma/output/basal cell carcinoma_original_ISIC_0026528.jpg_f24439d3-6f16-4987-802a-65bed239f332.jpg',\n",
              " '/content/gdrive/My Drive/GoogleCoLab/SkinImagingCollaboration/Train/basal cell carcinoma/output/basal cell carcinoma_original_ISIC_0031351.jpg_d15ff460-65a7-4706-9a07-2a7f7e9fd47c.jpg',\n",
              " '/content/gdrive/My Drive/GoogleCoLab/SkinImagingCollaboration/Train/basal cell carcinoma/output/basal cell carcinoma_original_ISIC_0028670.jpg_954961ff-fd1a-4e10-aaa5-53a3f1ad0f67.jpg',\n",
              " '/content/gdrive/My Drive/GoogleCoLab/SkinImagingCollaboration/Train/basal cell carcinoma/output/basal cell carcinoma_original_ISIC_0026940.jpg_44ade8e9-4d94-4fa6-aad6-6e5b50b447fd.jpg',\n",
              " '/content/gdrive/My Drive/GoogleCoLab/SkinImagingCollaboration/Train/basal cell carcinoma/output/basal cell carcinoma_original_ISIC_0030690.jpg_780812f4-a8cf-4098-a815-0812fd5d4270.jpg',\n",
              " '/content/gdrive/My Drive/GoogleCoLab/SkinImagingCollaboration/Train/basal cell carcinoma/output/basal cell carcinoma_original_ISIC_0030335.jpg_13fd099c-75ba-4580-a8d8-fe1e283c3652.jpg',\n",
              " '/content/gdrive/My Drive/GoogleCoLab/SkinImagingCollaboration/Train/basal cell carcinoma/output/basal cell carcinoma_original_ISIC_0031413.jpg_ec52605d-96e4-4192-a155-9e68782784d8.jpg',\n",
              " '/content/gdrive/My Drive/GoogleCoLab/SkinImagingCollaboration/Train/basal cell carcinoma/output/basal cell carcinoma_original_ISIC_0024515.jpg_f1da8db8-0a47-4145-baaf-3944c60b62f0.jpg',\n",
              " '/content/gdrive/My Drive/GoogleCoLab/SkinImagingCollaboration/Train/basal cell carcinoma/output/basal cell carcinoma_original_ISIC_0031122.jpg_591d9c39-fb49-4793-a3c3-17e9fb130049.jpg',\n",
              " '/content/gdrive/My Drive/GoogleCoLab/SkinImagingCollaboration/Train/basal cell carcinoma/output/basal cell carcinoma_original_ISIC_0031225.jpg_b50739e6-5ce2-4915-b8d2-e94aef242248.jpg',\n",
              " '/content/gdrive/My Drive/GoogleCoLab/SkinImagingCollaboration/Train/basal cell carcinoma/output/basal cell carcinoma_original_ISIC_0025417.jpg_f9b4bbfb-00e5-4c65-9ca4-46b50274a2e8.jpg',\n",
              " '/content/gdrive/My Drive/GoogleCoLab/SkinImagingCollaboration/Train/basal cell carcinoma/output/basal cell carcinoma_original_ISIC_0026766.jpg_4dd1463b-7955-4ca2-91cb-96a4d19d8de8.jpg',\n",
              " '/content/gdrive/My Drive/GoogleCoLab/SkinImagingCollaboration/Train/basal cell carcinoma/output/basal cell carcinoma_original_ISIC_0027976.jpg_0703ad18-924a-4d8c-89b1-9fe8bbaa261f.jpg',\n",
              " '/content/gdrive/My Drive/GoogleCoLab/SkinImagingCollaboration/Train/basal cell carcinoma/output/basal cell carcinoma_original_ISIC_0026439.jpg_e8b46df1-a7e2-4760-80f8-e99302f17afa.jpg',\n",
              " '/content/gdrive/My Drive/GoogleCoLab/SkinImagingCollaboration/Train/basal cell carcinoma/output/basal cell carcinoma_original_ISIC_0027291.jpg_c407d7ad-53c5-4772-ac93-0cd3cc95aaf4.jpg',\n",
              " '/content/gdrive/My Drive/GoogleCoLab/SkinImagingCollaboration/Train/basal cell carcinoma/output/basal cell carcinoma_original_ISIC_0028973.jpg_6786d7c3-744f-4044-90c3-0462c372c17e.jpg',\n",
              " '/content/gdrive/My Drive/GoogleCoLab/SkinImagingCollaboration/Train/basal cell carcinoma/output/basal cell carcinoma_original_ISIC_0025793.jpg_ad10b63e-f0cd-4752-afba-4b8b279504c7.jpg',\n",
              " '/content/gdrive/My Drive/GoogleCoLab/SkinImagingCollaboration/Train/basal cell carcinoma/output/basal cell carcinoma_original_ISIC_0026668.jpg_5ba81e93-818d-42a7-9c50-7b68bbf5f8ef.jpg',\n",
              " '/content/gdrive/My Drive/GoogleCoLab/SkinImagingCollaboration/Train/basal cell carcinoma/output/basal cell carcinoma_original_ISIC_0031585.jpg_34b083f1-b26d-416d-84b3-99f2a6c66053.jpg',\n",
              " '/content/gdrive/My Drive/GoogleCoLab/SkinImagingCollaboration/Train/basal cell carcinoma/output/basal cell carcinoma_original_ISIC_0026090.jpg_4f6dcccf-ae36-4f57-8a18-1f999eaa9085.jpg',\n",
              " '/content/gdrive/My Drive/GoogleCoLab/SkinImagingCollaboration/Train/basal cell carcinoma/output/basal cell carcinoma_original_ISIC_0030528.jpg_a7cff493-7d43-40c1-bcfd-81777664b688.jpg',\n",
              " '/content/gdrive/My Drive/GoogleCoLab/SkinImagingCollaboration/Train/basal cell carcinoma/output/basal cell carcinoma_original_ISIC_0031095.jpg_e8dbd106-3991-4082-9777-a5ba09fdc4ba.jpg',\n",
              " '/content/gdrive/My Drive/GoogleCoLab/SkinImagingCollaboration/Train/basal cell carcinoma/output/basal cell carcinoma_original_ISIC_0031063.jpg_100ab5f2-71b5-4999-93ce-a6290d258899.jpg',\n",
              " '/content/gdrive/My Drive/GoogleCoLab/SkinImagingCollaboration/Train/basal cell carcinoma/output/basal cell carcinoma_original_ISIC_0028316.jpg_fd90d8ae-2d61-442a-8452-f4e4bd64f7de.jpg',\n",
              " '/content/gdrive/My Drive/GoogleCoLab/SkinImagingCollaboration/Train/basal cell carcinoma/output/basal cell carcinoma_original_ISIC_0031245.jpg_88b9e76d-0d8b-496e-a7d0-3290edd83263.jpg',\n",
              " '/content/gdrive/My Drive/GoogleCoLab/SkinImagingCollaboration/Train/basal cell carcinoma/output/basal cell carcinoma_original_ISIC_0031400.jpg_d98265e3-3799-406a-ad1b-ad5aae7669e3.jpg',\n",
              " '/content/gdrive/My Drive/GoogleCoLab/SkinImagingCollaboration/Train/basal cell carcinoma/output/basal cell carcinoma_original_ISIC_0026845.jpg_3a49d1c3-86da-48ca-a0d0-86b7d1c88104.jpg',\n",
              " '/content/gdrive/My Drive/GoogleCoLab/SkinImagingCollaboration/Train/basal cell carcinoma/output/basal cell carcinoma_original_ISIC_0031057.jpg_21cb7ed4-e3d7-43ae-9c23-9b5209c6d565.jpg',\n",
              " '/content/gdrive/My Drive/GoogleCoLab/SkinImagingCollaboration/Train/basal cell carcinoma/output/basal cell carcinoma_original_ISIC_0028871.jpg_d210eada-08f1-49b7-89e3-1cb68b5169c5.jpg',\n",
              " '/content/gdrive/My Drive/GoogleCoLab/SkinImagingCollaboration/Train/basal cell carcinoma/output/basal cell carcinoma_original_ISIC_0029546.jpg_52e99b76-1d85-47ac-a85a-6affaabca6c9.jpg',\n",
              " '/content/gdrive/My Drive/GoogleCoLab/SkinImagingCollaboration/Train/basal cell carcinoma/output/basal cell carcinoma_original_ISIC_0025322.jpg_9cd9340b-6902-4773-b656-8fc72692ada3.jpg',\n",
              " '/content/gdrive/My Drive/GoogleCoLab/SkinImagingCollaboration/Train/basal cell carcinoma/output/basal cell carcinoma_original_ISIC_0026117.jpg_bf7e7479-bf80-4049-b384-eeac539e7c0b.jpg',\n",
              " '/content/gdrive/My Drive/GoogleCoLab/SkinImagingCollaboration/Train/basal cell carcinoma/output/basal cell carcinoma_original_ISIC_0028980.jpg_06803243-3582-42a4-9306-c0aa369cd2db.jpg',\n",
              " '/content/gdrive/My Drive/GoogleCoLab/SkinImagingCollaboration/Train/basal cell carcinoma/output/basal cell carcinoma_original_ISIC_0027046.jpg_3d52d128-47cd-4d67-9878-531e490694b2.jpg',\n",
              " '/content/gdrive/My Drive/GoogleCoLab/SkinImagingCollaboration/Train/basal cell carcinoma/output/basal cell carcinoma_original_ISIC_0030964.jpg_fd54203c-89a3-4984-a72a-b2efdc197d49.jpg',\n",
              " '/content/gdrive/My Drive/GoogleCoLab/SkinImagingCollaboration/Train/basal cell carcinoma/output/basal cell carcinoma_original_ISIC_0031236.jpg_e7bba3a7-c709-4ec4-a61a-7fff50bc94df.jpg',\n",
              " '/content/gdrive/My Drive/GoogleCoLab/SkinImagingCollaboration/Train/basal cell carcinoma/output/basal cell carcinoma_original_ISIC_0028807.jpg_6ed76a18-fd5d-47ba-adcd-37915cab5cbf.jpg',\n",
              " '/content/gdrive/My Drive/GoogleCoLab/SkinImagingCollaboration/Train/basal cell carcinoma/output/basal cell carcinoma_original_ISIC_0030594.jpg_d149427f-3f17-4915-8d2a-69598eededee.jpg',\n",
              " '/content/gdrive/My Drive/GoogleCoLab/SkinImagingCollaboration/Train/basal cell carcinoma/output/basal cell carcinoma_original_ISIC_0031294.jpg_0329956e-a30a-4f24-9797-3f3cd2673523.jpg',\n",
              " '/content/gdrive/My Drive/GoogleCoLab/SkinImagingCollaboration/Train/basal cell carcinoma/output/basal cell carcinoma_original_ISIC_0028652.jpg_247c032f-bd54-476c-872d-6fff634d3c6e.jpg',\n",
              " '/content/gdrive/My Drive/GoogleCoLab/SkinImagingCollaboration/Train/basal cell carcinoma/output/basal cell carcinoma_original_ISIC_0030659.jpg_e8756ae6-b4b4-457d-925a-82bd7fea2cbd.jpg',\n",
              " '/content/gdrive/My Drive/GoogleCoLab/SkinImagingCollaboration/Train/basal cell carcinoma/output/basal cell carcinoma_original_ISIC_0030893.jpg_32dd7462-d092-4a55-82e0-cce8e3ed3916.jpg',\n",
              " '/content/gdrive/My Drive/GoogleCoLab/SkinImagingCollaboration/Train/basal cell carcinoma/output/basal cell carcinoma_original_ISIC_0030594.jpg_10b189bf-8dfc-46c4-83b8-a67a8a9213de.jpg',\n",
              " '/content/gdrive/My Drive/GoogleCoLab/SkinImagingCollaboration/Train/basal cell carcinoma/output/basal cell carcinoma_original_ISIC_0029331.jpg_d0e1e42b-a6da-4f2f-9924-1cf3421caba5.jpg',\n",
              " '/content/gdrive/My Drive/GoogleCoLab/SkinImagingCollaboration/Train/basal cell carcinoma/output/basal cell carcinoma_original_ISIC_0029857.jpg_488cbf59-48e7-46f5-a528-452f1e1f2828.jpg',\n",
              " '/content/gdrive/My Drive/GoogleCoLab/SkinImagingCollaboration/Train/basal cell carcinoma/output/basal cell carcinoma_original_ISIC_0027473.jpg_edb9f7ae-b2a3-451e-9a1f-ce03bd16dfd5.jpg',\n",
              " '/content/gdrive/My Drive/GoogleCoLab/SkinImagingCollaboration/Train/basal cell carcinoma/output/basal cell carcinoma_original_ISIC_0031294.jpg_ff80cef0-0ba3-4174-ae3d-602ebeb445d1.jpg',\n",
              " '/content/gdrive/My Drive/GoogleCoLab/SkinImagingCollaboration/Train/basal cell carcinoma/output/basal cell carcinoma_original_ISIC_0027998.jpg_02eebe84-8b61-41ee-b7a1-e5b96bb3d3f5.jpg',\n",
              " '/content/gdrive/My Drive/GoogleCoLab/SkinImagingCollaboration/Train/basal cell carcinoma/output/basal cell carcinoma_original_ISIC_0028107.jpg_a6a2e975-4fba-4ad3-ad77-113fc7438000.jpg',\n",
              " '/content/gdrive/My Drive/GoogleCoLab/SkinImagingCollaboration/Train/basal cell carcinoma/output/basal cell carcinoma_original_ISIC_0027371.jpg_5947ef48-e1a8-449a-9642-c60d20a67cb2.jpg',\n",
              " '/content/gdrive/My Drive/GoogleCoLab/SkinImagingCollaboration/Train/basal cell carcinoma/output/basal cell carcinoma_original_ISIC_0029034.jpg_27cc0fa6-fe44-4293-a2d9-47b2c88f0d03.jpg',\n",
              " '/content/gdrive/My Drive/GoogleCoLab/SkinImagingCollaboration/Train/basal cell carcinoma/output/basal cell carcinoma_original_ISIC_0024550.jpg_61730992-a76e-4680-8be7-33acefb2c572.jpg',\n",
              " '/content/gdrive/My Drive/GoogleCoLab/SkinImagingCollaboration/Train/basal cell carcinoma/output/basal cell carcinoma_original_ISIC_0028085.jpg_9d76ab87-1cd4-4202-891f-dbd105ac293d.jpg',\n",
              " '/content/gdrive/My Drive/GoogleCoLab/SkinImagingCollaboration/Train/basal cell carcinoma/output/basal cell carcinoma_original_ISIC_0028677.jpg_1c1dbbbe-b852-426f-bce6-d151510666d1.jpg',\n",
              " '/content/gdrive/My Drive/GoogleCoLab/SkinImagingCollaboration/Train/basal cell carcinoma/output/basal cell carcinoma_original_ISIC_0031007.jpg_8e5b57ad-9683-4992-bc22-d515eecec872.jpg',\n",
              " '/content/gdrive/My Drive/GoogleCoLab/SkinImagingCollaboration/Train/basal cell carcinoma/output/basal cell carcinoma_original_ISIC_0029974.jpg_cff9c947-34e9-4d38-869a-c0e6c75a7b86.jpg',\n",
              " '/content/gdrive/My Drive/GoogleCoLab/SkinImagingCollaboration/Train/basal cell carcinoma/output/basal cell carcinoma_original_ISIC_0026433.jpg_94c6e529-1cf3-4a1f-8356-4002fed40553.jpg',\n",
              " '/content/gdrive/My Drive/GoogleCoLab/SkinImagingCollaboration/Train/basal cell carcinoma/output/basal cell carcinoma_original_ISIC_0025971.jpg_e364cdbe-1497-411a-bb3e-21d0c9a91d68.jpg',\n",
              " '/content/gdrive/My Drive/GoogleCoLab/SkinImagingCollaboration/Train/basal cell carcinoma/output/basal cell carcinoma_original_ISIC_0031450.jpg_ee789f52-3187-4a2c-984b-5625aeb03c26.jpg',\n",
              " '/content/gdrive/My Drive/GoogleCoLab/SkinImagingCollaboration/Train/basal cell carcinoma/output/basal cell carcinoma_original_ISIC_0027058.jpg_45d26097-7527-44c3-9832-6848c058046a.jpg',\n",
              " '/content/gdrive/My Drive/GoogleCoLab/SkinImagingCollaboration/Train/basal cell carcinoma/output/basal cell carcinoma_original_ISIC_0025718.jpg_070a050f-a99e-4cd7-9af8-065d3fcfdfc4.jpg',\n",
              " '/content/gdrive/My Drive/GoogleCoLab/SkinImagingCollaboration/Train/basal cell carcinoma/output/basal cell carcinoma_original_ISIC_0031095.jpg_5c152a69-e4b0-4124-b071-5e15fc5051a6.jpg',\n",
              " '/content/gdrive/My Drive/GoogleCoLab/SkinImagingCollaboration/Train/basal cell carcinoma/output/basal cell carcinoma_original_ISIC_0027601.jpg_9bb7ba3b-afd6-48f8-87e5-aae61cd1b740.jpg',\n",
              " '/content/gdrive/My Drive/GoogleCoLab/SkinImagingCollaboration/Train/basal cell carcinoma/output/basal cell carcinoma_original_ISIC_0031166.jpg_29fd6664-6410-4b09-b74d-ed1cdd1acf99.jpg',\n",
              " '/content/gdrive/My Drive/GoogleCoLab/SkinImagingCollaboration/Train/basal cell carcinoma/output/basal cell carcinoma_original_ISIC_0028877.jpg_dfa3c4b9-27aa-4f59-b1ea-54d5866e7e03.jpg',\n",
              " '/content/gdrive/My Drive/GoogleCoLab/SkinImagingCollaboration/Train/basal cell carcinoma/output/basal cell carcinoma_original_ISIC_0030314.jpg_2e8cbf94-56b1-4761-a443-c114b71701e0.jpg',\n",
              " '/content/gdrive/My Drive/GoogleCoLab/SkinImagingCollaboration/Train/basal cell carcinoma/output/basal cell carcinoma_original_ISIC_0026716.jpg_b2233a4f-745d-4df8-be5c-02cb67e6b4d4.jpg',\n",
              " '/content/gdrive/My Drive/GoogleCoLab/SkinImagingCollaboration/Train/basal cell carcinoma/output/basal cell carcinoma_original_ISIC_0030010.jpg_f9cdaf73-0b8a-4d97-8082-28ccafa8ec67.jpg',\n",
              " '/content/gdrive/My Drive/GoogleCoLab/SkinImagingCollaboration/Train/basal cell carcinoma/output/basal cell carcinoma_original_ISIC_0028059.jpg_47144b0d-34fb-44d7-8e2d-3676a642638b.jpg',\n",
              " '/content/gdrive/My Drive/GoogleCoLab/SkinImagingCollaboration/Train/basal cell carcinoma/output/basal cell carcinoma_original_ISIC_0028583.jpg_ec36054e-97e5-4949-b27a-a9f70fdf38d8.jpg',\n",
              " '/content/gdrive/My Drive/GoogleCoLab/SkinImagingCollaboration/Train/basal cell carcinoma/output/basal cell carcinoma_original_ISIC_0027788.jpg_deff6f71-6306-43ed-ac5d-aeaa9d8a9fd8.jpg',\n",
              " '/content/gdrive/My Drive/GoogleCoLab/SkinImagingCollaboration/Train/basal cell carcinoma/output/basal cell carcinoma_original_ISIC_0028583.jpg_824ea4a9-eee0-4fad-b797-5a24883f67d6.jpg',\n",
              " '/content/gdrive/My Drive/GoogleCoLab/SkinImagingCollaboration/Train/basal cell carcinoma/output/basal cell carcinoma_original_ISIC_0029192.jpg_971cc6ac-4ce5-41ae-a7e6-80adadd4f0ea.jpg',\n",
              " '/content/gdrive/My Drive/GoogleCoLab/SkinImagingCollaboration/Train/basal cell carcinoma/output/basal cell carcinoma_original_ISIC_0027814.jpg_f5127be1-0486-46e4-893c-2ed801899520.jpg',\n",
              " '/content/gdrive/My Drive/GoogleCoLab/SkinImagingCollaboration/Train/basal cell carcinoma/output/basal cell carcinoma_original_ISIC_0024573.jpg_519410f3-f128-4b06-94c2-ef2fad240ba2.jpg',\n",
              " '/content/gdrive/My Drive/GoogleCoLab/SkinImagingCollaboration/Train/basal cell carcinoma/output/basal cell carcinoma_original_ISIC_0026528.jpg_4e83a98e-961d-438b-8e4c-6b20c71d5ab4.jpg',\n",
              " '/content/gdrive/My Drive/GoogleCoLab/SkinImagingCollaboration/Train/basal cell carcinoma/output/basal cell carcinoma_original_ISIC_0028739.jpg_fa179eb1-4685-484c-b050-fd9cfe79d3fa.jpg',\n",
              " '/content/gdrive/My Drive/GoogleCoLab/SkinImagingCollaboration/Train/basal cell carcinoma/output/basal cell carcinoma_original_ISIC_0028577.jpg_1a749c39-a8ed-4c69-8539-8ad259f89d63.jpg',\n",
              " '/content/gdrive/My Drive/GoogleCoLab/SkinImagingCollaboration/Train/basal cell carcinoma/output/basal cell carcinoma_original_ISIC_0031057.jpg_db6aa439-6694-47dc-9554-386d5a9b7ea8.jpg',\n",
              " '/content/gdrive/My Drive/GoogleCoLab/SkinImagingCollaboration/Train/basal cell carcinoma/output/basal cell carcinoma_original_ISIC_0029020.jpg_9f8a205c-91da-42a7-885a-42634c063a72.jpg',\n",
              " '/content/gdrive/My Drive/GoogleCoLab/SkinImagingCollaboration/Train/basal cell carcinoma/output/basal cell carcinoma_original_ISIC_0026117.jpg_ea3fafd1-9bf6-47ef-a571-85d8bae60570.jpg',\n",
              " '/content/gdrive/My Drive/GoogleCoLab/SkinImagingCollaboration/Train/basal cell carcinoma/output/basal cell carcinoma_original_ISIC_0025557.jpg_3ef23971-207d-4ce1-9ef0-b7d66f67f208.jpg',\n",
              " '/content/gdrive/My Drive/GoogleCoLab/SkinImagingCollaboration/Train/basal cell carcinoma/output/basal cell carcinoma_original_ISIC_0028653.jpg_54a7ecdd-c73c-4890-a6dc-12b593d185ee.jpg',\n",
              " '/content/gdrive/My Drive/GoogleCoLab/SkinImagingCollaboration/Train/basal cell carcinoma/output/basal cell carcinoma_original_ISIC_0025467.jpg_5ddfc3c9-d813-46e5-9f15-35b73f9fbdff.jpg',\n",
              " '/content/gdrive/My Drive/GoogleCoLab/SkinImagingCollaboration/Train/basal cell carcinoma/output/basal cell carcinoma_original_ISIC_0029323.jpg_6af3bb4d-c495-4595-81b5-d9ff5b885e84.jpg',\n",
              " '/content/gdrive/My Drive/GoogleCoLab/SkinImagingCollaboration/Train/basal cell carcinoma/output/basal cell carcinoma_original_ISIC_0029392.jpg_4531bb2c-fbd2-4bb3-b283-1b02ecc5d539.jpg',\n",
              " '/content/gdrive/My Drive/GoogleCoLab/SkinImagingCollaboration/Train/basal cell carcinoma/output/basal cell carcinoma_original_ISIC_0025826.jpg_8564a405-81b7-4f0a-b896-57e013d00ac6.jpg',\n",
              " '/content/gdrive/My Drive/GoogleCoLab/SkinImagingCollaboration/Train/basal cell carcinoma/output/basal cell carcinoma_original_ISIC_0031041.jpg_487deb23-5ecc-4877-aa2d-8682fb8874e6.jpg',\n",
              " '/content/gdrive/My Drive/GoogleCoLab/SkinImagingCollaboration/Train/basal cell carcinoma/output/basal cell carcinoma_original_ISIC_0027526.jpg_f3ff633a-567a-42f7-9b0c-728002a117e8.jpg',\n",
              " '/content/gdrive/My Drive/GoogleCoLab/SkinImagingCollaboration/Train/basal cell carcinoma/output/basal cell carcinoma_original_ISIC_0028687.jpg_687091e0-7a18-4d23-8b5b-14c2c76a92ed.jpg',\n",
              " '/content/gdrive/My Drive/GoogleCoLab/SkinImagingCollaboration/Train/basal cell carcinoma/output/basal cell carcinoma_original_ISIC_0027998.jpg_9e1e6fbf-cf64-4841-9f9e-23f5dadfc818.jpg',\n",
              " '/content/gdrive/My Drive/GoogleCoLab/SkinImagingCollaboration/Train/basal cell carcinoma/output/basal cell carcinoma_original_ISIC_0029278.jpg_5013a96c-5210-4fce-baa1-7455a3c578eb.jpg',\n",
              " '/content/gdrive/My Drive/GoogleCoLab/SkinImagingCollaboration/Train/basal cell carcinoma/output/basal cell carcinoma_original_ISIC_0031236.jpg_4805b725-0754-46a5-ac17-d17c83797bf9.jpg',\n",
              " '/content/gdrive/My Drive/GoogleCoLab/SkinImagingCollaboration/Train/basal cell carcinoma/output/basal cell carcinoma_original_ISIC_0031400.jpg_ddd81f04-156c-43a3-9b53-dc1f32a829c3.jpg',\n",
              " '/content/gdrive/My Drive/GoogleCoLab/SkinImagingCollaboration/Train/basal cell carcinoma/output/basal cell carcinoma_original_ISIC_0029201.jpg_2ed2b82d-2f22-4be9-be5c-65bb5b0553ff.jpg',\n",
              " '/content/gdrive/My Drive/GoogleCoLab/SkinImagingCollaboration/Train/basal cell carcinoma/output/basal cell carcinoma_original_ISIC_0025601.jpg_a8d7ffe0-4851-433e-98e1-adf551ae9acf.jpg',\n",
              " '/content/gdrive/My Drive/GoogleCoLab/SkinImagingCollaboration/Train/basal cell carcinoma/output/basal cell carcinoma_original_ISIC_0031225.jpg_efc6c30c-6f96-42e0-8e72-f4b2257f42e3.jpg',\n",
              " '/content/gdrive/My Drive/GoogleCoLab/SkinImagingCollaboration/Train/basal cell carcinoma/output/basal cell carcinoma_original_ISIC_0024595.jpg_cf6ce4cd-785b-41a7-9a90-5697c04cb3fc.jpg',\n",
              " '/content/gdrive/My Drive/GoogleCoLab/SkinImagingCollaboration/Train/basal cell carcinoma/output/basal cell carcinoma_original_ISIC_0031243.jpg_0edc4a1b-cedf-4654-ae79-a97f64d08575.jpg',\n",
              " '/content/gdrive/My Drive/GoogleCoLab/SkinImagingCollaboration/Train/basal cell carcinoma/output/basal cell carcinoma_original_ISIC_0030800.jpg_d4070313-6842-46be-90a9-74b50200d330.jpg',\n",
              " '/content/gdrive/My Drive/GoogleCoLab/SkinImagingCollaboration/Train/basal cell carcinoma/output/basal cell carcinoma_original_ISIC_0028807.jpg_03ba0555-2a35-48d6-8c84-94f27b93b9e4.jpg',\n",
              " '/content/gdrive/My Drive/GoogleCoLab/SkinImagingCollaboration/Train/basal cell carcinoma/output/basal cell carcinoma_original_ISIC_0026716.jpg_8737a9cd-6134-4434-b8ce-1de559098fdb.jpg',\n",
              " '/content/gdrive/My Drive/GoogleCoLab/SkinImagingCollaboration/Train/basal cell carcinoma/output/basal cell carcinoma_original_ISIC_0024572.jpg_89894bff-2616-45a9-b61c-f671d7567993.jpg',\n",
              " '/content/gdrive/My Drive/GoogleCoLab/SkinImagingCollaboration/Train/basal cell carcinoma/output/basal cell carcinoma_original_ISIC_0027546.jpg_33cff339-c752-438a-a922-bdf60c67e424.jpg',\n",
              " '/content/gdrive/My Drive/GoogleCoLab/SkinImagingCollaboration/Train/basal cell carcinoma/output/basal cell carcinoma_original_ISIC_0024573.jpg_5ad2f665-778a-428d-9236-ed87eba5a63d.jpg',\n",
              " '/content/gdrive/My Drive/GoogleCoLab/SkinImagingCollaboration/Train/basal cell carcinoma/output/basal cell carcinoma_original_ISIC_0027046.jpg_0b2b0378-bdc2-4298-9897-fb8c24cadbbf.jpg',\n",
              " '/content/gdrive/My Drive/GoogleCoLab/SkinImagingCollaboration/Train/basal cell carcinoma/output/basal cell carcinoma_original_ISIC_0024504.jpg_63155fc8-5521-4562-89a1-0e96a6a9fae2.jpg',\n",
              " '/content/gdrive/My Drive/GoogleCoLab/SkinImagingCollaboration/Train/basal cell carcinoma/output/basal cell carcinoma_original_ISIC_0027135.jpg_26390d74-f5fc-4221-ada2-61c75972ca42.jpg',\n",
              " '/content/gdrive/My Drive/GoogleCoLab/SkinImagingCollaboration/Train/basal cell carcinoma/output/basal cell carcinoma_original_ISIC_0027058.jpg_232245bd-78b2-4c12-9e6a-75ace6f7b8cb.jpg',\n",
              " '/content/gdrive/My Drive/GoogleCoLab/SkinImagingCollaboration/Train/basal cell carcinoma/output/basal cell carcinoma_original_ISIC_0026865.jpg_5acf8d79-b4c8-4b71-a726-c8e6cd29eabe.jpg',\n",
              " '/content/gdrive/My Drive/GoogleCoLab/SkinImagingCollaboration/Train/basal cell carcinoma/output/basal cell carcinoma_original_ISIC_0029501.jpg_59cf0b93-0ce4-4c19-9009-8e06f2f0d87f.jpg',\n",
              " '/content/gdrive/My Drive/GoogleCoLab/SkinImagingCollaboration/Train/basal cell carcinoma/output/basal cell carcinoma_original_ISIC_0031225.jpg_2b6506d2-dc3b-4ab3-8044-4ff1033eeba7.jpg',\n",
              " '/content/gdrive/My Drive/GoogleCoLab/SkinImagingCollaboration/Train/basal cell carcinoma/output/basal cell carcinoma_original_ISIC_0028980.jpg_da1cb5f9-bead-4cbb-b073-5a41c2d585ec.jpg',\n",
              " '/content/gdrive/My Drive/GoogleCoLab/SkinImagingCollaboration/Train/basal cell carcinoma/output/basal cell carcinoma_original_ISIC_0027814.jpg_b3181889-e401-43a3-b820-317b50fe0367.jpg',\n",
              " '/content/gdrive/My Drive/GoogleCoLab/SkinImagingCollaboration/Train/basal cell carcinoma/output/basal cell carcinoma_original_ISIC_0028739.jpg_a1a764d7-a210-46f7-a1a8-a31fd789e256.jpg',\n",
              " '/content/gdrive/My Drive/GoogleCoLab/SkinImagingCollaboration/Train/basal cell carcinoma/output/basal cell carcinoma_original_ISIC_0029123.jpg_fe55d434-a533-469e-b25b-8581d3475f6c.jpg',\n",
              " '/content/gdrive/My Drive/GoogleCoLab/SkinImagingCollaboration/Train/basal cell carcinoma/output/basal cell carcinoma_original_ISIC_0027058.jpg_9061392f-4b8f-4fa4-abae-bbeb2bfeb695.jpg',\n",
              " '/content/gdrive/My Drive/GoogleCoLab/SkinImagingCollaboration/Train/basal cell carcinoma/output/basal cell carcinoma_original_ISIC_0028818.jpg_82bac7cf-79a7-4dbb-ad50-4e0d7ae735b7.jpg',\n",
              " '/content/gdrive/My Drive/GoogleCoLab/SkinImagingCollaboration/Train/basal cell carcinoma/output/basal cell carcinoma_original_ISIC_0028084.jpg_b8e92737-370c-4f23-93d1-a94b76023659.jpg',\n",
              " '/content/gdrive/My Drive/GoogleCoLab/SkinImagingCollaboration/Train/basal cell carcinoma/output/basal cell carcinoma_original_ISIC_0026324.jpg_52c77e3c-4503-4064-8bf7-d37cad1ee7ff.jpg',\n",
              " '/content/gdrive/My Drive/GoogleCoLab/SkinImagingCollaboration/Train/basal cell carcinoma/output/basal cell carcinoma_original_ISIC_0026902.jpg_2fc809b6-4a48-47f3-882b-bb210942f9f3.jpg',\n",
              " '/content/gdrive/My Drive/GoogleCoLab/SkinImagingCollaboration/Train/basal cell carcinoma/output/basal cell carcinoma_original_ISIC_0025046.jpg_c6d067c0-a465-4522-ba51-47c7bae489af.jpg',\n",
              " '/content/gdrive/My Drive/GoogleCoLab/SkinImagingCollaboration/Train/basal cell carcinoma/output/basal cell carcinoma_original_ISIC_0027675.jpg_87cb56e2-96ef-40f8-93a1-5f8abc14066d.jpg',\n",
              " '/content/gdrive/My Drive/GoogleCoLab/SkinImagingCollaboration/Train/basal cell carcinoma/output/basal cell carcinoma_original_ISIC_0025301.jpg_fca81580-0fc7-49a1-89d7-4b5c7c9afcc7.jpg',\n",
              " '/content/gdrive/My Drive/GoogleCoLab/SkinImagingCollaboration/Train/basal cell carcinoma/output/basal cell carcinoma_original_ISIC_0024666.jpg_c27f07e0-aec5-4c8c-b002-f900e69b4f23.jpg',\n",
              " '/content/gdrive/My Drive/GoogleCoLab/SkinImagingCollaboration/Train/basal cell carcinoma/output/basal cell carcinoma_original_ISIC_0028980.jpg_6ac73a74-67ae-40de-9b2e-60cc9891aa52.jpg',\n",
              " '/content/gdrive/My Drive/GoogleCoLab/SkinImagingCollaboration/Train/basal cell carcinoma/output/basal cell carcinoma_original_ISIC_0027478.jpg_26d3164e-8f0c-4a0d-bc84-ecb04d2ad2e5.jpg',\n",
              " '/content/gdrive/My Drive/GoogleCoLab/SkinImagingCollaboration/Train/basal cell carcinoma/output/basal cell carcinoma_original_ISIC_0026687.jpg_3d6ef806-2a5a-4a74-aa28-b0e3d0710f06.jpg',\n",
              " '/content/gdrive/My Drive/GoogleCoLab/SkinImagingCollaboration/Train/basal cell carcinoma/output/basal cell carcinoma_original_ISIC_0030514.jpg_0dfe8e57-0da9-4a3d-8af1-e1b5af234c91.jpg',\n",
              " '/content/gdrive/My Drive/GoogleCoLab/SkinImagingCollaboration/Train/basal cell carcinoma/output/basal cell carcinoma_original_ISIC_0028238.jpg_f5981a2e-2a71-48bd-b7a5-30205094a941.jpg',\n",
              " '/content/gdrive/My Drive/GoogleCoLab/SkinImagingCollaboration/Train/basal cell carcinoma/output/basal cell carcinoma_original_ISIC_0031413.jpg_56f30abd-939b-4146-9cf7-43dfdd9b4bda.jpg',\n",
              " '/content/gdrive/My Drive/GoogleCoLab/SkinImagingCollaboration/Train/basal cell carcinoma/output/basal cell carcinoma_original_ISIC_0026656.jpg_7f99c93f-8761-49f0-a387-84b120c35ff8.jpg',\n",
              " '/content/gdrive/My Drive/GoogleCoLab/SkinImagingCollaboration/Train/basal cell carcinoma/output/basal cell carcinoma_original_ISIC_0027774.jpg_3632fd6d-9924-4feb-b058-c363b33b3afa.jpg',\n",
              " '/content/gdrive/My Drive/GoogleCoLab/SkinImagingCollaboration/Train/basal cell carcinoma/output/basal cell carcinoma_original_ISIC_0027865.jpg_33381ccf-0151-49e0-bd1a-1d834c71be54.jpg',\n",
              " '/content/gdrive/My Drive/GoogleCoLab/SkinImagingCollaboration/Train/basal cell carcinoma/output/basal cell carcinoma_original_ISIC_0030528.jpg_3ccf596c-33c8-48f3-b935-40a294d09712.jpg',\n",
              " '/content/gdrive/My Drive/GoogleCoLab/SkinImagingCollaboration/Train/basal cell carcinoma/output/basal cell carcinoma_original_ISIC_0028542.jpg_6ace7585-ca7a-48a6-a6ab-3c0a2c205637.jpg',\n",
              " '/content/gdrive/My Drive/GoogleCoLab/SkinImagingCollaboration/Train/basal cell carcinoma/output/basal cell carcinoma_original_ISIC_0031442.jpg_c8049b4a-2fa6-4c67-9c5c-52de86f8c396.jpg',\n",
              " '/content/gdrive/My Drive/GoogleCoLab/SkinImagingCollaboration/Train/basal cell carcinoma/output/basal cell carcinoma_original_ISIC_0029230.jpg_06174a6e-6377-4953-8d33-32aea17c6869.jpg',\n",
              " '/content/gdrive/My Drive/GoogleCoLab/SkinImagingCollaboration/Train/basal cell carcinoma/output/basal cell carcinoma_original_ISIC_0031413.jpg_a9800255-e1c6-4248-baf5-e7940ec366e9.jpg',\n",
              " '/content/gdrive/My Drive/GoogleCoLab/SkinImagingCollaboration/Train/basal cell carcinoma/output/basal cell carcinoma_original_ISIC_0029034.jpg_978ab338-7b14-4e37-9a5f-8f6b84272842.jpg',\n",
              " '/content/gdrive/My Drive/GoogleCoLab/SkinImagingCollaboration/Train/basal cell carcinoma/output/basal cell carcinoma_original_ISIC_0029515.jpg_3734903c-5211-4787-bad2-59f2532612ed.jpg',\n",
              " '/content/gdrive/My Drive/GoogleCoLab/SkinImagingCollaboration/Train/basal cell carcinoma/output/basal cell carcinoma_original_ISIC_0029020.jpg_f8191a25-fca6-4d3f-961d-1faa59484338.jpg',\n",
              " '/content/gdrive/My Drive/GoogleCoLab/SkinImagingCollaboration/Train/basal cell carcinoma/output/basal cell carcinoma_original_ISIC_0030096.jpg_cccac699-f266-4ab8-b3a9-efca6e6eb505.jpg',\n",
              " '/content/gdrive/My Drive/GoogleCoLab/SkinImagingCollaboration/Train/basal cell carcinoma/output/basal cell carcinoma_original_ISIC_0027046.jpg_0f172045-572e-4afa-8100-7e6e2a2153b7.jpg',\n",
              " '/content/gdrive/My Drive/GoogleCoLab/SkinImagingCollaboration/Train/basal cell carcinoma/output/basal cell carcinoma_original_ISIC_0027865.jpg_36685407-85b4-4c0f-afb7-d74554cec652.jpg',\n",
              " '/content/gdrive/My Drive/GoogleCoLab/SkinImagingCollaboration/Train/basal cell carcinoma/output/basal cell carcinoma_original_ISIC_0029745.jpg_83ffe059-4bf4-41f1-b087-c3ed49f35023.jpg',\n",
              " '/content/gdrive/My Drive/GoogleCoLab/SkinImagingCollaboration/Train/basal cell carcinoma/output/basal cell carcinoma_original_ISIC_0028323.jpg_cf6e3a5a-4c9c-408c-abb7-8a3881381eee.jpg',\n",
              " '/content/gdrive/My Drive/GoogleCoLab/SkinImagingCollaboration/Train/basal cell carcinoma/output/basal cell carcinoma_original_ISIC_0029747.jpg_b56dcd1e-3837-4610-adfb-2f2dd3e64679.jpg',\n",
              " '/content/gdrive/My Drive/GoogleCoLab/SkinImagingCollaboration/Train/basal cell carcinoma/output/basal cell carcinoma_original_ISIC_0025417.jpg_abc09671-bb2d-440a-96c3-9c8f5e749bb5.jpg',\n",
              " '/content/gdrive/My Drive/GoogleCoLab/SkinImagingCollaboration/Train/basal cell carcinoma/output/basal cell carcinoma_original_ISIC_0025824.jpg_d716927a-ad24-41b0-b822-59bc86e228f5.jpg',\n",
              " '/content/gdrive/My Drive/GoogleCoLab/SkinImagingCollaboration/Train/basal cell carcinoma/output/basal cell carcinoma_original_ISIC_0025576.jpg_bd5c6186-e7de-479c-af27-2925dc4e16cb.jpg',\n",
              " '/content/gdrive/My Drive/GoogleCoLab/SkinImagingCollaboration/Train/basal cell carcinoma/output/basal cell carcinoma_original_ISIC_0029539.jpg_2bf0fbcf-dd7d-4101-815d-267333e8d63b.jpg',\n",
              " '/content/gdrive/My Drive/GoogleCoLab/SkinImagingCollaboration/Train/basal cell carcinoma/output/basal cell carcinoma_original_ISIC_0028106.jpg_b92b11f7-fa69-4ed5-b586-2345dcf40f4b.jpg',\n",
              " '/content/gdrive/My Drive/GoogleCoLab/SkinImagingCollaboration/Train/basal cell carcinoma/output/basal cell carcinoma_original_ISIC_0031378.jpg_5afa5348-39a7-4f5f-a532-a288ddbbf5ce.jpg',\n",
              " '/content/gdrive/My Drive/GoogleCoLab/SkinImagingCollaboration/Train/basal cell carcinoma/output/basal cell carcinoma_original_ISIC_0029951.jpg_37d65a6e-17fa-485a-a67a-aefa6ba73765.jpg',\n",
              " '/content/gdrive/My Drive/GoogleCoLab/SkinImagingCollaboration/Train/basal cell carcinoma/output/basal cell carcinoma_original_ISIC_0027291.jpg_75d38c43-c1aa-4d55-88da-17e39ef81eb3.jpg',\n",
              " '/content/gdrive/My Drive/GoogleCoLab/SkinImagingCollaboration/Train/basal cell carcinoma/output/basal cell carcinoma_original_ISIC_0025818.jpg_1028f5d3-2e16-4630-829d-7202a40cc869.jpg',\n",
              " '/content/gdrive/My Drive/GoogleCoLab/SkinImagingCollaboration/Train/basal cell carcinoma/output/basal cell carcinoma_original_ISIC_0031166.jpg_12138437-36fb-4b39-9472-84dd84f07865.jpg',\n",
              " '/content/gdrive/My Drive/GoogleCoLab/SkinImagingCollaboration/Train/basal cell carcinoma/output/basal cell carcinoma_original_ISIC_0031169.jpg_220c9852-6c4b-4377-bf66-01189f9d5d41.jpg',\n",
              " '/content/gdrive/My Drive/GoogleCoLab/SkinImagingCollaboration/Train/basal cell carcinoma/output/basal cell carcinoma_original_ISIC_0026798.jpg_0cf1686a-1d65-4e0d-97d8-8a2915a38207.jpg',\n",
              " '/content/gdrive/My Drive/GoogleCoLab/SkinImagingCollaboration/Train/basal cell carcinoma/output/basal cell carcinoma_original_ISIC_0030737.jpg_3fb00794-a9b6-48a8-a4a4-418630b499ea.jpg',\n",
              " '/content/gdrive/My Drive/GoogleCoLab/SkinImagingCollaboration/Train/basal cell carcinoma/output/basal cell carcinoma_original_ISIC_0025266.jpg_0e018e50-6f9a-4b4b-8501-6c465cea1817.jpg',\n",
              " '/content/gdrive/My Drive/GoogleCoLab/SkinImagingCollaboration/Train/basal cell carcinoma/output/basal cell carcinoma_original_ISIC_0026439.jpg_2375526d-c7ca-4e78-be92-d21568eeeaa4.jpg',\n",
              " '/content/gdrive/My Drive/GoogleCoLab/SkinImagingCollaboration/Train/basal cell carcinoma/output/basal cell carcinoma_original_ISIC_0030574.jpg_b3d0dc7d-81a9-47bc-8a7c-f70a889c5b8b.jpg',\n",
              " '/content/gdrive/My Drive/GoogleCoLab/SkinImagingCollaboration/Train/basal cell carcinoma/output/basal cell carcinoma_original_ISIC_0028155.jpg_f59b46f9-2b37-49d2-b335-9f543e3cc23f.jpg',\n",
              " '/content/gdrive/My Drive/GoogleCoLab/SkinImagingCollaboration/Train/basal cell carcinoma/output/basal cell carcinoma_original_ISIC_0024515.jpg_8e003cfe-7329-4d52-8cb5-be6c772a3aac.jpg',\n",
              " '/content/gdrive/My Drive/GoogleCoLab/SkinImagingCollaboration/Train/basal cell carcinoma/output/basal cell carcinoma_original_ISIC_0029220.jpg_c419e0b6-f491-4d92-a3ba-6c1c035f0eae.jpg',\n",
              " '/content/gdrive/My Drive/GoogleCoLab/SkinImagingCollaboration/Train/basal cell carcinoma/output/basal cell carcinoma_original_ISIC_0028890.jpg_4b1a1011-ef35-4fec-bdd3-f9e39010686d.jpg',\n",
              " '/content/gdrive/My Drive/GoogleCoLab/SkinImagingCollaboration/Train/basal cell carcinoma/output/basal cell carcinoma_original_ISIC_0031294.jpg_922e6c4c-7770-43e7-8635-a063ea0d0c82.jpg',\n",
              " '/content/gdrive/My Drive/GoogleCoLab/SkinImagingCollaboration/Train/basal cell carcinoma/output/basal cell carcinoma_original_ISIC_0028570.jpg_c4605be4-67cc-4f39-b549-f5a58d4e5d12.jpg',\n",
              " '/content/gdrive/My Drive/GoogleCoLab/SkinImagingCollaboration/Train/basal cell carcinoma/output/basal cell carcinoma_original_ISIC_0026687.jpg_a5c04bf3-95ff-4cf7-a301-1e4841ac95f3.jpg',\n",
              " '/content/gdrive/My Drive/GoogleCoLab/SkinImagingCollaboration/Train/basal cell carcinoma/output/basal cell carcinoma_original_ISIC_0031225.jpg_f5e4e5d1-50ab-49dd-bd97-8f079179d4c4.jpg',\n",
              " '/content/gdrive/My Drive/GoogleCoLab/SkinImagingCollaboration/Train/basal cell carcinoma/output/basal cell carcinoma_original_ISIC_0025700.jpg_dc4ab2df-8e8d-4bd7-8fb8-17eb46fa823e.jpg',\n",
              " '/content/gdrive/My Drive/GoogleCoLab/SkinImagingCollaboration/Train/basal cell carcinoma/output/basal cell carcinoma_original_ISIC_0026593.jpg_dc3a81f0-12c6-4dc0-9b6d-e0c6f4b76927.jpg',\n",
              " '/content/gdrive/My Drive/GoogleCoLab/SkinImagingCollaboration/Train/basal cell carcinoma/output/basal cell carcinoma_original_ISIC_0028568.jpg_146e7b80-df18-46d2-a1fc-9003cbb8e6be.jpg',\n",
              " '/content/gdrive/My Drive/GoogleCoLab/SkinImagingCollaboration/Train/basal cell carcinoma/output/basal cell carcinoma_original_ISIC_0031569.jpg_1551d69f-f782-404a-bd6d-3a91d8c804ac.jpg',\n",
              " '/content/gdrive/My Drive/GoogleCoLab/SkinImagingCollaboration/Train/basal cell carcinoma/output/basal cell carcinoma_original_ISIC_0028583.jpg_b5a9b0bc-8f72-47cd-80f5-b0e919566008.jpg',\n",
              " '/content/gdrive/My Drive/GoogleCoLab/SkinImagingCollaboration/Train/basal cell carcinoma/output/basal cell carcinoma_original_ISIC_0028419.jpg_eed55dce-3900-47c0-aebc-ae996a294822.jpg',\n",
              " '/content/gdrive/My Drive/GoogleCoLab/SkinImagingCollaboration/Train/basal cell carcinoma/output/basal cell carcinoma_original_ISIC_0025299.jpg_12835943-3e0e-4c31-b9fa-744a0d4fb409.jpg',\n",
              " '/content/gdrive/My Drive/GoogleCoLab/SkinImagingCollaboration/Train/basal cell carcinoma/output/basal cell carcinoma_original_ISIC_0031318.jpg_b52cb22d-5c67-4604-89e3-1f1f6d0995ff.jpg',\n",
              " '/content/gdrive/My Drive/GoogleCoLab/SkinImagingCollaboration/Train/basal cell carcinoma/output/basal cell carcinoma_original_ISIC_0027609.jpg_e024c25e-74d3-4b06-bd16-ba171faff6c1.jpg',\n",
              " '/content/gdrive/My Drive/GoogleCoLab/SkinImagingCollaboration/Train/basal cell carcinoma/output/basal cell carcinoma_original_ISIC_0025557.jpg_35129109-5a57-45b9-b500-a6d80c0de637.jpg',\n",
              " '/content/gdrive/My Drive/GoogleCoLab/SkinImagingCollaboration/Train/basal cell carcinoma/output/basal cell carcinoma_original_ISIC_0031489.jpg_4a2758ba-52a4-46a8-9321-287e3c50a320.jpg',\n",
              " '/content/gdrive/My Drive/GoogleCoLab/SkinImagingCollaboration/Train/basal cell carcinoma/output/basal cell carcinoma_original_ISIC_0031169.jpg_e835dcb3-1023-431e-beba-c67885f89c21.jpg',\n",
              " '/content/gdrive/My Drive/GoogleCoLab/SkinImagingCollaboration/Train/basal cell carcinoma/output/basal cell carcinoma_original_ISIC_0029974.jpg_7b69fb34-0558-459e-92b6-236fe22a5a16.jpg',\n",
              " '/content/gdrive/My Drive/GoogleCoLab/SkinImagingCollaboration/Train/basal cell carcinoma/output/basal cell carcinoma_original_ISIC_0031569.jpg_cf6d1dcc-585b-44ad-985f-7f31a13c425f.jpg',\n",
              " '/content/gdrive/My Drive/GoogleCoLab/SkinImagingCollaboration/Train/basal cell carcinoma/output/basal cell carcinoma_original_ISIC_0030868.jpg_b09695a7-be12-4dca-8a92-e210b141c6fb.jpg',\n",
              " '/content/gdrive/My Drive/GoogleCoLab/SkinImagingCollaboration/Train/basal cell carcinoma/output/basal cell carcinoma_original_ISIC_0024799.jpg_b1d70182-9eaf-4231-994c-ddd59db5abe3.jpg',\n",
              " '/content/gdrive/My Drive/GoogleCoLab/SkinImagingCollaboration/Train/basal cell carcinoma/output/basal cell carcinoma_original_ISIC_0030737.jpg_35f889aa-9b97-4c00-a4ca-69c8d0331079.jpg',\n",
              " '/content/gdrive/My Drive/GoogleCoLab/SkinImagingCollaboration/Train/basal cell carcinoma/output/basal cell carcinoma_original_ISIC_0029323.jpg_f1774c30-f917-4a30-952e-f1d986cb310f.jpg',\n",
              " '/content/gdrive/My Drive/GoogleCoLab/SkinImagingCollaboration/Train/basal cell carcinoma/output/basal cell carcinoma_original_ISIC_0029342.jpg_f92e1bec-cd6b-4ede-beca-5c89a82c629f.jpg',\n",
              " '/content/gdrive/My Drive/GoogleCoLab/SkinImagingCollaboration/Train/basal cell carcinoma/output/basal cell carcinoma_original_ISIC_0030096.jpg_8eab1223-a093-40da-8791-d0be1c155fd0.jpg',\n",
              " '/content/gdrive/My Drive/GoogleCoLab/SkinImagingCollaboration/Train/basal cell carcinoma/output/basal cell carcinoma_original_ISIC_0026154.jpg_ba0d42d3-34a6-4b99-94ca-0ab49ee66e48.jpg',\n",
              " '/content/gdrive/My Drive/GoogleCoLab/SkinImagingCollaboration/Train/basal cell carcinoma/output/basal cell carcinoma_original_ISIC_0025260.jpg_ff51af3e-a412-4d59-b683-a67888deac1a.jpg',\n",
              " '/content/gdrive/My Drive/GoogleCoLab/SkinImagingCollaboration/Train/basal cell carcinoma/output/basal cell carcinoma_original_ISIC_0030782.jpg_228f84ff-8894-42cc-a55c-22944cc96d17.jpg',\n",
              " '/content/gdrive/My Drive/GoogleCoLab/SkinImagingCollaboration/Train/basal cell carcinoma/output/basal cell carcinoma_original_ISIC_0025617.jpg_01d1c953-0700-4975-a151-dabf7fa6dfe6.jpg',\n",
              " '/content/gdrive/My Drive/GoogleCoLab/SkinImagingCollaboration/Train/basal cell carcinoma/output/basal cell carcinoma_original_ISIC_0029341.jpg_c10edbaa-6641-46f3-9026-de04039973d1.jpg',\n",
              " '/content/gdrive/My Drive/GoogleCoLab/SkinImagingCollaboration/Train/basal cell carcinoma/output/basal cell carcinoma_original_ISIC_0026940.jpg_61efb9b5-2bad-4e00-9b64-9ab06f85645d.jpg',\n",
              " '/content/gdrive/My Drive/GoogleCoLab/SkinImagingCollaboration/Train/basal cell carcinoma/output/basal cell carcinoma_original_ISIC_0024931.jpg_80bffd0b-2f72-4509-8d9e-306fbbcdaf0f.jpg',\n",
              " '/content/gdrive/My Drive/GoogleCoLab/SkinImagingCollaboration/Train/basal cell carcinoma/output/basal cell carcinoma_original_ISIC_0028283.jpg_960186c4-8c85-43c5-b5e6-901c9336d33e.jpg',\n",
              " '/content/gdrive/My Drive/GoogleCoLab/SkinImagingCollaboration/Train/basal cell carcinoma/output/basal cell carcinoma_original_ISIC_0028671.jpg_062e5fcf-4d62-4602-a318-54f9030f09ea.jpg',\n",
              " '/content/gdrive/My Drive/GoogleCoLab/SkinImagingCollaboration/Train/basal cell carcinoma/output/basal cell carcinoma_original_ISIC_0031442.jpg_d5739b5c-cfa9-4580-927f-6a23695fbf92.jpg',\n",
              " '/content/gdrive/My Drive/GoogleCoLab/SkinImagingCollaboration/Train/basal cell carcinoma/output/basal cell carcinoma_original_ISIC_0026343.jpg_c459af7b-7580-4388-8962-a20cc25e930a.jpg',\n",
              " '/content/gdrive/My Drive/GoogleCoLab/SkinImagingCollaboration/Train/basal cell carcinoma/output/basal cell carcinoma_original_ISIC_0031266.jpg_74d618d3-30b0-40b9-87b8-e30f4751f5d4.jpg',\n",
              " '/content/gdrive/My Drive/GoogleCoLab/SkinImagingCollaboration/Train/basal cell carcinoma/output/basal cell carcinoma_original_ISIC_0029515.jpg_d7848014-286a-4d98-90cf-ad53442ce803.jpg',\n",
              " '/content/gdrive/My Drive/GoogleCoLab/SkinImagingCollaboration/Train/basal cell carcinoma/output/basal cell carcinoma_original_ISIC_0027046.jpg_12e5e83f-f4ad-4fde-a31e-4264234454b1.jpg',\n",
              " '/content/gdrive/My Drive/GoogleCoLab/SkinImagingCollaboration/Train/basal cell carcinoma/output/basal cell carcinoma_original_ISIC_0031351.jpg_c378ca9d-c85a-4cf3-827d-0ff06a9c07f7.jpg',\n",
              " '/content/gdrive/My Drive/GoogleCoLab/SkinImagingCollaboration/Train/basal cell carcinoma/output/basal cell carcinoma_original_ISIC_0030574.jpg_1e9b35cc-76a7-4271-a0f2-7864037b441c.jpg',\n",
              " '/content/gdrive/My Drive/GoogleCoLab/SkinImagingCollaboration/Train/basal cell carcinoma/output/basal cell carcinoma_original_ISIC_0027545.jpg_7018f831-fb00-4568-b8d9-114c59b3aa01.jpg',\n",
              " '/content/gdrive/My Drive/GoogleCoLab/SkinImagingCollaboration/Train/basal cell carcinoma/output/basal cell carcinoma_original_ISIC_0026766.jpg_b16de9dc-d715-4765-955b-6de17982f4c7.jpg',\n",
              " '/content/gdrive/My Drive/GoogleCoLab/SkinImagingCollaboration/Train/basal cell carcinoma/output/basal cell carcinoma_original_ISIC_0030233.jpg_f0b1a842-941f-4e45-a2b2-7785f8bb5ae3.jpg',\n",
              " '/content/gdrive/My Drive/GoogleCoLab/SkinImagingCollaboration/Train/basal cell carcinoma/output/basal cell carcinoma_original_ISIC_0026117.jpg_d29f3643-2e6b-42e1-8284-5bb788c5539a.jpg',\n",
              " '/content/gdrive/My Drive/GoogleCoLab/SkinImagingCollaboration/Train/basal cell carcinoma/output/basal cell carcinoma_original_ISIC_0030755.jpg_9a62fab1-e3cf-4b0d-b293-76a6665d17f3.jpg',\n",
              " '/content/gdrive/My Drive/GoogleCoLab/SkinImagingCollaboration/Train/basal cell carcinoma/output/basal cell carcinoma_original_ISIC_0029805.jpg_9cabaa8b-701c-412c-9809-6276ff8402d7.jpg',\n",
              " '/content/gdrive/My Drive/GoogleCoLab/SkinImagingCollaboration/Train/basal cell carcinoma/output/basal cell carcinoma_original_ISIC_0026978.jpg_18cc7376-a68f-4a1a-8fc3-52129ca3f05d.jpg',\n",
              " '/content/gdrive/My Drive/GoogleCoLab/SkinImagingCollaboration/Train/basal cell carcinoma/output/basal cell carcinoma_original_ISIC_0029053.jpg_4e0796b2-e8b4-463f-8a3c-22919f7f8366.jpg',\n",
              " '/content/gdrive/My Drive/GoogleCoLab/SkinImagingCollaboration/Train/basal cell carcinoma/output/basal cell carcinoma_original_ISIC_0030712.jpg_696ddcf0-cd1a-45ef-8bce-617e0a410499.jpg',\n",
              " '/content/gdrive/My Drive/GoogleCoLab/SkinImagingCollaboration/Train/basal cell carcinoma/output/basal cell carcinoma_original_ISIC_0028350.jpg_3afb6c18-4a93-4050-8368-36e5f40728ca.jpg',\n",
              " '/content/gdrive/My Drive/GoogleCoLab/SkinImagingCollaboration/Train/basal cell carcinoma/output/basal cell carcinoma_original_ISIC_0030271.jpg_922774de-8914-49ba-b6c4-4765fcc1d737.jpg',\n",
              " '/content/gdrive/My Drive/GoogleCoLab/SkinImagingCollaboration/Train/basal cell carcinoma/output/basal cell carcinoma_original_ISIC_0029899.jpg_b52c532f-07de-4a27-8029-845f4de09305.jpg',\n",
              " '/content/gdrive/My Drive/GoogleCoLab/SkinImagingCollaboration/Train/basal cell carcinoma/output/basal cell carcinoma_original_ISIC_0029545.jpg_50e99028-d282-475f-8fc7-1da0d398dc82.jpg',\n",
              " '/content/gdrive/My Drive/GoogleCoLab/SkinImagingCollaboration/Train/basal cell carcinoma/output/basal cell carcinoma_original_ISIC_0025299.jpg_f77f70b9-6de3-4bb4-ad3c-3133ad930360.jpg',\n",
              " '/content/gdrive/My Drive/GoogleCoLab/SkinImagingCollaboration/Train/basal cell carcinoma/output/basal cell carcinoma_original_ISIC_0029755.jpg_5686e50f-8eac-4798-a3a8-980bd8b4bfc3.jpg',\n",
              " '/content/gdrive/My Drive/GoogleCoLab/SkinImagingCollaboration/Train/basal cell carcinoma/output/basal cell carcinoma_original_ISIC_0025940.jpg_6e82392a-570d-4cc6-a5b9-61fd144f8954.jpg',\n",
              " '/content/gdrive/My Drive/GoogleCoLab/SkinImagingCollaboration/Train/basal cell carcinoma/output/basal cell carcinoma_original_ISIC_0026091.jpg_961ec824-035a-4b91-aaf4-c9e32fe59ebe.jpg',\n",
              " '/content/gdrive/My Drive/GoogleCoLab/SkinImagingCollaboration/Train/basal cell carcinoma/output/basal cell carcinoma_original_ISIC_0030893.jpg_384c4164-b1e2-41e1-a9d2-4dbcc0c44c10.jpg',\n",
              " '/content/gdrive/My Drive/GoogleCoLab/SkinImagingCollaboration/Train/basal cell carcinoma/output/basal cell carcinoma_original_ISIC_0027786.jpg_5d5d02f8-3de0-4553-82d2-bf3b24fc29f6.jpg',\n",
              " '/content/gdrive/My Drive/GoogleCoLab/SkinImagingCollaboration/Train/basal cell carcinoma/output/basal cell carcinoma_original_ISIC_0029342.jpg_f0590783-850f-450b-8c4f-a350c0f31dfa.jpg',\n",
              " '/content/gdrive/My Drive/GoogleCoLab/SkinImagingCollaboration/Train/basal cell carcinoma/output/basal cell carcinoma_original_ISIC_0028238.jpg_7346dfec-62f2-4088-9e55-c1e9d580aa5e.jpg',\n",
              " '/content/gdrive/My Drive/GoogleCoLab/SkinImagingCollaboration/Train/basal cell carcinoma/output/basal cell carcinoma_original_ISIC_0026855.jpg_c6922b2c-e75a-4d9d-9ab3-355ddc682f70.jpg',\n",
              " '/content/gdrive/My Drive/GoogleCoLab/SkinImagingCollaboration/Train/basal cell carcinoma/output/basal cell carcinoma_original_ISIC_0029564.jpg_3a804bf0-fdf2-4727-b064-438c276df40a.jpg',\n",
              " '/content/gdrive/My Drive/GoogleCoLab/SkinImagingCollaboration/Train/basal cell carcinoma/output/basal cell carcinoma_original_ISIC_0027609.jpg_21e23544-7404-4110-bff8-6499db25b071.jpg',\n",
              " '/content/gdrive/My Drive/GoogleCoLab/SkinImagingCollaboration/Train/basal cell carcinoma/output/basal cell carcinoma_original_ISIC_0027998.jpg_58af0e72-d267-46c1-b398-e9be6e32f394.jpg',\n",
              " '/content/gdrive/My Drive/GoogleCoLab/SkinImagingCollaboration/Train/basal cell carcinoma/output/basal cell carcinoma_original_ISIC_0028457.jpg_6e707d13-262a-4d1a-8901-33a1e03241d3.jpg',\n",
              " '/content/gdrive/My Drive/GoogleCoLab/SkinImagingCollaboration/Train/basal cell carcinoma/output/basal cell carcinoma_original_ISIC_0028107.jpg_d0edb32a-dc00-44e3-84a1-ce475822063a.jpg',\n",
              " ...]"
            ]
          },
          "metadata": {},
          "execution_count": 26
        }
      ],
      "source": [
        "path_list = [x for x in glob(os.path.join(data_dir_train, '*','output', '*.jpg'))]\n",
        "path_list"
      ]
    },
    {
      "cell_type": "code",
      "execution_count": 27,
      "metadata": {
        "id": "nZvVdF7g3E1z",
        "colab": {
          "base_uri": "https://localhost:8080/"
        },
        "outputId": "a24d4eef-b524-4e8c-954c-e07822e0f95b"
      },
      "outputs": [
        {
          "output_type": "execute_result",
          "data": {
            "text/plain": [
              "['dermatofibroma',\n",
              " 'dermatofibroma',\n",
              " 'dermatofibroma',\n",
              " 'dermatofibroma',\n",
              " 'dermatofibroma',\n",
              " 'dermatofibroma',\n",
              " 'dermatofibroma',\n",
              " 'dermatofibroma',\n",
              " 'dermatofibroma',\n",
              " 'dermatofibroma',\n",
              " 'dermatofibroma',\n",
              " 'dermatofibroma',\n",
              " 'dermatofibroma',\n",
              " 'dermatofibroma',\n",
              " 'dermatofibroma',\n",
              " 'dermatofibroma',\n",
              " 'dermatofibroma',\n",
              " 'dermatofibroma',\n",
              " 'dermatofibroma',\n",
              " 'dermatofibroma',\n",
              " 'dermatofibroma',\n",
              " 'dermatofibroma',\n",
              " 'dermatofibroma',\n",
              " 'dermatofibroma',\n",
              " 'dermatofibroma',\n",
              " 'dermatofibroma',\n",
              " 'dermatofibroma',\n",
              " 'dermatofibroma',\n",
              " 'dermatofibroma',\n",
              " 'dermatofibroma',\n",
              " 'dermatofibroma',\n",
              " 'dermatofibroma',\n",
              " 'dermatofibroma',\n",
              " 'dermatofibroma',\n",
              " 'dermatofibroma',\n",
              " 'dermatofibroma',\n",
              " 'dermatofibroma',\n",
              " 'dermatofibroma',\n",
              " 'dermatofibroma',\n",
              " 'dermatofibroma',\n",
              " 'dermatofibroma',\n",
              " 'dermatofibroma',\n",
              " 'dermatofibroma',\n",
              " 'dermatofibroma',\n",
              " 'dermatofibroma',\n",
              " 'dermatofibroma',\n",
              " 'dermatofibroma',\n",
              " 'dermatofibroma',\n",
              " 'dermatofibroma',\n",
              " 'dermatofibroma',\n",
              " 'dermatofibroma',\n",
              " 'dermatofibroma',\n",
              " 'dermatofibroma',\n",
              " 'dermatofibroma',\n",
              " 'dermatofibroma',\n",
              " 'dermatofibroma',\n",
              " 'dermatofibroma',\n",
              " 'dermatofibroma',\n",
              " 'dermatofibroma',\n",
              " 'dermatofibroma',\n",
              " 'dermatofibroma',\n",
              " 'dermatofibroma',\n",
              " 'dermatofibroma',\n",
              " 'dermatofibroma',\n",
              " 'dermatofibroma',\n",
              " 'dermatofibroma',\n",
              " 'dermatofibroma',\n",
              " 'dermatofibroma',\n",
              " 'dermatofibroma',\n",
              " 'dermatofibroma',\n",
              " 'dermatofibroma',\n",
              " 'dermatofibroma',\n",
              " 'dermatofibroma',\n",
              " 'dermatofibroma',\n",
              " 'dermatofibroma',\n",
              " 'dermatofibroma',\n",
              " 'dermatofibroma',\n",
              " 'dermatofibroma',\n",
              " 'dermatofibroma',\n",
              " 'dermatofibroma',\n",
              " 'dermatofibroma',\n",
              " 'dermatofibroma',\n",
              " 'dermatofibroma',\n",
              " 'dermatofibroma',\n",
              " 'dermatofibroma',\n",
              " 'dermatofibroma',\n",
              " 'dermatofibroma',\n",
              " 'dermatofibroma',\n",
              " 'dermatofibroma',\n",
              " 'dermatofibroma',\n",
              " 'dermatofibroma',\n",
              " 'dermatofibroma',\n",
              " 'dermatofibroma',\n",
              " 'dermatofibroma',\n",
              " 'dermatofibroma',\n",
              " 'dermatofibroma',\n",
              " 'dermatofibroma',\n",
              " 'dermatofibroma',\n",
              " 'dermatofibroma',\n",
              " 'dermatofibroma',\n",
              " 'dermatofibroma',\n",
              " 'dermatofibroma',\n",
              " 'dermatofibroma',\n",
              " 'dermatofibroma',\n",
              " 'dermatofibroma',\n",
              " 'dermatofibroma',\n",
              " 'dermatofibroma',\n",
              " 'dermatofibroma',\n",
              " 'dermatofibroma',\n",
              " 'dermatofibroma',\n",
              " 'dermatofibroma',\n",
              " 'dermatofibroma',\n",
              " 'dermatofibroma',\n",
              " 'dermatofibroma',\n",
              " 'dermatofibroma',\n",
              " 'dermatofibroma',\n",
              " 'dermatofibroma',\n",
              " 'dermatofibroma',\n",
              " 'dermatofibroma',\n",
              " 'dermatofibroma',\n",
              " 'dermatofibroma',\n",
              " 'dermatofibroma',\n",
              " 'dermatofibroma',\n",
              " 'dermatofibroma',\n",
              " 'dermatofibroma',\n",
              " 'dermatofibroma',\n",
              " 'dermatofibroma',\n",
              " 'dermatofibroma',\n",
              " 'dermatofibroma',\n",
              " 'dermatofibroma',\n",
              " 'dermatofibroma',\n",
              " 'dermatofibroma',\n",
              " 'dermatofibroma',\n",
              " 'dermatofibroma',\n",
              " 'dermatofibroma',\n",
              " 'dermatofibroma',\n",
              " 'dermatofibroma',\n",
              " 'dermatofibroma',\n",
              " 'dermatofibroma',\n",
              " 'dermatofibroma',\n",
              " 'dermatofibroma',\n",
              " 'dermatofibroma',\n",
              " 'dermatofibroma',\n",
              " 'dermatofibroma',\n",
              " 'dermatofibroma',\n",
              " 'dermatofibroma',\n",
              " 'dermatofibroma',\n",
              " 'dermatofibroma',\n",
              " 'dermatofibroma',\n",
              " 'dermatofibroma',\n",
              " 'dermatofibroma',\n",
              " 'dermatofibroma',\n",
              " 'dermatofibroma',\n",
              " 'dermatofibroma',\n",
              " 'dermatofibroma',\n",
              " 'dermatofibroma',\n",
              " 'dermatofibroma',\n",
              " 'dermatofibroma',\n",
              " 'dermatofibroma',\n",
              " 'dermatofibroma',\n",
              " 'dermatofibroma',\n",
              " 'dermatofibroma',\n",
              " 'dermatofibroma',\n",
              " 'dermatofibroma',\n",
              " 'dermatofibroma',\n",
              " 'dermatofibroma',\n",
              " 'dermatofibroma',\n",
              " 'dermatofibroma',\n",
              " 'dermatofibroma',\n",
              " 'dermatofibroma',\n",
              " 'dermatofibroma',\n",
              " 'dermatofibroma',\n",
              " 'dermatofibroma',\n",
              " 'dermatofibroma',\n",
              " 'dermatofibroma',\n",
              " 'dermatofibroma',\n",
              " 'dermatofibroma',\n",
              " 'dermatofibroma',\n",
              " 'dermatofibroma',\n",
              " 'dermatofibroma',\n",
              " 'dermatofibroma',\n",
              " 'dermatofibroma',\n",
              " 'dermatofibroma',\n",
              " 'dermatofibroma',\n",
              " 'dermatofibroma',\n",
              " 'dermatofibroma',\n",
              " 'dermatofibroma',\n",
              " 'dermatofibroma',\n",
              " 'dermatofibroma',\n",
              " 'dermatofibroma',\n",
              " 'dermatofibroma',\n",
              " 'dermatofibroma',\n",
              " 'dermatofibroma',\n",
              " 'dermatofibroma',\n",
              " 'dermatofibroma',\n",
              " 'dermatofibroma',\n",
              " 'dermatofibroma',\n",
              " 'dermatofibroma',\n",
              " 'dermatofibroma',\n",
              " 'dermatofibroma',\n",
              " 'dermatofibroma',\n",
              " 'dermatofibroma',\n",
              " 'dermatofibroma',\n",
              " 'dermatofibroma',\n",
              " 'dermatofibroma',\n",
              " 'dermatofibroma',\n",
              " 'dermatofibroma',\n",
              " 'dermatofibroma',\n",
              " 'dermatofibroma',\n",
              " 'dermatofibroma',\n",
              " 'dermatofibroma',\n",
              " 'dermatofibroma',\n",
              " 'dermatofibroma',\n",
              " 'dermatofibroma',\n",
              " 'dermatofibroma',\n",
              " 'dermatofibroma',\n",
              " 'dermatofibroma',\n",
              " 'dermatofibroma',\n",
              " 'dermatofibroma',\n",
              " 'dermatofibroma',\n",
              " 'dermatofibroma',\n",
              " 'dermatofibroma',\n",
              " 'dermatofibroma',\n",
              " 'dermatofibroma',\n",
              " 'dermatofibroma',\n",
              " 'dermatofibroma',\n",
              " 'dermatofibroma',\n",
              " 'dermatofibroma',\n",
              " 'dermatofibroma',\n",
              " 'dermatofibroma',\n",
              " 'dermatofibroma',\n",
              " 'dermatofibroma',\n",
              " 'dermatofibroma',\n",
              " 'dermatofibroma',\n",
              " 'dermatofibroma',\n",
              " 'dermatofibroma',\n",
              " 'dermatofibroma',\n",
              " 'dermatofibroma',\n",
              " 'dermatofibroma',\n",
              " 'dermatofibroma',\n",
              " 'dermatofibroma',\n",
              " 'dermatofibroma',\n",
              " 'dermatofibroma',\n",
              " 'dermatofibroma',\n",
              " 'dermatofibroma',\n",
              " 'dermatofibroma',\n",
              " 'dermatofibroma',\n",
              " 'dermatofibroma',\n",
              " 'dermatofibroma',\n",
              " 'dermatofibroma',\n",
              " 'dermatofibroma',\n",
              " 'dermatofibroma',\n",
              " 'dermatofibroma',\n",
              " 'dermatofibroma',\n",
              " 'dermatofibroma',\n",
              " 'dermatofibroma',\n",
              " 'dermatofibroma',\n",
              " 'dermatofibroma',\n",
              " 'dermatofibroma',\n",
              " 'dermatofibroma',\n",
              " 'dermatofibroma',\n",
              " 'dermatofibroma',\n",
              " 'dermatofibroma',\n",
              " 'dermatofibroma',\n",
              " 'dermatofibroma',\n",
              " 'dermatofibroma',\n",
              " 'dermatofibroma',\n",
              " 'dermatofibroma',\n",
              " 'dermatofibroma',\n",
              " 'dermatofibroma',\n",
              " 'dermatofibroma',\n",
              " 'dermatofibroma',\n",
              " 'dermatofibroma',\n",
              " 'dermatofibroma',\n",
              " 'dermatofibroma',\n",
              " 'dermatofibroma',\n",
              " 'dermatofibroma',\n",
              " 'dermatofibroma',\n",
              " 'dermatofibroma',\n",
              " 'dermatofibroma',\n",
              " 'dermatofibroma',\n",
              " 'dermatofibroma',\n",
              " 'dermatofibroma',\n",
              " 'dermatofibroma',\n",
              " 'dermatofibroma',\n",
              " 'dermatofibroma',\n",
              " 'dermatofibroma',\n",
              " 'dermatofibroma',\n",
              " 'dermatofibroma',\n",
              " 'dermatofibroma',\n",
              " 'dermatofibroma',\n",
              " 'dermatofibroma',\n",
              " 'dermatofibroma',\n",
              " 'dermatofibroma',\n",
              " 'dermatofibroma',\n",
              " 'dermatofibroma',\n",
              " 'dermatofibroma',\n",
              " 'dermatofibroma',\n",
              " 'dermatofibroma',\n",
              " 'dermatofibroma',\n",
              " 'dermatofibroma',\n",
              " 'dermatofibroma',\n",
              " 'dermatofibroma',\n",
              " 'dermatofibroma',\n",
              " 'dermatofibroma',\n",
              " 'dermatofibroma',\n",
              " 'dermatofibroma',\n",
              " 'dermatofibroma',\n",
              " 'dermatofibroma',\n",
              " 'dermatofibroma',\n",
              " 'dermatofibroma',\n",
              " 'dermatofibroma',\n",
              " 'dermatofibroma',\n",
              " 'dermatofibroma',\n",
              " 'dermatofibroma',\n",
              " 'dermatofibroma',\n",
              " 'dermatofibroma',\n",
              " 'dermatofibroma',\n",
              " 'dermatofibroma',\n",
              " 'dermatofibroma',\n",
              " 'dermatofibroma',\n",
              " 'dermatofibroma',\n",
              " 'dermatofibroma',\n",
              " 'dermatofibroma',\n",
              " 'dermatofibroma',\n",
              " 'dermatofibroma',\n",
              " 'dermatofibroma',\n",
              " 'dermatofibroma',\n",
              " 'dermatofibroma',\n",
              " 'dermatofibroma',\n",
              " 'dermatofibroma',\n",
              " 'dermatofibroma',\n",
              " 'dermatofibroma',\n",
              " 'dermatofibroma',\n",
              " 'dermatofibroma',\n",
              " 'dermatofibroma',\n",
              " 'dermatofibroma',\n",
              " 'dermatofibroma',\n",
              " 'dermatofibroma',\n",
              " 'dermatofibroma',\n",
              " 'dermatofibroma',\n",
              " 'dermatofibroma',\n",
              " 'dermatofibroma',\n",
              " 'dermatofibroma',\n",
              " 'dermatofibroma',\n",
              " 'dermatofibroma',\n",
              " 'dermatofibroma',\n",
              " 'dermatofibroma',\n",
              " 'dermatofibroma',\n",
              " 'dermatofibroma',\n",
              " 'dermatofibroma',\n",
              " 'dermatofibroma',\n",
              " 'dermatofibroma',\n",
              " 'dermatofibroma',\n",
              " 'dermatofibroma',\n",
              " 'dermatofibroma',\n",
              " 'dermatofibroma',\n",
              " 'dermatofibroma',\n",
              " 'dermatofibroma',\n",
              " 'dermatofibroma',\n",
              " 'dermatofibroma',\n",
              " 'dermatofibroma',\n",
              " 'dermatofibroma',\n",
              " 'dermatofibroma',\n",
              " 'dermatofibroma',\n",
              " 'dermatofibroma',\n",
              " 'dermatofibroma',\n",
              " 'dermatofibroma',\n",
              " 'dermatofibroma',\n",
              " 'dermatofibroma',\n",
              " 'dermatofibroma',\n",
              " 'dermatofibroma',\n",
              " 'dermatofibroma',\n",
              " 'dermatofibroma',\n",
              " 'dermatofibroma',\n",
              " 'dermatofibroma',\n",
              " 'dermatofibroma',\n",
              " 'dermatofibroma',\n",
              " 'dermatofibroma',\n",
              " 'dermatofibroma',\n",
              " 'dermatofibroma',\n",
              " 'dermatofibroma',\n",
              " 'dermatofibroma',\n",
              " 'dermatofibroma',\n",
              " 'dermatofibroma',\n",
              " 'dermatofibroma',\n",
              " 'dermatofibroma',\n",
              " 'dermatofibroma',\n",
              " 'dermatofibroma',\n",
              " 'dermatofibroma',\n",
              " 'dermatofibroma',\n",
              " 'dermatofibroma',\n",
              " 'dermatofibroma',\n",
              " 'dermatofibroma',\n",
              " 'dermatofibroma',\n",
              " 'dermatofibroma',\n",
              " 'dermatofibroma',\n",
              " 'dermatofibroma',\n",
              " 'dermatofibroma',\n",
              " 'dermatofibroma',\n",
              " 'dermatofibroma',\n",
              " 'dermatofibroma',\n",
              " 'dermatofibroma',\n",
              " 'dermatofibroma',\n",
              " 'dermatofibroma',\n",
              " 'dermatofibroma',\n",
              " 'dermatofibroma',\n",
              " 'dermatofibroma',\n",
              " 'dermatofibroma',\n",
              " 'dermatofibroma',\n",
              " 'dermatofibroma',\n",
              " 'dermatofibroma',\n",
              " 'dermatofibroma',\n",
              " 'dermatofibroma',\n",
              " 'dermatofibroma',\n",
              " 'dermatofibroma',\n",
              " 'dermatofibroma',\n",
              " 'dermatofibroma',\n",
              " 'dermatofibroma',\n",
              " 'dermatofibroma',\n",
              " 'dermatofibroma',\n",
              " 'dermatofibroma',\n",
              " 'dermatofibroma',\n",
              " 'dermatofibroma',\n",
              " 'dermatofibroma',\n",
              " 'dermatofibroma',\n",
              " 'dermatofibroma',\n",
              " 'dermatofibroma',\n",
              " 'dermatofibroma',\n",
              " 'dermatofibroma',\n",
              " 'dermatofibroma',\n",
              " 'dermatofibroma',\n",
              " 'dermatofibroma',\n",
              " 'dermatofibroma',\n",
              " 'dermatofibroma',\n",
              " 'dermatofibroma',\n",
              " 'dermatofibroma',\n",
              " 'dermatofibroma',\n",
              " 'dermatofibroma',\n",
              " 'dermatofibroma',\n",
              " 'dermatofibroma',\n",
              " 'dermatofibroma',\n",
              " 'dermatofibroma',\n",
              " 'dermatofibroma',\n",
              " 'dermatofibroma',\n",
              " 'dermatofibroma',\n",
              " 'dermatofibroma',\n",
              " 'dermatofibroma',\n",
              " 'dermatofibroma',\n",
              " 'dermatofibroma',\n",
              " 'dermatofibroma',\n",
              " 'dermatofibroma',\n",
              " 'dermatofibroma',\n",
              " 'dermatofibroma',\n",
              " 'dermatofibroma',\n",
              " 'dermatofibroma',\n",
              " 'dermatofibroma',\n",
              " 'dermatofibroma',\n",
              " 'dermatofibroma',\n",
              " 'dermatofibroma',\n",
              " 'dermatofibroma',\n",
              " 'dermatofibroma',\n",
              " 'dermatofibroma',\n",
              " 'dermatofibroma',\n",
              " 'dermatofibroma',\n",
              " 'dermatofibroma',\n",
              " 'dermatofibroma',\n",
              " 'dermatofibroma',\n",
              " 'dermatofibroma',\n",
              " 'dermatofibroma',\n",
              " 'dermatofibroma',\n",
              " 'dermatofibroma',\n",
              " 'dermatofibroma',\n",
              " 'dermatofibroma',\n",
              " 'dermatofibroma',\n",
              " 'dermatofibroma',\n",
              " 'dermatofibroma',\n",
              " 'dermatofibroma',\n",
              " 'dermatofibroma',\n",
              " 'dermatofibroma',\n",
              " 'dermatofibroma',\n",
              " 'dermatofibroma',\n",
              " 'dermatofibroma',\n",
              " 'dermatofibroma',\n",
              " 'dermatofibroma',\n",
              " 'dermatofibroma',\n",
              " 'dermatofibroma',\n",
              " 'dermatofibroma',\n",
              " 'dermatofibroma',\n",
              " 'dermatofibroma',\n",
              " 'dermatofibroma',\n",
              " 'dermatofibroma',\n",
              " 'dermatofibroma',\n",
              " 'dermatofibroma',\n",
              " 'dermatofibroma',\n",
              " 'dermatofibroma',\n",
              " 'dermatofibroma',\n",
              " 'dermatofibroma',\n",
              " 'dermatofibroma',\n",
              " 'dermatofibroma',\n",
              " 'basal cell carcinoma',\n",
              " 'basal cell carcinoma',\n",
              " 'basal cell carcinoma',\n",
              " 'basal cell carcinoma',\n",
              " 'basal cell carcinoma',\n",
              " 'basal cell carcinoma',\n",
              " 'basal cell carcinoma',\n",
              " 'basal cell carcinoma',\n",
              " 'basal cell carcinoma',\n",
              " 'basal cell carcinoma',\n",
              " 'basal cell carcinoma',\n",
              " 'basal cell carcinoma',\n",
              " 'basal cell carcinoma',\n",
              " 'basal cell carcinoma',\n",
              " 'basal cell carcinoma',\n",
              " 'basal cell carcinoma',\n",
              " 'basal cell carcinoma',\n",
              " 'basal cell carcinoma',\n",
              " 'basal cell carcinoma',\n",
              " 'basal cell carcinoma',\n",
              " 'basal cell carcinoma',\n",
              " 'basal cell carcinoma',\n",
              " 'basal cell carcinoma',\n",
              " 'basal cell carcinoma',\n",
              " 'basal cell carcinoma',\n",
              " 'basal cell carcinoma',\n",
              " 'basal cell carcinoma',\n",
              " 'basal cell carcinoma',\n",
              " 'basal cell carcinoma',\n",
              " 'basal cell carcinoma',\n",
              " 'basal cell carcinoma',\n",
              " 'basal cell carcinoma',\n",
              " 'basal cell carcinoma',\n",
              " 'basal cell carcinoma',\n",
              " 'basal cell carcinoma',\n",
              " 'basal cell carcinoma',\n",
              " 'basal cell carcinoma',\n",
              " 'basal cell carcinoma',\n",
              " 'basal cell carcinoma',\n",
              " 'basal cell carcinoma',\n",
              " 'basal cell carcinoma',\n",
              " 'basal cell carcinoma',\n",
              " 'basal cell carcinoma',\n",
              " 'basal cell carcinoma',\n",
              " 'basal cell carcinoma',\n",
              " 'basal cell carcinoma',\n",
              " 'basal cell carcinoma',\n",
              " 'basal cell carcinoma',\n",
              " 'basal cell carcinoma',\n",
              " 'basal cell carcinoma',\n",
              " 'basal cell carcinoma',\n",
              " 'basal cell carcinoma',\n",
              " 'basal cell carcinoma',\n",
              " 'basal cell carcinoma',\n",
              " 'basal cell carcinoma',\n",
              " 'basal cell carcinoma',\n",
              " 'basal cell carcinoma',\n",
              " 'basal cell carcinoma',\n",
              " 'basal cell carcinoma',\n",
              " 'basal cell carcinoma',\n",
              " 'basal cell carcinoma',\n",
              " 'basal cell carcinoma',\n",
              " 'basal cell carcinoma',\n",
              " 'basal cell carcinoma',\n",
              " 'basal cell carcinoma',\n",
              " 'basal cell carcinoma',\n",
              " 'basal cell carcinoma',\n",
              " 'basal cell carcinoma',\n",
              " 'basal cell carcinoma',\n",
              " 'basal cell carcinoma',\n",
              " 'basal cell carcinoma',\n",
              " 'basal cell carcinoma',\n",
              " 'basal cell carcinoma',\n",
              " 'basal cell carcinoma',\n",
              " 'basal cell carcinoma',\n",
              " 'basal cell carcinoma',\n",
              " 'basal cell carcinoma',\n",
              " 'basal cell carcinoma',\n",
              " 'basal cell carcinoma',\n",
              " 'basal cell carcinoma',\n",
              " 'basal cell carcinoma',\n",
              " 'basal cell carcinoma',\n",
              " 'basal cell carcinoma',\n",
              " 'basal cell carcinoma',\n",
              " 'basal cell carcinoma',\n",
              " 'basal cell carcinoma',\n",
              " 'basal cell carcinoma',\n",
              " 'basal cell carcinoma',\n",
              " 'basal cell carcinoma',\n",
              " 'basal cell carcinoma',\n",
              " 'basal cell carcinoma',\n",
              " 'basal cell carcinoma',\n",
              " 'basal cell carcinoma',\n",
              " 'basal cell carcinoma',\n",
              " 'basal cell carcinoma',\n",
              " 'basal cell carcinoma',\n",
              " 'basal cell carcinoma',\n",
              " 'basal cell carcinoma',\n",
              " 'basal cell carcinoma',\n",
              " 'basal cell carcinoma',\n",
              " 'basal cell carcinoma',\n",
              " 'basal cell carcinoma',\n",
              " 'basal cell carcinoma',\n",
              " 'basal cell carcinoma',\n",
              " 'basal cell carcinoma',\n",
              " 'basal cell carcinoma',\n",
              " 'basal cell carcinoma',\n",
              " 'basal cell carcinoma',\n",
              " 'basal cell carcinoma',\n",
              " 'basal cell carcinoma',\n",
              " 'basal cell carcinoma',\n",
              " 'basal cell carcinoma',\n",
              " 'basal cell carcinoma',\n",
              " 'basal cell carcinoma',\n",
              " 'basal cell carcinoma',\n",
              " 'basal cell carcinoma',\n",
              " 'basal cell carcinoma',\n",
              " 'basal cell carcinoma',\n",
              " 'basal cell carcinoma',\n",
              " 'basal cell carcinoma',\n",
              " 'basal cell carcinoma',\n",
              " 'basal cell carcinoma',\n",
              " 'basal cell carcinoma',\n",
              " 'basal cell carcinoma',\n",
              " 'basal cell carcinoma',\n",
              " 'basal cell carcinoma',\n",
              " 'basal cell carcinoma',\n",
              " 'basal cell carcinoma',\n",
              " 'basal cell carcinoma',\n",
              " 'basal cell carcinoma',\n",
              " 'basal cell carcinoma',\n",
              " 'basal cell carcinoma',\n",
              " 'basal cell carcinoma',\n",
              " 'basal cell carcinoma',\n",
              " 'basal cell carcinoma',\n",
              " 'basal cell carcinoma',\n",
              " 'basal cell carcinoma',\n",
              " 'basal cell carcinoma',\n",
              " 'basal cell carcinoma',\n",
              " 'basal cell carcinoma',\n",
              " 'basal cell carcinoma',\n",
              " 'basal cell carcinoma',\n",
              " 'basal cell carcinoma',\n",
              " 'basal cell carcinoma',\n",
              " 'basal cell carcinoma',\n",
              " 'basal cell carcinoma',\n",
              " 'basal cell carcinoma',\n",
              " 'basal cell carcinoma',\n",
              " 'basal cell carcinoma',\n",
              " 'basal cell carcinoma',\n",
              " 'basal cell carcinoma',\n",
              " 'basal cell carcinoma',\n",
              " 'basal cell carcinoma',\n",
              " 'basal cell carcinoma',\n",
              " 'basal cell carcinoma',\n",
              " 'basal cell carcinoma',\n",
              " 'basal cell carcinoma',\n",
              " 'basal cell carcinoma',\n",
              " 'basal cell carcinoma',\n",
              " 'basal cell carcinoma',\n",
              " 'basal cell carcinoma',\n",
              " 'basal cell carcinoma',\n",
              " 'basal cell carcinoma',\n",
              " 'basal cell carcinoma',\n",
              " 'basal cell carcinoma',\n",
              " 'basal cell carcinoma',\n",
              " 'basal cell carcinoma',\n",
              " 'basal cell carcinoma',\n",
              " 'basal cell carcinoma',\n",
              " 'basal cell carcinoma',\n",
              " 'basal cell carcinoma',\n",
              " 'basal cell carcinoma',\n",
              " 'basal cell carcinoma',\n",
              " 'basal cell carcinoma',\n",
              " 'basal cell carcinoma',\n",
              " 'basal cell carcinoma',\n",
              " 'basal cell carcinoma',\n",
              " 'basal cell carcinoma',\n",
              " 'basal cell carcinoma',\n",
              " 'basal cell carcinoma',\n",
              " 'basal cell carcinoma',\n",
              " 'basal cell carcinoma',\n",
              " 'basal cell carcinoma',\n",
              " 'basal cell carcinoma',\n",
              " 'basal cell carcinoma',\n",
              " 'basal cell carcinoma',\n",
              " 'basal cell carcinoma',\n",
              " 'basal cell carcinoma',\n",
              " 'basal cell carcinoma',\n",
              " 'basal cell carcinoma',\n",
              " 'basal cell carcinoma',\n",
              " 'basal cell carcinoma',\n",
              " 'basal cell carcinoma',\n",
              " 'basal cell carcinoma',\n",
              " 'basal cell carcinoma',\n",
              " 'basal cell carcinoma',\n",
              " 'basal cell carcinoma',\n",
              " 'basal cell carcinoma',\n",
              " 'basal cell carcinoma',\n",
              " 'basal cell carcinoma',\n",
              " 'basal cell carcinoma',\n",
              " 'basal cell carcinoma',\n",
              " 'basal cell carcinoma',\n",
              " 'basal cell carcinoma',\n",
              " 'basal cell carcinoma',\n",
              " 'basal cell carcinoma',\n",
              " 'basal cell carcinoma',\n",
              " 'basal cell carcinoma',\n",
              " 'basal cell carcinoma',\n",
              " 'basal cell carcinoma',\n",
              " 'basal cell carcinoma',\n",
              " 'basal cell carcinoma',\n",
              " 'basal cell carcinoma',\n",
              " 'basal cell carcinoma',\n",
              " 'basal cell carcinoma',\n",
              " 'basal cell carcinoma',\n",
              " 'basal cell carcinoma',\n",
              " 'basal cell carcinoma',\n",
              " 'basal cell carcinoma',\n",
              " 'basal cell carcinoma',\n",
              " 'basal cell carcinoma',\n",
              " 'basal cell carcinoma',\n",
              " 'basal cell carcinoma',\n",
              " 'basal cell carcinoma',\n",
              " 'basal cell carcinoma',\n",
              " 'basal cell carcinoma',\n",
              " 'basal cell carcinoma',\n",
              " 'basal cell carcinoma',\n",
              " 'basal cell carcinoma',\n",
              " 'basal cell carcinoma',\n",
              " 'basal cell carcinoma',\n",
              " 'basal cell carcinoma',\n",
              " 'basal cell carcinoma',\n",
              " 'basal cell carcinoma',\n",
              " 'basal cell carcinoma',\n",
              " 'basal cell carcinoma',\n",
              " 'basal cell carcinoma',\n",
              " 'basal cell carcinoma',\n",
              " 'basal cell carcinoma',\n",
              " 'basal cell carcinoma',\n",
              " 'basal cell carcinoma',\n",
              " 'basal cell carcinoma',\n",
              " 'basal cell carcinoma',\n",
              " 'basal cell carcinoma',\n",
              " 'basal cell carcinoma',\n",
              " 'basal cell carcinoma',\n",
              " 'basal cell carcinoma',\n",
              " 'basal cell carcinoma',\n",
              " 'basal cell carcinoma',\n",
              " 'basal cell carcinoma',\n",
              " 'basal cell carcinoma',\n",
              " 'basal cell carcinoma',\n",
              " 'basal cell carcinoma',\n",
              " 'basal cell carcinoma',\n",
              " 'basal cell carcinoma',\n",
              " 'basal cell carcinoma',\n",
              " 'basal cell carcinoma',\n",
              " 'basal cell carcinoma',\n",
              " 'basal cell carcinoma',\n",
              " 'basal cell carcinoma',\n",
              " 'basal cell carcinoma',\n",
              " 'basal cell carcinoma',\n",
              " 'basal cell carcinoma',\n",
              " 'basal cell carcinoma',\n",
              " 'basal cell carcinoma',\n",
              " 'basal cell carcinoma',\n",
              " 'basal cell carcinoma',\n",
              " 'basal cell carcinoma',\n",
              " 'basal cell carcinoma',\n",
              " 'basal cell carcinoma',\n",
              " 'basal cell carcinoma',\n",
              " 'basal cell carcinoma',\n",
              " 'basal cell carcinoma',\n",
              " 'basal cell carcinoma',\n",
              " 'basal cell carcinoma',\n",
              " 'basal cell carcinoma',\n",
              " 'basal cell carcinoma',\n",
              " 'basal cell carcinoma',\n",
              " 'basal cell carcinoma',\n",
              " 'basal cell carcinoma',\n",
              " 'basal cell carcinoma',\n",
              " 'basal cell carcinoma',\n",
              " 'basal cell carcinoma',\n",
              " 'basal cell carcinoma',\n",
              " 'basal cell carcinoma',\n",
              " 'basal cell carcinoma',\n",
              " 'basal cell carcinoma',\n",
              " 'basal cell carcinoma',\n",
              " 'basal cell carcinoma',\n",
              " 'basal cell carcinoma',\n",
              " 'basal cell carcinoma',\n",
              " 'basal cell carcinoma',\n",
              " 'basal cell carcinoma',\n",
              " 'basal cell carcinoma',\n",
              " 'basal cell carcinoma',\n",
              " 'basal cell carcinoma',\n",
              " 'basal cell carcinoma',\n",
              " 'basal cell carcinoma',\n",
              " 'basal cell carcinoma',\n",
              " 'basal cell carcinoma',\n",
              " 'basal cell carcinoma',\n",
              " 'basal cell carcinoma',\n",
              " 'basal cell carcinoma',\n",
              " 'basal cell carcinoma',\n",
              " 'basal cell carcinoma',\n",
              " 'basal cell carcinoma',\n",
              " 'basal cell carcinoma',\n",
              " 'basal cell carcinoma',\n",
              " 'basal cell carcinoma',\n",
              " 'basal cell carcinoma',\n",
              " 'basal cell carcinoma',\n",
              " 'basal cell carcinoma',\n",
              " 'basal cell carcinoma',\n",
              " 'basal cell carcinoma',\n",
              " 'basal cell carcinoma',\n",
              " 'basal cell carcinoma',\n",
              " 'basal cell carcinoma',\n",
              " 'basal cell carcinoma',\n",
              " 'basal cell carcinoma',\n",
              " 'basal cell carcinoma',\n",
              " 'basal cell carcinoma',\n",
              " 'basal cell carcinoma',\n",
              " 'basal cell carcinoma',\n",
              " 'basal cell carcinoma',\n",
              " 'basal cell carcinoma',\n",
              " 'basal cell carcinoma',\n",
              " 'basal cell carcinoma',\n",
              " 'basal cell carcinoma',\n",
              " 'basal cell carcinoma',\n",
              " 'basal cell carcinoma',\n",
              " 'basal cell carcinoma',\n",
              " 'basal cell carcinoma',\n",
              " 'basal cell carcinoma',\n",
              " 'basal cell carcinoma',\n",
              " 'basal cell carcinoma',\n",
              " 'basal cell carcinoma',\n",
              " 'basal cell carcinoma',\n",
              " 'basal cell carcinoma',\n",
              " 'basal cell carcinoma',\n",
              " 'basal cell carcinoma',\n",
              " 'basal cell carcinoma',\n",
              " 'basal cell carcinoma',\n",
              " 'basal cell carcinoma',\n",
              " 'basal cell carcinoma',\n",
              " 'basal cell carcinoma',\n",
              " 'basal cell carcinoma',\n",
              " 'basal cell carcinoma',\n",
              " 'basal cell carcinoma',\n",
              " 'basal cell carcinoma',\n",
              " 'basal cell carcinoma',\n",
              " 'basal cell carcinoma',\n",
              " 'basal cell carcinoma',\n",
              " 'basal cell carcinoma',\n",
              " 'basal cell carcinoma',\n",
              " 'basal cell carcinoma',\n",
              " 'basal cell carcinoma',\n",
              " 'basal cell carcinoma',\n",
              " 'basal cell carcinoma',\n",
              " 'basal cell carcinoma',\n",
              " 'basal cell carcinoma',\n",
              " 'basal cell carcinoma',\n",
              " 'basal cell carcinoma',\n",
              " 'basal cell carcinoma',\n",
              " 'basal cell carcinoma',\n",
              " 'basal cell carcinoma',\n",
              " 'basal cell carcinoma',\n",
              " 'basal cell carcinoma',\n",
              " 'basal cell carcinoma',\n",
              " 'basal cell carcinoma',\n",
              " 'basal cell carcinoma',\n",
              " 'basal cell carcinoma',\n",
              " 'basal cell carcinoma',\n",
              " 'basal cell carcinoma',\n",
              " 'basal cell carcinoma',\n",
              " 'basal cell carcinoma',\n",
              " 'basal cell carcinoma',\n",
              " 'basal cell carcinoma',\n",
              " 'basal cell carcinoma',\n",
              " 'basal cell carcinoma',\n",
              " 'basal cell carcinoma',\n",
              " 'basal cell carcinoma',\n",
              " 'basal cell carcinoma',\n",
              " 'basal cell carcinoma',\n",
              " 'basal cell carcinoma',\n",
              " 'basal cell carcinoma',\n",
              " 'basal cell carcinoma',\n",
              " 'basal cell carcinoma',\n",
              " 'basal cell carcinoma',\n",
              " 'basal cell carcinoma',\n",
              " 'basal cell carcinoma',\n",
              " 'basal cell carcinoma',\n",
              " 'basal cell carcinoma',\n",
              " 'basal cell carcinoma',\n",
              " 'basal cell carcinoma',\n",
              " 'basal cell carcinoma',\n",
              " 'basal cell carcinoma',\n",
              " 'basal cell carcinoma',\n",
              " 'basal cell carcinoma',\n",
              " 'basal cell carcinoma',\n",
              " 'basal cell carcinoma',\n",
              " 'basal cell carcinoma',\n",
              " 'basal cell carcinoma',\n",
              " 'basal cell carcinoma',\n",
              " 'basal cell carcinoma',\n",
              " 'basal cell carcinoma',\n",
              " 'basal cell carcinoma',\n",
              " 'basal cell carcinoma',\n",
              " 'basal cell carcinoma',\n",
              " 'basal cell carcinoma',\n",
              " 'basal cell carcinoma',\n",
              " 'basal cell carcinoma',\n",
              " 'basal cell carcinoma',\n",
              " 'basal cell carcinoma',\n",
              " 'basal cell carcinoma',\n",
              " 'basal cell carcinoma',\n",
              " 'basal cell carcinoma',\n",
              " 'basal cell carcinoma',\n",
              " 'basal cell carcinoma',\n",
              " 'basal cell carcinoma',\n",
              " 'basal cell carcinoma',\n",
              " 'basal cell carcinoma',\n",
              " 'basal cell carcinoma',\n",
              " 'basal cell carcinoma',\n",
              " 'basal cell carcinoma',\n",
              " 'basal cell carcinoma',\n",
              " 'basal cell carcinoma',\n",
              " 'basal cell carcinoma',\n",
              " 'basal cell carcinoma',\n",
              " 'basal cell carcinoma',\n",
              " 'basal cell carcinoma',\n",
              " 'basal cell carcinoma',\n",
              " 'basal cell carcinoma',\n",
              " 'basal cell carcinoma',\n",
              " 'basal cell carcinoma',\n",
              " 'basal cell carcinoma',\n",
              " 'basal cell carcinoma',\n",
              " 'basal cell carcinoma',\n",
              " 'basal cell carcinoma',\n",
              " 'basal cell carcinoma',\n",
              " 'basal cell carcinoma',\n",
              " 'basal cell carcinoma',\n",
              " 'basal cell carcinoma',\n",
              " 'basal cell carcinoma',\n",
              " 'basal cell carcinoma',\n",
              " 'basal cell carcinoma',\n",
              " 'basal cell carcinoma',\n",
              " 'basal cell carcinoma',\n",
              " 'basal cell carcinoma',\n",
              " 'basal cell carcinoma',\n",
              " 'basal cell carcinoma',\n",
              " 'basal cell carcinoma',\n",
              " 'basal cell carcinoma',\n",
              " 'basal cell carcinoma',\n",
              " 'basal cell carcinoma',\n",
              " 'basal cell carcinoma',\n",
              " 'basal cell carcinoma',\n",
              " 'basal cell carcinoma',\n",
              " 'basal cell carcinoma',\n",
              " 'basal cell carcinoma',\n",
              " 'basal cell carcinoma',\n",
              " 'basal cell carcinoma',\n",
              " 'basal cell carcinoma',\n",
              " 'basal cell carcinoma',\n",
              " 'basal cell carcinoma',\n",
              " 'basal cell carcinoma',\n",
              " 'basal cell carcinoma',\n",
              " 'basal cell carcinoma',\n",
              " 'basal cell carcinoma',\n",
              " 'basal cell carcinoma',\n",
              " 'basal cell carcinoma',\n",
              " 'basal cell carcinoma',\n",
              " 'basal cell carcinoma',\n",
              " 'basal cell carcinoma',\n",
              " 'basal cell carcinoma',\n",
              " 'basal cell carcinoma',\n",
              " 'basal cell carcinoma',\n",
              " 'basal cell carcinoma',\n",
              " 'basal cell carcinoma',\n",
              " 'basal cell carcinoma',\n",
              " 'basal cell carcinoma',\n",
              " 'basal cell carcinoma',\n",
              " 'basal cell carcinoma',\n",
              " 'basal cell carcinoma',\n",
              " 'basal cell carcinoma',\n",
              " 'basal cell carcinoma',\n",
              " 'basal cell carcinoma',\n",
              " 'basal cell carcinoma',\n",
              " 'basal cell carcinoma',\n",
              " 'basal cell carcinoma',\n",
              " 'basal cell carcinoma',\n",
              " 'basal cell carcinoma',\n",
              " 'basal cell carcinoma',\n",
              " 'basal cell carcinoma',\n",
              " 'basal cell carcinoma',\n",
              " 'basal cell carcinoma',\n",
              " 'basal cell carcinoma',\n",
              " 'basal cell carcinoma',\n",
              " 'basal cell carcinoma',\n",
              " 'basal cell carcinoma',\n",
              " 'basal cell carcinoma',\n",
              " ...]"
            ]
          },
          "metadata": {},
          "execution_count": 27
        }
      ],
      "source": [
        "lesion_list_new = [os.path.basename(os.path.dirname(os.path.dirname(y))) for y in glob(os.path.join(data_dir_train, '*','output', '*.jpg'))]\n",
        "lesion_list_new\n"
      ]
    },
    {
      "cell_type": "code",
      "execution_count": 28,
      "metadata": {
        "id": "okcqVFAA2nxK"
      },
      "outputs": [],
      "source": [
        "dataframe_dict_new = dict(zip(path_list, lesion_list_new))"
      ]
    },
    {
      "cell_type": "code",
      "execution_count": 29,
      "metadata": {
        "id": "njzBxTNT2nxK"
      },
      "outputs": [],
      "source": [
        "df2 = pd.DataFrame(list(dataframe_dict_new.items()),columns = ['Path','Label'])\n",
        "new_df = df2"
      ]
    },
    {
      "cell_type": "code",
      "execution_count": 30,
      "metadata": {
        "id": "5j45rmxd2nxK",
        "colab": {
          "base_uri": "https://localhost:8080/"
        },
        "outputId": "ace581ae-5dea-4790-f795-3c1f6db8826f"
      },
      "outputs": [
        {
          "output_type": "execute_result",
          "data": {
            "text/plain": [
              "dermatofibroma                500\n",
              "basal cell carcinoma          500\n",
              "squamous cell carcinoma       500\n",
              "nevus                         500\n",
              "actinic keratosis             500\n",
              "melanoma                      500\n",
              "vascular lesion               500\n",
              "seborrheic keratosis          500\n",
              "pigmented benign keratosis    500\n",
              "Name: Label, dtype: int64"
            ]
          },
          "metadata": {},
          "execution_count": 30
        }
      ],
      "source": [
        "new_df['Label'].value_counts()"
      ]
    },
    {
      "cell_type": "markdown",
      "metadata": {
        "id": "9NirFBvGPmgI"
      },
      "source": [
        "So, now we have added 500 images to all the classes to maintain some class balance. We can add more images as we want to improve training process."
      ]
    },
    {
      "cell_type": "markdown",
      "metadata": {
        "id": "9EnspeMbRWNs"
      },
      "source": [
        "#### **Todo**: Train the model on the data created using Augmentor"
      ]
    },
    {
      "cell_type": "code",
      "execution_count": 31,
      "metadata": {
        "id": "hFcj1XgndRWz"
      },
      "outputs": [],
      "source": [
        "batch_size = 32\n",
        "img_height = 180\n",
        "img_width = 180"
      ]
    },
    {
      "cell_type": "markdown",
      "metadata": {
        "id": "0haOU11Ey8ey"
      },
      "source": [
        "#### **Todo:** Create a training dataset"
      ]
    },
    {
      "cell_type": "code",
      "execution_count": 44,
      "metadata": {
        "id": "H4ZY11judRWz",
        "colab": {
          "base_uri": "https://localhost:8080/"
        },
        "outputId": "c8435bf0-18e9-4562-8e9e-ff05faa8be4b"
      },
      "outputs": [
        {
          "output_type": "stream",
          "name": "stdout",
          "text": [
            "Found 6739 files belonging to 9 classes.\n",
            "Using 5392 files for training.\n"
          ]
        }
      ],
      "source": [
        "data_dir_train = pathlib.Path(\"/content/gdrive/My Drive/GoogleCoLab/SkinImagingCollaboration/Train/\")\n",
        "train_ds = tf.keras.preprocessing.image_dataset_from_directory(\n",
        "  data_dir_train,\n",
        "  seed=123,\n",
        "  label_mode='categorical',\n",
        "  validation_split = 0.2,\n",
        "  subset = \"training\",\n",
        "  image_size=(img_height, img_width),\n",
        "  batch_size=batch_size)"
      ]
    },
    {
      "cell_type": "markdown",
      "metadata": {
        "id": "mwNJVDuBP5kf"
      },
      "source": [
        "#### **Todo:** Create a validation dataset"
      ]
    },
    {
      "cell_type": "code",
      "execution_count": 45,
      "metadata": {
        "id": "TX191d_3dRW0",
        "colab": {
          "base_uri": "https://localhost:8080/"
        },
        "outputId": "56b77aeb-e5a7-464d-8ffe-8e8ac44259d2"
      },
      "outputs": [
        {
          "output_type": "stream",
          "name": "stdout",
          "text": [
            "Found 6739 files belonging to 9 classes.\n",
            "Using 1347 files for validation.\n"
          ]
        }
      ],
      "source": [
        "val_ds = tf.keras.preprocessing.image_dataset_from_directory(\n",
        "  data_dir_train,\n",
        "  seed=123,\n",
        "  label_mode='categorical',\n",
        "  validation_split = 0.2,\n",
        "  subset = 'validation',\n",
        "  image_size=(img_height, img_width),\n",
        "  batch_size=batch_size)"
      ]
    },
    {
      "cell_type": "markdown",
      "metadata": {
        "id": "JaoWeOEpVjqH"
      },
      "source": [
        "#### **Todo:** Create your model (make sure to include normalization)"
      ]
    },
    {
      "cell_type": "code",
      "execution_count": 46,
      "metadata": {
        "id": "Ch0MuKvFVr7O"
      },
      "outputs": [],
      "source": [
        "model=Sequential([\n",
        "    tf.keras.layers.experimental.preprocessing.Rescaling(scale=1./255., offset=0.0,),         \n",
        "    \n",
        "    Conv2D(32,(3,3),input_shape=(img_height,img_width,3),activation='relu',padding='same'),\n",
        "    MaxPooling2D(pool_size=(2,2)),\n",
        "    Dropout(0.1),\n",
        "    \n",
        "    Conv2D(64,(3,3),activation='relu',padding='same'),\n",
        "    MaxPooling2D(pool_size=(2,2)),\n",
        "    Dropout(0.1),\n",
        "    \n",
        "    Flatten(),\n",
        "    Dense(128, activation='relu'),\n",
        "    Dropout(0.25),   \n",
        "    Dense(9, activation='softmax')\n",
        "])"
      ]
    },
    {
      "cell_type": "markdown",
      "metadata": {
        "id": "Bu5N9LxkVx1B"
      },
      "source": [
        "#### **Todo:** Compile your model (Choose optimizer and loss function appropriately)"
      ]
    },
    {
      "cell_type": "code",
      "execution_count": 47,
      "metadata": {
        "id": "H47GWmLbdRW1"
      },
      "outputs": [],
      "source": [
        "\n",
        "model.compile(optimizer='adam',\n",
        "              loss='categorical_crossentropy',\n",
        "              metrics=['accuracy'])\n"
      ]
    },
    {
      "cell_type": "code",
      "source": [
        "val_ds"
      ],
      "metadata": {
        "colab": {
          "base_uri": "https://localhost:8080/"
        },
        "id": "aHiUJ9xFTlpB",
        "outputId": "9de90bc9-ebb0-491d-f656-7764de85295a"
      },
      "execution_count": 48,
      "outputs": [
        {
          "output_type": "execute_result",
          "data": {
            "text/plain": [
              "<BatchDataset element_spec=(TensorSpec(shape=(None, 180, 180, 3), dtype=tf.float32, name=None), TensorSpec(shape=(None, 9), dtype=tf.float32, name=None))>"
            ]
          },
          "metadata": {},
          "execution_count": 48
        }
      ]
    },
    {
      "cell_type": "code",
      "source": [
        "train_ds"
      ],
      "metadata": {
        "colab": {
          "base_uri": "https://localhost:8080/"
        },
        "id": "OgiWIVQJTbYP",
        "outputId": "d5902d49-853a-46e7-d658-0a5e7d63dd8e"
      },
      "execution_count": 49,
      "outputs": [
        {
          "output_type": "execute_result",
          "data": {
            "text/plain": [
              "<BatchDataset element_spec=(TensorSpec(shape=(None, 180, 180, 3), dtype=tf.float32, name=None), TensorSpec(shape=(None, 9), dtype=tf.float32, name=None))>"
            ]
          },
          "metadata": {},
          "execution_count": 49
        }
      ]
    },
    {
      "cell_type": "markdown",
      "metadata": {
        "id": "9gS-Y1bJV7uy"
      },
      "source": [
        "#### **Todo:**  Train your model"
      ]
    },
    {
      "cell_type": "code",
      "execution_count": 50,
      "metadata": {
        "id": "fcV6OdI4dRW1",
        "colab": {
          "base_uri": "https://localhost:8080/"
        },
        "outputId": "93309a9a-739e-48ca-836a-edb97a210bdc"
      },
      "outputs": [
        {
          "output_type": "stream",
          "name": "stdout",
          "text": [
            "Epoch 1/30\n",
            "169/169 [==============================] - 34s 192ms/step - loss: 2.6276 - accuracy: 0.2064 - val_loss: 1.8375 - val_accuracy: 0.3541\n",
            "Epoch 2/30\n",
            "169/169 [==============================] - 32s 183ms/step - loss: 1.6285 - accuracy: 0.3833 - val_loss: 1.6209 - val_accuracy: 0.4224\n",
            "Epoch 3/30\n",
            "169/169 [==============================] - 32s 182ms/step - loss: 1.4146 - accuracy: 0.4687 - val_loss: 1.3186 - val_accuracy: 0.5226\n",
            "Epoch 4/30\n",
            "169/169 [==============================] - 32s 183ms/step - loss: 1.2425 - accuracy: 0.5401 - val_loss: 1.2076 - val_accuracy: 0.5419\n",
            "Epoch 5/30\n",
            "169/169 [==============================] - 32s 181ms/step - loss: 1.0940 - accuracy: 0.5924 - val_loss: 1.0823 - val_accuracy: 0.6021\n",
            "Epoch 6/30\n",
            "169/169 [==============================] - 32s 182ms/step - loss: 1.0003 - accuracy: 0.6376 - val_loss: 1.0325 - val_accuracy: 0.6422\n",
            "Epoch 7/30\n",
            "169/169 [==============================] - 32s 185ms/step - loss: 0.8650 - accuracy: 0.6864 - val_loss: 0.9731 - val_accuracy: 0.6630\n",
            "Epoch 8/30\n",
            "169/169 [==============================] - 32s 183ms/step - loss: 0.7527 - accuracy: 0.7240 - val_loss: 0.9449 - val_accuracy: 0.6785\n",
            "Epoch 9/30\n",
            "169/169 [==============================] - 32s 183ms/step - loss: 0.6453 - accuracy: 0.7726 - val_loss: 0.7808 - val_accuracy: 0.7298\n",
            "Epoch 10/30\n",
            "169/169 [==============================] - 32s 183ms/step - loss: 0.6006 - accuracy: 0.7882 - val_loss: 0.7137 - val_accuracy: 0.7572\n",
            "Epoch 11/30\n",
            "169/169 [==============================] - 32s 184ms/step - loss: 0.5189 - accuracy: 0.8205 - val_loss: 0.6832 - val_accuracy: 0.7862\n",
            "Epoch 12/30\n",
            "169/169 [==============================] - 32s 182ms/step - loss: 0.4625 - accuracy: 0.8398 - val_loss: 0.7527 - val_accuracy: 0.7602\n",
            "Epoch 13/30\n",
            "169/169 [==============================] - 32s 182ms/step - loss: 0.4185 - accuracy: 0.8498 - val_loss: 0.6769 - val_accuracy: 0.7751\n",
            "Epoch 14/30\n",
            "169/169 [==============================] - 32s 182ms/step - loss: 0.3932 - accuracy: 0.8663 - val_loss: 0.6095 - val_accuracy: 0.8077\n",
            "Epoch 15/30\n",
            "169/169 [==============================] - 32s 181ms/step - loss: 0.3315 - accuracy: 0.8858 - val_loss: 0.7767 - val_accuracy: 0.7491\n",
            "Epoch 16/30\n",
            "169/169 [==============================] - 32s 181ms/step - loss: 0.3094 - accuracy: 0.8911 - val_loss: 0.6247 - val_accuracy: 0.8181\n",
            "Epoch 17/30\n",
            "169/169 [==============================] - 31s 180ms/step - loss: 0.2637 - accuracy: 0.9104 - val_loss: 0.5881 - val_accuracy: 0.8285\n",
            "Epoch 18/30\n",
            "169/169 [==============================] - 31s 180ms/step - loss: 0.2457 - accuracy: 0.9123 - val_loss: 0.7394 - val_accuracy: 0.7899\n",
            "Epoch 19/30\n",
            "169/169 [==============================] - 32s 182ms/step - loss: 0.2529 - accuracy: 0.9093 - val_loss: 0.7237 - val_accuracy: 0.7899\n",
            "Epoch 20/30\n",
            "169/169 [==============================] - 32s 181ms/step - loss: 0.2272 - accuracy: 0.9206 - val_loss: 0.6747 - val_accuracy: 0.8270\n",
            "Epoch 21/30\n",
            "169/169 [==============================] - 31s 177ms/step - loss: 0.1987 - accuracy: 0.9253 - val_loss: 0.7871 - val_accuracy: 0.8010\n",
            "Epoch 22/30\n",
            "169/169 [==============================] - 31s 178ms/step - loss: 0.2520 - accuracy: 0.9106 - val_loss: 0.6379 - val_accuracy: 0.8315\n",
            "Epoch 23/30\n",
            "169/169 [==============================] - 31s 177ms/step - loss: 0.2076 - accuracy: 0.9243 - val_loss: 0.7794 - val_accuracy: 0.8107\n",
            "Epoch 24/30\n",
            "169/169 [==============================] - 31s 176ms/step - loss: 0.2123 - accuracy: 0.9245 - val_loss: 0.8969 - val_accuracy: 0.7810\n",
            "Epoch 25/30\n",
            "169/169 [==============================] - 31s 177ms/step - loss: 0.1811 - accuracy: 0.9338 - val_loss: 0.6939 - val_accuracy: 0.8255\n",
            "Epoch 26/30\n",
            "169/169 [==============================] - 31s 176ms/step - loss: 0.1967 - accuracy: 0.9305 - val_loss: 0.7507 - val_accuracy: 0.8382\n",
            "Epoch 27/30\n",
            "169/169 [==============================] - 30s 175ms/step - loss: 0.1798 - accuracy: 0.9321 - val_loss: 0.8114 - val_accuracy: 0.7884\n",
            "Epoch 28/30\n",
            "169/169 [==============================] - 30s 175ms/step - loss: 0.1955 - accuracy: 0.9286 - val_loss: 0.8305 - val_accuracy: 0.7966\n",
            "Epoch 29/30\n",
            "169/169 [==============================] - 30s 175ms/step - loss: 0.1737 - accuracy: 0.9323 - val_loss: 0.7667 - val_accuracy: 0.8166\n",
            "Epoch 30/30\n",
            "169/169 [==============================] - 31s 175ms/step - loss: 0.1695 - accuracy: 0.9388 - val_loss: 0.8755 - val_accuracy: 0.8099\n"
          ]
        }
      ],
      "source": [
        "epochs = 30\n",
        "history = model.fit(\n",
        "  train_ds,\n",
        "  validation_data=val_ds,\n",
        "  epochs=epochs\n",
        ")\n"
      ]
    },
    {
      "cell_type": "markdown",
      "metadata": {
        "id": "iuvfCTsBWLMp"
      },
      "source": [
        "#### **Todo:**  Visualize the model results"
      ]
    },
    {
      "cell_type": "code",
      "execution_count": 51,
      "metadata": {
        "id": "lCTXwfkTdRW1",
        "colab": {
          "base_uri": "https://localhost:8080/",
          "height": 499
        },
        "outputId": "725ddd12-4417-477e-8863-43f079f9106a"
      },
      "outputs": [
        {
          "output_type": "display_data",
          "data": {
            "text/plain": [
              "<Figure size 576x576 with 2 Axes>"
            ],
            "image/png": "[encoded data removed]"
          },
          "metadata": {
            "needs_background": "light"
          }
        }
      ],
      "source": [
        "acc = history.history['accuracy']\n",
        "val_acc = history.history['val_accuracy']\n",
        "\n",
        "loss = history.history['loss']\n",
        "val_loss = history.history['val_loss']\n",
        "\n",
        "epochs_range = range(epochs)\n",
        "\n",
        "plt.figure(figsize=(8, 8))\n",
        "plt.subplot(1, 2, 1)\n",
        "plt.plot(epochs_range, acc, label='Training Accuracy')\n",
        "plt.plot(epochs_range, val_acc, label='Validation Accuracy')\n",
        "plt.legend(loc='lower right')\n",
        "plt.title('Training and Validation Accuracy')\n",
        "\n",
        "plt.subplot(1, 2, 2)\n",
        "plt.plot(epochs_range, loss, label='Training Loss')\n",
        "plt.plot(epochs_range, val_loss, label='Validation Loss')\n",
        "plt.legend(loc='upper right')\n",
        "plt.title('Training and Validation Loss')\n",
        "plt.show()"
      ]
    },
    {
      "cell_type": "markdown",
      "metadata": {
        "id": "Way4lakC4_p0"
      },
      "source": [
        "#### **Todo:**  Analyze your results here. Did you get rid of underfitting/overfitting? Did class rebalance help?\n",
        "\n"
      ]
    },
    {
      "cell_type": "markdown",
      "source": [
        "Training accuracy is around 90% and  Validation Accuracy is around 80%. Since there is no much gap between Training and validation accuracy, there is no oveerfit. \n",
        "\n",
        "Augmentation and more epochs helped in removing the overfit to some extent. \n",
        "\n"
      ],
      "metadata": {
        "id": "wJ6joWbW02qa"
      }
    },
    {
      "cell_type": "code",
      "source": [
        ""
      ],
      "metadata": {
        "id": "wR3xfZal1jXC"
      },
      "execution_count": null,
      "outputs": []
    }
  ],
  "metadata": {
    "accelerator": "GPU",
    "colab": {
      "name": "CNN_Skin_Cancer.ipynb",
      "provenance": []
    },
    "gpuClass": "standard",
    "kernelspec": {
      "display_name": "Python 3",
      "name": "python3"
    }
  },
  "nbformat": 4,
  "nbformat_minor": 0
}